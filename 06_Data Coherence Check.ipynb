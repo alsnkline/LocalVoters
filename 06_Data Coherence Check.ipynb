{
 "cells": [
  {
   "cell_type": "markdown",
   "metadata": {},
   "source": [
    "# Check that the clean Household data and Voter data are coherent\n",
    "Loading both files and grouping the Voter data to confirm that the resulting data will match the Household data."
   ]
  },
  {
   "cell_type": "code",
   "execution_count": 1,
   "metadata": {
    "collapsed": true
   },
   "outputs": [],
   "source": [
    "# imports\n",
    "import pandas as pd\n",
    "\n",
    "from modules.lv_utils import find_changes"
   ]
  },
  {
   "cell_type": "code",
   "execution_count": 2,
   "metadata": {},
   "outputs": [
    {
     "data": {
      "text/plain": [
       "Index(['Hid', 'StreetType', 'Zip', 'Precinct', 'PrecinctSub', 'District',\n",
       "       'CityArea', 'isApt', 'cHid'],\n",
       "      dtype='object')"
      ]
     },
     "execution_count": 2,
     "metadata": {},
     "output_type": "execute_result"
    }
   ],
   "source": [
    "v = pd.read_csv('data_clean/20180627_voters_district3.csv')\n",
    "h = pd.read_csv('data_clean/20180627_households_district3.csv')\n",
    "h.columns"
   ]
  },
  {
   "cell_type": "code",
   "execution_count": 3,
   "metadata": {},
   "outputs": [
    {
     "name": "stdout",
     "output_type": "stream",
     "text": [
      "(6930, 9)\n"
     ]
    },
    {
     "data": {
      "text/html": [
       "<div>\n",
       "<style scoped>\n",
       "    .dataframe tbody tr th:only-of-type {\n",
       "        vertical-align: middle;\n",
       "    }\n",
       "\n",
       "    .dataframe tbody tr th {\n",
       "        vertical-align: top;\n",
       "    }\n",
       "\n",
       "    .dataframe thead th {\n",
       "        text-align: right;\n",
       "    }\n",
       "</style>\n",
       "<table border=\"1\" class=\"dataframe\">\n",
       "  <thead>\n",
       "    <tr style=\"text-align: right;\">\n",
       "      <th></th>\n",
       "      <th>Hid</th>\n",
       "      <th>cHid</th>\n",
       "      <th>Precinct</th>\n",
       "      <th>PrecinctSub</th>\n",
       "      <th>StreetType</th>\n",
       "      <th>Zip</th>\n",
       "      <th>District</th>\n",
       "      <th>isApt</th>\n",
       "      <th>Vid</th>\n",
       "    </tr>\n",
       "  </thead>\n",
       "  <tbody>\n",
       "  </tbody>\n",
       "</table>\n",
       "</div>"
      ],
      "text/plain": [
       "Empty DataFrame\n",
       "Columns: [Hid, cHid, Precinct, PrecinctSub, StreetType, Zip, District, isApt, Vid]\n",
       "Index: []"
      ]
     },
     "execution_count": 3,
     "metadata": {},
     "output_type": "execute_result"
    }
   ],
   "source": [
    "h_fm_v = v[['Hid','cHid','Vid','Precinct','PrecinctSub','StreetType','Zip','District',\n",
    "            'isApt']].groupby(['Hid','cHid','Precinct','PrecinctSub','StreetType','Zip',\n",
    "                               'District','isApt']).count()\n",
    "h_fm_v.reset_index(inplace=True)\n",
    "print(h_fm_v.shape)\n",
    "# shows any rows with more than 1 entry after the group\n",
    "inter = [h_fm_v.Hid.value_counts().index[i] for i, x in enumerate(\n",
    "    h_fm_v.Hid.value_counts()) if x>1]\n",
    "#h_fm_v.Hid.value_counts()\n",
    "h_fm_v.loc[h_fm_v.Hid.isin(inter)]"
   ]
  },
  {
   "cell_type": "code",
   "execution_count": 4,
   "metadata": {},
   "outputs": [
    {
     "name": "stdout",
     "output_type": "stream",
     "text": [
      "(0, 4)\n",
      "[]\n"
     ]
    },
    {
     "data": {
      "text/plain": [
       "True"
      ]
     },
     "execution_count": 4,
     "metadata": {},
     "output_type": "execute_result"
    }
   ],
   "source": [
    "from_v = h_fm_v[['Hid','cHid','Precinct','PrecinctSub','StreetType','Zip','District','isApt']]\n",
    "from_h = h[['Hid','cHid','Precinct','PrecinctSub','StreetType','Zip','District','isApt']]\n",
    "find_changes(from_v, from_h)\n",
    "from_v.equals(from_h)"
   ]
  },
  {
   "cell_type": "markdown",
   "metadata": {},
   "source": [
    "## The data are consistent\n",
    "If you load the files setting categories and such then the complex group won't run in a reasonable time."
   ]
  },
  {
   "cell_type": "code",
   "execution_count": null,
   "metadata": {},
   "outputs": [],
   "source": []
  }
 ],
 "metadata": {
  "kernelspec": {
   "display_name": "Python 3",
   "language": "python",
   "name": "python3"
  },
  "language_info": {
   "codemirror_mode": {
    "name": "ipython",
    "version": 3
   },
   "file_extension": ".py",
   "mimetype": "text/x-python",
   "name": "python",
   "nbconvert_exporter": "python",
   "pygments_lexer": "ipython3",
   "version": "3.6.2"
  }
 },
 "nbformat": 4,
 "nbformat_minor": 2
}
