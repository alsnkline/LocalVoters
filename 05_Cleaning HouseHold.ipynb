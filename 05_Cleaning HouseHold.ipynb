{
 "cells": [
  {
   "cell_type": "markdown",
   "metadata": {},
   "source": [
    "# Cleaning the Household data\n",
    "Before further analysis the data was cleaned and PII (Personally Indentifiable Information) removed or obscured."
   ]
  },
  {
   "cell_type": "code",
   "execution_count": 1,
   "metadata": {
    "collapsed": true
   },
   "outputs": [],
   "source": [
    "# imports\n",
    "import pandas as pd"
   ]
  },
  {
   "cell_type": "code",
   "execution_count": 2,
   "metadata": {},
   "outputs": [],
   "source": [
    "# load the data\n",
    "households = pd.read_csv('data_raw_NOGIT/180613_households_district3_all_data.txt', sep='\\t')\n",
    "# and a cityarea look up file\n",
    "cityareas = pd.read_csv('data_raw_NOGIT/cityareas_precinct.csv')"
   ]
  },
  {
   "cell_type": "markdown",
   "metadata": {},
   "source": [
    "For the Household data the value_counts() for each column were reviewed and the following was done to clean and anonymize the data:\n",
    "\n",
    "| Original Data Column | Description of action | output column(s) | Type |\n",
    "|:---:|:---|:---:|:---:|\n",
    "| 'Household_Id' | Rows of table were randomly shuffled, the index reset and the new index used as new UID. | 'hid' | Num |\n",
    "| 'FullAddress' | Shown to be concatenation of 'HouseNumber','Street','StreetType', 'BuildingNumber & 'ApartmentNumber' in all but 4 cases where the Apt numbers appeared to be missing or include typo's and then dropped as PII.  | | |\n",
    "| 'HouseNumber' | Dropped as PII. | | |\n",
    "| 'HouseNumberSuffix' | Dropped empty. | | |\n",
    "| 'StreetPrefix' |  Dropped empty. | | |\n",
    "| 'Street' | Used to clean 'StreetType' and then Dropped as PII. | | |\n",
    "| 'StreetType' | ‘CMN’ ‘GREEN’ => ‘GRN’ and two cross streets => ‘UKN’. | 'StreetType' | Cat |\n",
    "| 'BuildingNumber' | Only 3 entries dropped. | | |\n",
    "| 'ApartmentNumber' | Converted to a True/False field. | 'isApt' | Bool |\n",
    "| 'City' | Dropped, all entries are the same. | | |\n",
    "| 'State' | 6 missing rows, dropped as all should be the same. | | |\n",
    "| 'Zip' | Cleaned all to 5 digit numerical zip code entries. | 'Zip' | Num |\n",
    "| 'Precinct' | Converted to number and kept. | 'Precinct' | Num |\n",
    "|  | The Precinct was also used to create a 'CityArea' column | 'CityArea' | Cat |\n",
    "| 'PrecinctSub' | Converted to number and kept. | 'PrecinctSub' | Num |\n",
    "| 'District' | Kept as is in case we need to add in other district data. | 'District' | Num |\n"
   ]
  },
  {
   "cell_type": "code",
   "execution_count": 3,
   "metadata": {},
   "outputs": [
    {
     "name": "stdout",
     "output_type": "stream",
     "text": [
      "Total number of households in data: 6930\n"
     ]
    }
   ],
   "source": [
    "h=households\n",
    "# dropping cityarea so I can add it cleanly shortly\n",
    "h = h.drop('CityArea', axis='columns')\n",
    "print('Total number of households in data: {}'.format(len(h)))"
   ]
  },
  {
   "cell_type": "markdown",
   "metadata": {},
   "source": [
    "### Cleaning StreetType\n",
    "significant data is missing from this column, I used the 'Street' and 'Full address' to identify the missing categories 'GRN', 'UKN' and add them, I was also able to identify that COMMON and COMMONS had not been mapped correctly to 'CMN' and fixed that."
   ]
  },
  {
   "cell_type": "code",
   "execution_count": 4,
   "metadata": {},
   "outputs": [],
   "source": [
    "def get_full_address(row):\n",
    "    \n",
    "    build_num = row.BuildingNumber\n",
    "    apt_num = row.ApartmentNumber\n",
    "    if str(build_num) != 'nan':\n",
    "        build_num = int(row.BuildingNumber)\n",
    "        apt_num = '{}'.format(str(row.ApartmentNumber))\n",
    "    elif str(row.ApartmentNumber) != 'nan':\n",
    "        apt_num = '# {}'.format(str(row.ApartmentNumber))\n",
    "        \n",
    "    row['cc_full_add'] = ' '.join([x for x in [str(row.HouseNumber), row.Street,\n",
    "                                 row.StreetType, str(build_num),\n",
    "                                               apt_num] if str(x) != 'nan'])\n",
    "    return row"
   ]
  },
  {
   "cell_type": "code",
   "execution_count": 5,
   "metadata": {},
   "outputs": [],
   "source": [
    "h = h.apply(get_full_address, axis=1)"
   ]
  },
  {
   "cell_type": "code",
   "execution_count": 6,
   "metadata": {},
   "outputs": [
    {
     "name": "stdout",
     "output_type": "stream",
     "text": [
      "All but 4 address's follow the pattern.\n"
     ]
    },
    {
     "data": {
      "text/html": [
       "<div>\n",
       "<style scoped>\n",
       "    .dataframe tbody tr th:only-of-type {\n",
       "        vertical-align: middle;\n",
       "    }\n",
       "\n",
       "    .dataframe tbody tr th {\n",
       "        vertical-align: top;\n",
       "    }\n",
       "\n",
       "    .dataframe thead th {\n",
       "        text-align: right;\n",
       "    }\n",
       "</style>\n",
       "<table border=\"1\" class=\"dataframe\">\n",
       "  <thead>\n",
       "    <tr style=\"text-align: right;\">\n",
       "      <th></th>\n",
       "      <th>Household_Id</th>\n",
       "      <th>FullAddress</th>\n",
       "      <th>cc_full_add</th>\n",
       "      <th>BuildingNumber</th>\n",
       "    </tr>\n",
       "  </thead>\n",
       "  <tbody>\n",
       "    <tr>\n",
       "      <th>1467</th>\n",
       "      <td>HH-17611</td>\n",
       "      <td>39590 WAINWRIGHT COMMON</td>\n",
       "      <td>39590 WAINWRIGHT COMMON # T</td>\n",
       "      <td>NaN</td>\n",
       "    </tr>\n",
       "    <tr>\n",
       "      <th>4458</th>\n",
       "      <td>HH-20607</td>\n",
       "      <td>3740 BOSWELL TER</td>\n",
       "      <td>3740 BOSWELL TER # 3940</td>\n",
       "      <td>NaN</td>\n",
       "    </tr>\n",
       "    <tr>\n",
       "      <th>5790</th>\n",
       "      <td>HH-21939</td>\n",
       "      <td>39600 FREMONT BLVD # 147</td>\n",
       "      <td>39600 FREMONT BLVD # 14-7</td>\n",
       "      <td>NaN</td>\n",
       "    </tr>\n",
       "    <tr>\n",
       "      <th>5887</th>\n",
       "      <td>HH-22036</td>\n",
       "      <td>39800 FREMONT BLVD # 337</td>\n",
       "      <td>39800 FREMONT BLVD # 3307</td>\n",
       "      <td>NaN</td>\n",
       "    </tr>\n",
       "  </tbody>\n",
       "</table>\n",
       "</div>"
      ],
      "text/plain": [
       "     Household_Id               FullAddress                  cc_full_add  \\\n",
       "1467     HH-17611   39590 WAINWRIGHT COMMON  39590 WAINWRIGHT COMMON # T   \n",
       "4458     HH-20607          3740 BOSWELL TER      3740 BOSWELL TER # 3940   \n",
       "5790     HH-21939  39600 FREMONT BLVD # 147    39600 FREMONT BLVD # 14-7   \n",
       "5887     HH-22036  39800 FREMONT BLVD # 337    39800 FREMONT BLVD # 3307   \n",
       "\n",
       "      BuildingNumber  \n",
       "1467             NaN  \n",
       "4458             NaN  \n",
       "5790             NaN  \n",
       "5887             NaN  "
      ]
     },
     "execution_count": 6,
     "metadata": {},
     "output_type": "execute_result"
    }
   ],
   "source": [
    "h[['FullAddress','cc_full_add']]\n",
    "#assert (h.FullAddress == h.cc_full_add).all()\n",
    "add_issues = h.loc[h['FullAddress'] != h['cc_full_add'], ['Household_Id','FullAddress','cc_full_add','BuildingNumber']]\n",
    "print('All but {} address\\'s follow the pattern.'.format(len(add_issues)))\n",
    "add_issues"
   ]
  },
  {
   "cell_type": "code",
   "execution_count": 7,
   "metadata": {
    "collapsed": true
   },
   "outputs": [],
   "source": [
    "# Various views that helped understand the missing StreetType data.\n",
    "# The Street names with null 'StreetType'\n",
    "#h[h.StreetType.isnull()].loc[:,['Street', 'StreetType']].groupby('Street').count()\n",
    "# most are 'COMMONS' in fact all Full Address' that have 'COMMON' in their name have StreetType = null\n",
    "#h.loc[h.FullAddress.str.contains('COMMON'),['Street','StreetType']].groupby('Street').count()\n",
    "# Address' that have 'CMN in StreetType\n",
    "#h.loc[h.StreetType.str.contains('CMN').fillna(0) == True,['FullAddress', 'Street','StreetType']]"
   ]
  },
  {
   "cell_type": "code",
   "execution_count": 8,
   "metadata": {
    "collapsed": true
   },
   "outputs": [],
   "source": [
    "h.loc[:,'StreetTypeClean'] = h['StreetType']\n",
    "# Cleaning the data by setting all Full Address' that include ' COMMON' to have StreetType 'CMN'\n",
    "h.loc[h.FullAddress.str.contains(' COMMON') == True,['StreetTypeClean']] = 'CMN'\n",
    "# Same for ' GREEN' => 'GRN', and the two cross street parital address' to 'UKN'\n",
    "h.loc[h.FullAddress.str.contains(' GREEN') == True,['StreetTypeClean']] = 'GRN'\n",
    "h.loc[h.FullAddress.str.contains('/') == True,['StreetTypeClean']] = 'UKN'"
   ]
  },
  {
   "cell_type": "code",
   "execution_count": 9,
   "metadata": {},
   "outputs": [
    {
     "data": {
      "text/plain": [
       "FullAddress        6930\n",
       "StreetType         6097\n",
       "StreetTypeClean    6930\n",
       "dtype: int64"
      ]
     },
     "execution_count": 9,
     "metadata": {},
     "output_type": "execute_result"
    }
   ],
   "source": [
    "# check code\n",
    "h.loc[(h.FullAddress.str.contains('COMMON') == True)\n",
    "      |(h.FullAddress.str.contains(' GREEN') == True)\n",
    "      |(h.FullAddress.str.contains('/') == True)\n",
    "      ,['FullAddress', 'Street','StreetType', 'StreetTypeClean']]\n",
    "\n",
    "t = h[['FullAddress', 'Street','StreetType', 'StreetTypeClean']].groupby('Street').count()\n",
    "t.sum()"
   ]
  },
  {
   "cell_type": "markdown",
   "metadata": {},
   "source": [
    "### Adding and cleaning CityArea\n",
    "Using the Precinct information and a City Area look up table I was able to add a City Area to each HouseHold."
   ]
  },
  {
   "cell_type": "code",
   "execution_count": 10,
   "metadata": {},
   "outputs": [],
   "source": [
    "h = pd.merge(h, cityareas, on='Precinct', how='left')"
   ]
  },
  {
   "cell_type": "code",
   "execution_count": 11,
   "metadata": {},
   "outputs": [
    {
     "name": "stdout",
     "output_type": "stream",
     "text": [
      "<class 'pandas.core.frame.DataFrame'>\n",
      "Int64Index: 6930 entries, 0 to 6929\n",
      "Data columns (total 1 columns):\n",
      "CityArea    6815 non-null object\n",
      "dtypes: object(1)\n",
      "memory usage: 108.3+ KB\n"
     ]
    }
   ],
   "source": [
    "h[['CityArea']].info()"
   ]
  },
  {
   "cell_type": "markdown",
   "metadata": {},
   "source": [
    "The initial look up table was missing two precincts, I identified the precincts."
   ]
  },
  {
   "cell_type": "code",
   "execution_count": 12,
   "metadata": {},
   "outputs": [
    {
     "data": {
      "text/html": [
       "<div>\n",
       "<style scoped>\n",
       "    .dataframe tbody tr th:only-of-type {\n",
       "        vertical-align: middle;\n",
       "    }\n",
       "\n",
       "    .dataframe tbody tr th {\n",
       "        vertical-align: top;\n",
       "    }\n",
       "\n",
       "    .dataframe thead th {\n",
       "        text-align: right;\n",
       "    }\n",
       "</style>\n",
       "<table border=\"1\" class=\"dataframe\">\n",
       "  <thead>\n",
       "    <tr style=\"text-align: right;\">\n",
       "      <th></th>\n",
       "      <th>Household_Id</th>\n",
       "    </tr>\n",
       "    <tr>\n",
       "      <th>Precinct</th>\n",
       "      <th></th>\n",
       "    </tr>\n",
       "  </thead>\n",
       "  <tbody>\n",
       "    <tr>\n",
       "      <th>831730</th>\n",
       "      <td>111</td>\n",
       "    </tr>\n",
       "    <tr>\n",
       "      <th>835050</th>\n",
       "      <td>4</td>\n",
       "    </tr>\n",
       "  </tbody>\n",
       "</table>\n",
       "</div>"
      ],
      "text/plain": [
       "          Household_Id\n",
       "Precinct              \n",
       "831730             111\n",
       "835050               4"
      ]
     },
     "execution_count": 12,
     "metadata": {},
     "output_type": "execute_result"
    }
   ],
   "source": [
    "h.loc[h.CityArea.isnull() == True,['Household_Id', 'Precinct']].groupby('Precinct').count()"
   ]
  },
  {
   "cell_type": "markdown",
   "metadata": {},
   "source": [
    "I identified the steets affected by the missing precincts:"
   ]
  },
  {
   "cell_type": "code",
   "execution_count": 13,
   "metadata": {},
   "outputs": [
    {
     "data": {
      "text/html": [
       "<div>\n",
       "<style scoped>\n",
       "    .dataframe tbody tr th:only-of-type {\n",
       "        vertical-align: middle;\n",
       "    }\n",
       "\n",
       "    .dataframe tbody tr th {\n",
       "        vertical-align: top;\n",
       "    }\n",
       "\n",
       "    .dataframe thead th {\n",
       "        text-align: right;\n",
       "    }\n",
       "</style>\n",
       "<table border=\"1\" class=\"dataframe\">\n",
       "  <thead>\n",
       "    <tr style=\"text-align: right;\">\n",
       "      <th></th>\n",
       "      <th></th>\n",
       "      <th></th>\n",
       "      <th>FullAddress</th>\n",
       "    </tr>\n",
       "    <tr>\n",
       "      <th>Precinct</th>\n",
       "      <th>CityArea</th>\n",
       "      <th>Street</th>\n",
       "      <th></th>\n",
       "    </tr>\n",
       "  </thead>\n",
       "  <tbody>\n",
       "    <tr>\n",
       "      <th rowspan=\"11\" valign=\"top\">831730</th>\n",
       "      <th rowspan=\"11\" valign=\"top\">missing</th>\n",
       "      <th>APPLETREE</th>\n",
       "      <td>9</td>\n",
       "    </tr>\n",
       "    <tr>\n",
       "      <th>CHERRY BLOSSOM</th>\n",
       "      <td>9</td>\n",
       "    </tr>\n",
       "    <tr>\n",
       "      <th>FERNWOOD</th>\n",
       "      <td>6</td>\n",
       "    </tr>\n",
       "    <tr>\n",
       "      <th>FREESIA</th>\n",
       "      <td>9</td>\n",
       "    </tr>\n",
       "    <tr>\n",
       "      <th>FRUITWOOD</th>\n",
       "      <td>12</td>\n",
       "    </tr>\n",
       "    <tr>\n",
       "      <th>JASMINE</th>\n",
       "      <td>14</td>\n",
       "    </tr>\n",
       "    <tr>\n",
       "      <th>LAURUS</th>\n",
       "      <td>11</td>\n",
       "    </tr>\n",
       "    <tr>\n",
       "      <th>PEACHTREE</th>\n",
       "      <td>11</td>\n",
       "    </tr>\n",
       "    <tr>\n",
       "      <th>RIVERWALK</th>\n",
       "      <td>15</td>\n",
       "    </tr>\n",
       "    <tr>\n",
       "      <th>ROSETREE</th>\n",
       "      <td>12</td>\n",
       "    </tr>\n",
       "    <tr>\n",
       "      <th>SANDALWOOD</th>\n",
       "      <td>3</td>\n",
       "    </tr>\n",
       "    <tr>\n",
       "      <th rowspan=\"2\" valign=\"top\">835050</th>\n",
       "      <th rowspan=\"2\" valign=\"top\">missing</th>\n",
       "      <th>CHAUNTRY COMMON</th>\n",
       "      <td>3</td>\n",
       "    </tr>\n",
       "    <tr>\n",
       "      <th>PERALTA</th>\n",
       "      <td>1</td>\n",
       "    </tr>\n",
       "  </tbody>\n",
       "</table>\n",
       "</div>"
      ],
      "text/plain": [
       "                                   FullAddress\n",
       "Precinct CityArea Street                      \n",
       "831730   missing  APPLETREE                  9\n",
       "                  CHERRY BLOSSOM             9\n",
       "                  FERNWOOD                   6\n",
       "                  FREESIA                    9\n",
       "                  FRUITWOOD                 12\n",
       "                  JASMINE                   14\n",
       "                  LAURUS                    11\n",
       "                  PEACHTREE                 11\n",
       "                  RIVERWALK                 15\n",
       "                  ROSETREE                  12\n",
       "                  SANDALWOOD                 3\n",
       "835050   missing  CHAUNTRY COMMON            3\n",
       "                  PERALTA                    1"
      ]
     },
     "execution_count": 13,
     "metadata": {},
     "output_type": "execute_result"
    }
   ],
   "source": [
    "PrecinctWithMissingCityArea = [831730, 835050]\n",
    "h.loc[h['Precinct'].isin(PrecinctWithMissingCityArea), [\n",
    "    'FullAddress','Street','CityArea','Precinct']].fillna('missing').groupby([\n",
    "    'Precinct','CityArea','Street']).count()"
   ]
  },
  {
   "cell_type": "markdown",
   "metadata": {},
   "source": [
    "The 831730 streets are all grouped in one fairly recent development around the Riverwalk road, using a map to see the other nearby streets I was able to identify the best `CityArea` for this `Precinct` is `Downtown / BART`"
   ]
  },
  {
   "cell_type": "code",
   "execution_count": 14,
   "metadata": {},
   "outputs": [
    {
     "data": {
      "text/html": [
       "<div>\n",
       "<style scoped>\n",
       "    .dataframe tbody tr th:only-of-type {\n",
       "        vertical-align: middle;\n",
       "    }\n",
       "\n",
       "    .dataframe tbody tr th {\n",
       "        vertical-align: top;\n",
       "    }\n",
       "\n",
       "    .dataframe thead th {\n",
       "        text-align: right;\n",
       "    }\n",
       "</style>\n",
       "<table border=\"1\" class=\"dataframe\">\n",
       "  <thead>\n",
       "    <tr style=\"text-align: right;\">\n",
       "      <th></th>\n",
       "      <th></th>\n",
       "      <th></th>\n",
       "      <th>FullAddress</th>\n",
       "    </tr>\n",
       "    <tr>\n",
       "      <th>Precinct</th>\n",
       "      <th>CityArea</th>\n",
       "      <th>Street</th>\n",
       "      <th></th>\n",
       "    </tr>\n",
       "  </thead>\n",
       "  <tbody>\n",
       "    <tr>\n",
       "      <th>831730</th>\n",
       "      <th>missing</th>\n",
       "      <th>RIVERWALK</th>\n",
       "      <td>15</td>\n",
       "    </tr>\n",
       "    <tr>\n",
       "      <th>835040</th>\n",
       "      <th>Downtown / BART</th>\n",
       "      <th>BISHOP</th>\n",
       "      <td>55</td>\n",
       "    </tr>\n",
       "    <tr>\n",
       "      <th>835410</th>\n",
       "      <th>Downtown / BART</th>\n",
       "      <th>TEMPLE</th>\n",
       "      <td>11</td>\n",
       "    </tr>\n",
       "  </tbody>\n",
       "</table>\n",
       "</div>"
      ],
      "text/plain": [
       "                                    FullAddress\n",
       "Precinct CityArea        Street                \n",
       "831730   missing         RIVERWALK           15\n",
       "835040   Downtown / BART BISHOP              55\n",
       "835410   Downtown / BART TEMPLE              11"
      ]
     },
     "execution_count": 14,
     "metadata": {},
     "output_type": "execute_result"
    }
   ],
   "source": [
    "h.loc[(h.Street.str.contains('RIVERWALK'))\n",
    "       | (h.Street.str.contains('TEMPLE'))\n",
    "       | (h.Street.str.contains('BISHOP'))\n",
    "       | (h.Street.str.contains('ARLENE'))\n",
    "       | (h.Street.str.contains('GREENWOOD')),\n",
    "      ['FullAddress', 'Street', 'CityArea', 'Precinct']].fillna('missing').groupby([\n",
    "    'Precinct','CityArea','Street']).count()"
   ]
  },
  {
   "cell_type": "markdown",
   "metadata": {},
   "source": [
    "Chauntry Common is another development where most of the houses are in one precinct and a few on the edge are in another, together with the corner house with address on Peralta Blvd. The best `CityArea` for this precinct is `Centerville`.\n",
    "\n",
    "Note: Peralta is a very long road with residents voting in 5 different precincts, Chauntry Common is near the 3000 block of Peralta. "
   ]
  },
  {
   "cell_type": "code",
   "execution_count": 15,
   "metadata": {},
   "outputs": [
    {
     "data": {
      "text/html": [
       "<div>\n",
       "<style scoped>\n",
       "    .dataframe tbody tr th:only-of-type {\n",
       "        vertical-align: middle;\n",
       "    }\n",
       "\n",
       "    .dataframe tbody tr th {\n",
       "        vertical-align: top;\n",
       "    }\n",
       "\n",
       "    .dataframe thead th {\n",
       "        text-align: right;\n",
       "    }\n",
       "</style>\n",
       "<table border=\"1\" class=\"dataframe\">\n",
       "  <thead>\n",
       "    <tr style=\"text-align: right;\">\n",
       "      <th></th>\n",
       "      <th></th>\n",
       "      <th></th>\n",
       "      <th>HouseNumber</th>\n",
       "    </tr>\n",
       "    <tr>\n",
       "      <th>Precinct</th>\n",
       "      <th>CityArea</th>\n",
       "      <th>Street</th>\n",
       "      <th></th>\n",
       "    </tr>\n",
       "  </thead>\n",
       "  <tbody>\n",
       "    <tr>\n",
       "      <th rowspan=\"2\" valign=\"top\">835010</th>\n",
       "      <th rowspan=\"2\" valign=\"top\">Centerville</th>\n",
       "      <th>CHAUNTRY COMMON</th>\n",
       "      <td>16</td>\n",
       "    </tr>\n",
       "    <tr>\n",
       "      <th>PERALTA</th>\n",
       "      <td>2</td>\n",
       "    </tr>\n",
       "    <tr>\n",
       "      <th rowspan=\"2\" valign=\"top\">835050</th>\n",
       "      <th rowspan=\"2\" valign=\"top\">missing</th>\n",
       "      <th>CHAUNTRY COMMON</th>\n",
       "      <td>3</td>\n",
       "    </tr>\n",
       "    <tr>\n",
       "      <th>PERALTA</th>\n",
       "      <td>1</td>\n",
       "    </tr>\n",
       "  </tbody>\n",
       "</table>\n",
       "</div>"
      ],
      "text/plain": [
       "                                      HouseNumber\n",
       "Precinct CityArea    Street                      \n",
       "835010   Centerville CHAUNTRY COMMON           16\n",
       "                     PERALTA                    2\n",
       "835050   missing     CHAUNTRY COMMON            3\n",
       "                     PERALTA                    1"
      ]
     },
     "execution_count": 15,
     "metadata": {},
     "output_type": "execute_result"
    }
   ],
   "source": [
    "h.loc[h.Street.str.contains('CHAUNTRY')\n",
    "      | ((h.Street.str.contains('PERALTA')) & (h.HouseNumber > 3000))\n",
    "      ,['HouseNumber','Street', 'CityArea', 'Precinct']].fillna('missing').sort_values('HouseNumber').groupby([\n",
    "    'Precinct','CityArea','Street']).count()"
   ]
  },
  {
   "cell_type": "code",
   "execution_count": 16,
   "metadata": {},
   "outputs": [
    {
     "data": {
      "text/html": [
       "<div>\n",
       "<style scoped>\n",
       "    .dataframe tbody tr th:only-of-type {\n",
       "        vertical-align: middle;\n",
       "    }\n",
       "\n",
       "    .dataframe tbody tr th {\n",
       "        vertical-align: top;\n",
       "    }\n",
       "\n",
       "    .dataframe thead th {\n",
       "        text-align: right;\n",
       "    }\n",
       "</style>\n",
       "<table border=\"1\" class=\"dataframe\">\n",
       "  <thead>\n",
       "    <tr style=\"text-align: right;\">\n",
       "      <th></th>\n",
       "      <th></th>\n",
       "      <th></th>\n",
       "      <th>FullAddress</th>\n",
       "    </tr>\n",
       "    <tr>\n",
       "      <th>Precinct</th>\n",
       "      <th>CityAreaClean</th>\n",
       "      <th>Street</th>\n",
       "      <th></th>\n",
       "    </tr>\n",
       "  </thead>\n",
       "  <tbody>\n",
       "    <tr>\n",
       "      <th rowspan=\"11\" valign=\"top\">831730</th>\n",
       "      <th rowspan=\"11\" valign=\"top\">Downtown / BART</th>\n",
       "      <th>APPLETREE</th>\n",
       "      <td>9</td>\n",
       "    </tr>\n",
       "    <tr>\n",
       "      <th>CHERRY BLOSSOM</th>\n",
       "      <td>9</td>\n",
       "    </tr>\n",
       "    <tr>\n",
       "      <th>FERNWOOD</th>\n",
       "      <td>6</td>\n",
       "    </tr>\n",
       "    <tr>\n",
       "      <th>FREESIA</th>\n",
       "      <td>9</td>\n",
       "    </tr>\n",
       "    <tr>\n",
       "      <th>FRUITWOOD</th>\n",
       "      <td>12</td>\n",
       "    </tr>\n",
       "    <tr>\n",
       "      <th>JASMINE</th>\n",
       "      <td>14</td>\n",
       "    </tr>\n",
       "    <tr>\n",
       "      <th>LAURUS</th>\n",
       "      <td>11</td>\n",
       "    </tr>\n",
       "    <tr>\n",
       "      <th>PEACHTREE</th>\n",
       "      <td>11</td>\n",
       "    </tr>\n",
       "    <tr>\n",
       "      <th>RIVERWALK</th>\n",
       "      <td>15</td>\n",
       "    </tr>\n",
       "    <tr>\n",
       "      <th>ROSETREE</th>\n",
       "      <td>12</td>\n",
       "    </tr>\n",
       "    <tr>\n",
       "      <th>SANDALWOOD</th>\n",
       "      <td>3</td>\n",
       "    </tr>\n",
       "    <tr>\n",
       "      <th rowspan=\"2\" valign=\"top\">835050</th>\n",
       "      <th rowspan=\"2\" valign=\"top\">Centerville</th>\n",
       "      <th>CHAUNTRY COMMON</th>\n",
       "      <td>3</td>\n",
       "    </tr>\n",
       "    <tr>\n",
       "      <th>PERALTA</th>\n",
       "      <td>1</td>\n",
       "    </tr>\n",
       "  </tbody>\n",
       "</table>\n",
       "</div>"
      ],
      "text/plain": [
       "                                          FullAddress\n",
       "Precinct CityAreaClean   Street                      \n",
       "831730   Downtown / BART APPLETREE                  9\n",
       "                         CHERRY BLOSSOM             9\n",
       "                         FERNWOOD                   6\n",
       "                         FREESIA                    9\n",
       "                         FRUITWOOD                 12\n",
       "                         JASMINE                   14\n",
       "                         LAURUS                    11\n",
       "                         PEACHTREE                 11\n",
       "                         RIVERWALK                 15\n",
       "                         ROSETREE                  12\n",
       "                         SANDALWOOD                 3\n",
       "835050   Centerville     CHAUNTRY COMMON            3\n",
       "                         PERALTA                    1"
      ]
     },
     "execution_count": 16,
     "metadata": {},
     "output_type": "execute_result"
    }
   ],
   "source": [
    "h.loc[:,'CityAreaClean'] = h['CityArea']\n",
    "# setting the CityArea for the 'missing' Precincts\n",
    "h.loc[h.Precinct == 831730, 'CityAreaClean'] = 'Downtown / BART'\n",
    "h.loc[h.Precinct == 835050, 'CityAreaClean'] = 'Centerville'\n",
    "\n",
    "# validate\n",
    "h.loc[h['Precinct'].isin(PrecinctWithMissingCityArea), [\n",
    "    'FullAddress','Street','CityAreaClean','Precinct']].groupby([\n",
    "    'Precinct','CityAreaClean','Street']).count()"
   ]
  },
  {
   "cell_type": "markdown",
   "metadata": {},
   "source": [
    "### Cleaning the Zip data\n",
    "Some zips had been entered with varying levels of accuracy. I cleaned them all to a consistent 5 digit zip code"
   ]
  },
  {
   "cell_type": "code",
   "execution_count": 17,
   "metadata": {},
   "outputs": [
    {
     "data": {
      "text/plain": [
       "94538    3835\n",
       "94536    3095\n",
       "Name: ZipClean, dtype: int64"
      ]
     },
     "execution_count": 17,
     "metadata": {},
     "output_type": "execute_result"
    }
   ],
   "source": [
    "h['ZipClean'] = h.Zip.astype(str).str[0:5]\n",
    "h['ZipClean'].value_counts()"
   ]
  },
  {
   "cell_type": "markdown",
   "metadata": {},
   "source": [
    "### Creating an isApt field\n",
    "A True/False column denoting if the household has an Apt number."
   ]
  },
  {
   "cell_type": "code",
   "execution_count": 18,
   "metadata": {
    "scrolled": true
   },
   "outputs": [
    {
     "data": {
      "text/plain": [
       "False    4922\n",
       "True     2008\n",
       "Name: isApt, dtype: int64"
      ]
     },
     "execution_count": 18,
     "metadata": {},
     "output_type": "execute_result"
    }
   ],
   "source": [
    "h['isApt'] = h.ApartmentNumber.notnull()\n",
    "h.isApt.value_counts()"
   ]
  },
  {
   "cell_type": "markdown",
   "metadata": {},
   "source": [
    "### Shuffling the data to create new ID"
   ]
  },
  {
   "cell_type": "code",
   "execution_count": 19,
   "metadata": {
    "collapsed": true
   },
   "outputs": [],
   "source": [
    "# randomly shuffling the household row and reset index to make the new order the index\n",
    "h = h.sample(frac=1).reset_index(drop=True)\n",
    "h.index.name = 'Hid'\n",
    "h = h.reset_index()"
   ]
  },
  {
   "cell_type": "code",
   "execution_count": 20,
   "metadata": {
    "collapsed": true
   },
   "outputs": [],
   "source": [
    "hid_lookup = h[['Hid', 'Household_Id']]"
   ]
  },
  {
   "cell_type": "markdown",
   "metadata": {},
   "source": [
    "### Creating the output clean files"
   ]
  },
  {
   "cell_type": "code",
   "execution_count": 21,
   "metadata": {},
   "outputs": [
    {
     "name": "stdout",
     "output_type": "stream",
     "text": [
      "<class 'pandas.core.frame.DataFrame'>\n",
      "RangeIndex: 6930 entries, 0 to 6929\n",
      "Data columns (total 8 columns):\n",
      "Hid            6930 non-null int64\n",
      "StreetType     6930 non-null category\n",
      "Zip            6930 non-null category\n",
      "Precinct       6930 non-null int64\n",
      "PrecinctSub    6930 non-null int64\n",
      "District       6930 non-null int64\n",
      "CityArea       6930 non-null category\n",
      "isApt          6930 non-null bool\n",
      "dtypes: bool(1), category(3), int64(4)\n",
      "memory usage: 244.7 KB\n"
     ]
    }
   ],
   "source": [
    "clean = h.loc[:,['Hid', 'StreetTypeClean', 'ZipClean', 'Precinct', 'PrecinctSub',\n",
    "                 'District', 'CityAreaClean', 'isApt']]\n",
    "clean.rename(columns={'CityAreaClean':'CityArea','ZipClean':'Zip',\n",
    "                      'StreetTypeClean':'StreetType'}, inplace=True)\n",
    "clean[clean.select_dtypes(['object']).columns] = clean.select_dtypes(['object'\n",
    "                                                            ]).apply(lambda \n",
    "                                                                     x: x.astype('category'))\n",
    "clean.info()"
   ]
  },
  {
   "cell_type": "code",
   "execution_count": 22,
   "metadata": {
    "collapsed": true
   },
   "outputs": [],
   "source": [
    "clean.set_index('Hid', inplace=True)\n",
    "hid_lookup.set_index('Hid', inplace=True)"
   ]
  },
  {
   "cell_type": "code",
   "execution_count": 23,
   "metadata": {
    "collapsed": true
   },
   "outputs": [],
   "source": [
    "date = pd.Timestamp(\"today\").strftime(\"%Y%m%d\")\n",
    "clean.to_csv('data_clean/{}_households_district3.csv'.format(date))\n",
    "hid_lookup.to_csv('data_clean/{}_households_lookup_NO_GIT.csv'.format(date))"
   ]
  },
  {
   "cell_type": "code",
   "execution_count": null,
   "metadata": {
    "collapsed": true
   },
   "outputs": [],
   "source": []
  }
 ],
 "metadata": {
  "kernelspec": {
   "display_name": "Python 3",
   "language": "python",
   "name": "python3"
  },
  "language_info": {
   "codemirror_mode": {
    "name": "ipython",
    "version": 3
   },
   "file_extension": ".py",
   "mimetype": "text/x-python",
   "name": "python",
   "nbconvert_exporter": "python",
   "pygments_lexer": "ipython3",
   "version": "3.6.2"
  }
 },
 "nbformat": 4,
 "nbformat_minor": 2
}
