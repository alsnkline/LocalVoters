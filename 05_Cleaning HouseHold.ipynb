{
 "cells": [
  {
   "cell_type": "markdown",
   "metadata": {},
   "source": [
    "# Cleaning the Household data\n",
    "Before further analysis the data was cleaned and PII (Personally Indentifiable Information) removed or obscured."
   ]
  },
  {
   "cell_type": "code",
   "execution_count": 1,
   "metadata": {
    "collapsed": true
   },
   "outputs": [],
   "source": [
    "# imports\n",
    "import numpy as np\n",
    "import pandas as pd"
   ]
  },
  {
   "cell_type": "code",
   "execution_count": 2,
   "metadata": {},
   "outputs": [],
   "source": [
    "# load the data\n",
    "households = pd.read_csv('data_raw_NOGIT/180613_households_district3_all_data.txt', sep='\\t')\n",
    "# and a cityarea look up file\n",
    "cityareas = pd.read_csv('data_raw_NOGIT/cityareas_precinct.csv')\n",
    "\n",
    "# loading the finalized look up table for Households \n",
    "# so I can re clean/tweak fix data issues without reshuffling\n",
    "hid_lookup = pd.read_csv('data_clean/20180621_households_lookup_NO_GIT.csv', index_col='Hid')"
   ]
  },
  {
   "cell_type": "markdown",
   "metadata": {},
   "source": [
    "For the Household data the value_counts() for each column were reviewed and the following was done to clean and anonymize the data:\n",
    "\n",
    "| Original Data Column | Description of action | output column(s) | Type |\n",
    "|:---:|:---|:---:|:---:|\n",
    "| 'Household_Id' | Rows of table were randomly shuffled, the index reset and the new index used as new UID. | 'hid' | Num |\n",
    "| 'FullAddress' | Shown to be concatenation of 'HouseNumber','Street','StreetType', 'BuildingNumber & 'ApartmentNumber' in all but 4 cases where the Apt numbers appeared to be missing or include typo's and then dropped as PII.  | | |\n",
    "| 'HouseNumber' | Dropped as PII. | | |\n",
    "| 'HouseNumberSuffix' | Dropped empty. | | |\n",
    "| 'StreetPrefix' |  Dropped empty. | | |\n",
    "| 'Street' | Used to clean 'StreetType' and then Dropped as PII. | | |\n",
    "| 'StreetType' | ‘CMN’ ‘GREEN’ => ‘GRN’ and two cross streets => ‘UNK’. Also combined some smaller groups. | 'StreetType' | Cat |\n",
    "| 'BuildingNumber' | Only 3 entries dropped. | | |\n",
    "| 'ApartmentNumber' | Converted to a True/False field. | 'isApt' | Bool |\n",
    "| 'City' | Dropped, all entries are the same. | | |\n",
    "| 'State' | 6 missing rows, dropped as all should be the same. | | |\n",
    "| 'Zip' | Cleaned all to 5 digit numerical zip code entries. | 'Zip' | Num |\n",
    "| 'Precinct' | Converted to number and kept. | 'Precinct' | Num |\n",
    "|  | The Precinct was also used to create a 'CityArea' column | 'CityArea' | Cat |\n",
    "| 'PrecinctSub' | Converted to number and kept. | 'PrecinctSub' | Num |\n",
    "| 'District' | Kept as is in case we need to add in other district data. | 'District' | Num |\n"
   ]
  },
  {
   "cell_type": "code",
   "execution_count": 3,
   "metadata": {},
   "outputs": [
    {
     "name": "stdout",
     "output_type": "stream",
     "text": [
      "Total number of households in data: 6930\n"
     ]
    }
   ],
   "source": [
    "h=households\n",
    "# dropping cityarea so I can add it cleanly shortly\n",
    "h = h.drop('CityArea', axis='columns')\n",
    "print('Total number of households in data: {}'.format(len(h)))"
   ]
  },
  {
   "cell_type": "markdown",
   "metadata": {},
   "source": [
    "### Cleaning StreetType\n",
    "significant data is missing from this column, I used the 'Street' and 'Full address' to identify the missing categories 'GRN', 'UNK' and add them, I was also able to identify that COMMON and COMMONS had not been mapped correctly to 'CMN' and fixed that."
   ]
  },
  {
   "cell_type": "code",
   "execution_count": 4,
   "metadata": {
    "collapsed": true
   },
   "outputs": [],
   "source": [
    "def get_full_address(row):\n",
    "    \n",
    "    build_num = row.BuildingNumber\n",
    "    apt_num = row.ApartmentNumber\n",
    "    if str(build_num) != 'nan':\n",
    "        build_num = int(row.BuildingNumber)\n",
    "        apt_num = '{}'.format(str(row.ApartmentNumber))\n",
    "    elif str(row.ApartmentNumber) != 'nan':\n",
    "        apt_num = '# {}'.format(str(row.ApartmentNumber))\n",
    "        \n",
    "    row['cc_full_add'] = ' '.join([x for x in [str(row.HouseNumber), row.Street,\n",
    "                                 row.StreetType, str(build_num),\n",
    "                                               apt_num] if str(x) != 'nan'])\n",
    "    return row"
   ]
  },
  {
   "cell_type": "code",
   "execution_count": 5,
   "metadata": {
    "collapsed": true
   },
   "outputs": [],
   "source": [
    "h = h.apply(get_full_address, axis=1)"
   ]
  },
  {
   "cell_type": "code",
   "execution_count": 6,
   "metadata": {},
   "outputs": [
    {
     "name": "stdout",
     "output_type": "stream",
     "text": [
      "All but 4 address's follow the pattern.\n"
     ]
    }
   ],
   "source": [
    "h[['FullAddress','cc_full_add']]\n",
    "#assert (h.FullAddress == h.cc_full_add).all()\n",
    "add_issues = h.loc[h['FullAddress'] != h['cc_full_add'], ['Household_Id','FullAddress','cc_full_add','BuildingNumber']]\n",
    "print('All but {} address\\'s follow the pattern.'.format(len(add_issues)))\n",
    "#add_issues"
   ]
  },
  {
   "cell_type": "markdown",
   "metadata": {},
   "source": [
    "All other Voters living in WAINWRIGHT COMMON have no Apt address entered, the USPS doesn't recognize the Apt value T so set apt to NaN for that household. An address on BOSWELL TER has a typo in the apartment number - number is close to house number and the other voter in the household has the house number entered as the apt number.\n",
    "The last two were clear typos so set to match the apt numbers included in the FullAddress."
   ]
  },
  {
   "cell_type": "code",
   "execution_count": 7,
   "metadata": {
    "collapsed": true
   },
   "outputs": [],
   "source": [
    "# correcting these 4 entries \n",
    "h.iloc[[1467], 8] = np.nan  # to match USPS delivery address\n",
    "h.iloc[[4458], 8] = np.nan  # to match USPS delivery address\n",
    "h.iloc[[5790], 8] = 147 # to match household FullAddress\n",
    "h.iloc[[5887], 8] = 337 # to match household FullAddress\n",
    "#h.iloc[[1467,4458,5790,5887],8]"
   ]
  },
  {
   "cell_type": "code",
   "execution_count": 8,
   "metadata": {
    "collapsed": true
   },
   "outputs": [],
   "source": [
    "# Various views that helped understand the missing StreetType data.\n",
    "# The Street names with null 'StreetType'\n",
    "#h[h.StreetType.isnull()].loc[:,['Street', 'StreetType']].groupby('Street').count()\n",
    "# most are 'COMMONS' in fact all Full Address' that have 'COMMON' in their name have StreetType = null\n",
    "#h.loc[h.FullAddress.str.contains('COMMON'),['Street','StreetType']].groupby('Street').count()\n",
    "# Address' that have 'CMN in StreetType\n",
    "#h.loc[h.StreetType.str.contains('CMN').fillna(0) == True,['FullAddress', 'Street','StreetType']]"
   ]
  },
  {
   "cell_type": "code",
   "execution_count": 9,
   "metadata": {},
   "outputs": [],
   "source": [
    "h.loc[:,'StreetTypeClean'] = h['StreetType']\n",
    "# Cleaning the data by setting all Full Address' that include ' COMMON' to have StreetType 'CMN'\n",
    "h.loc[h.FullAddress.str.contains(' COMMON') == True,['StreetTypeClean']] = 'CMN'\n",
    "# Same for ' GREEN' => 'GRN', and the two cross street parital address' to 'UNK'\n",
    "h.loc[h.FullAddress.str.contains(' GREEN') == True,['StreetTypeClean']] = 'GRN'\n",
    "h.loc[h.FullAddress.str.contains('/') == True,['StreetTypeClean']] = 'UNK'\n",
    "\n",
    "# combining some small categories toghether\n",
    "for_other = ['RD', 'LN', 'PKWY', 'LOOP', 'GRN', 'CIR']\n",
    "h.loc[h.StreetTypeClean.isin(['PL', 'TER']) == True,['StreetTypeClean']] = 'PL/TER'\n",
    "h.loc[h.StreetTypeClean.isin(for_other) == True,['StreetTypeClean']] = 'OTH'"
   ]
  },
  {
   "cell_type": "code",
   "execution_count": 10,
   "metadata": {},
   "outputs": [
    {
     "data": {
      "text/plain": [
       "FullAddress        6930\n",
       "StreetType         6097\n",
       "StreetTypeClean    6930\n",
       "dtype: int64"
      ]
     },
     "execution_count": 10,
     "metadata": {},
     "output_type": "execute_result"
    }
   ],
   "source": [
    "# check code\n",
    "h.loc[(h.FullAddress.str.contains('COMMON') == True)\n",
    "      |(h.FullAddress.str.contains(' GREEN') == True)\n",
    "      |(h.FullAddress.str.contains('/') == True)\n",
    "      ,['FullAddress', 'Street','StreetType', 'StreetTypeClean']]\n",
    "\n",
    "t = h[['FullAddress', 'Street','StreetType', 'StreetTypeClean']].groupby('Street').count()\n",
    "t.sum()"
   ]
  },
  {
   "cell_type": "markdown",
   "metadata": {},
   "source": [
    "### Adding and cleaning CityArea\n",
    "Using the Precinct information and a City Area look up table I was able to add a City Area to each HouseHold."
   ]
  },
  {
   "cell_type": "code",
   "execution_count": 11,
   "metadata": {
    "collapsed": true
   },
   "outputs": [],
   "source": [
    "h = pd.merge(h, cityareas, on='Precinct', how='left')"
   ]
  },
  {
   "cell_type": "code",
   "execution_count": 12,
   "metadata": {},
   "outputs": [
    {
     "name": "stdout",
     "output_type": "stream",
     "text": [
      "<class 'pandas.core.frame.DataFrame'>\n",
      "Int64Index: 6930 entries, 0 to 6929\n",
      "Data columns (total 1 columns):\n",
      "CityArea    6815 non-null object\n",
      "dtypes: object(1)\n",
      "memory usage: 108.3+ KB\n"
     ]
    }
   ],
   "source": [
    "h[['CityArea']].info()"
   ]
  },
  {
   "cell_type": "markdown",
   "metadata": {},
   "source": [
    "The initial look up table was missing two precincts, I identified the precincts."
   ]
  },
  {
   "cell_type": "code",
   "execution_count": 13,
   "metadata": {},
   "outputs": [
    {
     "data": {
      "text/html": [
       "<div>\n",
       "<style scoped>\n",
       "    .dataframe tbody tr th:only-of-type {\n",
       "        vertical-align: middle;\n",
       "    }\n",
       "\n",
       "    .dataframe tbody tr th {\n",
       "        vertical-align: top;\n",
       "    }\n",
       "\n",
       "    .dataframe thead th {\n",
       "        text-align: right;\n",
       "    }\n",
       "</style>\n",
       "<table border=\"1\" class=\"dataframe\">\n",
       "  <thead>\n",
       "    <tr style=\"text-align: right;\">\n",
       "      <th></th>\n",
       "      <th>Household_Id</th>\n",
       "    </tr>\n",
       "    <tr>\n",
       "      <th>Precinct</th>\n",
       "      <th></th>\n",
       "    </tr>\n",
       "  </thead>\n",
       "  <tbody>\n",
       "    <tr>\n",
       "      <th>831730</th>\n",
       "      <td>111</td>\n",
       "    </tr>\n",
       "    <tr>\n",
       "      <th>835050</th>\n",
       "      <td>4</td>\n",
       "    </tr>\n",
       "  </tbody>\n",
       "</table>\n",
       "</div>"
      ],
      "text/plain": [
       "          Household_Id\n",
       "Precinct              \n",
       "831730             111\n",
       "835050               4"
      ]
     },
     "execution_count": 13,
     "metadata": {},
     "output_type": "execute_result"
    }
   ],
   "source": [
    "h.loc[h.CityArea.isnull() == True,['Household_Id', 'Precinct']].groupby('Precinct').count()"
   ]
  },
  {
   "cell_type": "markdown",
   "metadata": {},
   "source": [
    "I identified the steets affected by the missing precincts:"
   ]
  },
  {
   "cell_type": "code",
   "execution_count": 14,
   "metadata": {},
   "outputs": [
    {
     "data": {
      "text/html": [
       "<div>\n",
       "<style scoped>\n",
       "    .dataframe tbody tr th:only-of-type {\n",
       "        vertical-align: middle;\n",
       "    }\n",
       "\n",
       "    .dataframe tbody tr th {\n",
       "        vertical-align: top;\n",
       "    }\n",
       "\n",
       "    .dataframe thead th {\n",
       "        text-align: right;\n",
       "    }\n",
       "</style>\n",
       "<table border=\"1\" class=\"dataframe\">\n",
       "  <thead>\n",
       "    <tr style=\"text-align: right;\">\n",
       "      <th></th>\n",
       "      <th></th>\n",
       "      <th></th>\n",
       "      <th>FullAddress</th>\n",
       "    </tr>\n",
       "    <tr>\n",
       "      <th>Precinct</th>\n",
       "      <th>CityArea</th>\n",
       "      <th>Street</th>\n",
       "      <th></th>\n",
       "    </tr>\n",
       "  </thead>\n",
       "  <tbody>\n",
       "    <tr>\n",
       "      <th rowspan=\"11\" valign=\"top\">831730</th>\n",
       "      <th rowspan=\"11\" valign=\"top\">missing</th>\n",
       "      <th>APPLETREE</th>\n",
       "      <td>9</td>\n",
       "    </tr>\n",
       "    <tr>\n",
       "      <th>CHERRY BLOSSOM</th>\n",
       "      <td>9</td>\n",
       "    </tr>\n",
       "    <tr>\n",
       "      <th>FERNWOOD</th>\n",
       "      <td>6</td>\n",
       "    </tr>\n",
       "    <tr>\n",
       "      <th>FREESIA</th>\n",
       "      <td>9</td>\n",
       "    </tr>\n",
       "    <tr>\n",
       "      <th>FRUITWOOD</th>\n",
       "      <td>12</td>\n",
       "    </tr>\n",
       "    <tr>\n",
       "      <th>JASMINE</th>\n",
       "      <td>14</td>\n",
       "    </tr>\n",
       "    <tr>\n",
       "      <th>LAURUS</th>\n",
       "      <td>11</td>\n",
       "    </tr>\n",
       "    <tr>\n",
       "      <th>PEACHTREE</th>\n",
       "      <td>11</td>\n",
       "    </tr>\n",
       "    <tr>\n",
       "      <th>RIVERWALK</th>\n",
       "      <td>15</td>\n",
       "    </tr>\n",
       "    <tr>\n",
       "      <th>ROSETREE</th>\n",
       "      <td>12</td>\n",
       "    </tr>\n",
       "    <tr>\n",
       "      <th>SANDALWOOD</th>\n",
       "      <td>3</td>\n",
       "    </tr>\n",
       "    <tr>\n",
       "      <th rowspan=\"2\" valign=\"top\">835050</th>\n",
       "      <th rowspan=\"2\" valign=\"top\">missing</th>\n",
       "      <th>CHAUNTRY COMMON</th>\n",
       "      <td>3</td>\n",
       "    </tr>\n",
       "    <tr>\n",
       "      <th>PERALTA</th>\n",
       "      <td>1</td>\n",
       "    </tr>\n",
       "  </tbody>\n",
       "</table>\n",
       "</div>"
      ],
      "text/plain": [
       "                                   FullAddress\n",
       "Precinct CityArea Street                      \n",
       "831730   missing  APPLETREE                  9\n",
       "                  CHERRY BLOSSOM             9\n",
       "                  FERNWOOD                   6\n",
       "                  FREESIA                    9\n",
       "                  FRUITWOOD                 12\n",
       "                  JASMINE                   14\n",
       "                  LAURUS                    11\n",
       "                  PEACHTREE                 11\n",
       "                  RIVERWALK                 15\n",
       "                  ROSETREE                  12\n",
       "                  SANDALWOOD                 3\n",
       "835050   missing  CHAUNTRY COMMON            3\n",
       "                  PERALTA                    1"
      ]
     },
     "execution_count": 14,
     "metadata": {},
     "output_type": "execute_result"
    }
   ],
   "source": [
    "PrecinctWithMissingCityArea = [831730, 835050]\n",
    "h.loc[h['Precinct'].isin(PrecinctWithMissingCityArea), [\n",
    "    'FullAddress','Street','CityArea','Precinct']].fillna('missing').groupby([\n",
    "    'Precinct','CityArea','Street']).count()"
   ]
  },
  {
   "cell_type": "markdown",
   "metadata": {},
   "source": [
    "The 831730 streets are all grouped in one fairly recent development around the Riverwalk road, using a map to see the other nearby streets I was able to identify the best `CityArea` for this `Precinct` is `Downtown / BART`"
   ]
  },
  {
   "cell_type": "code",
   "execution_count": 15,
   "metadata": {},
   "outputs": [
    {
     "data": {
      "text/html": [
       "<div>\n",
       "<style scoped>\n",
       "    .dataframe tbody tr th:only-of-type {\n",
       "        vertical-align: middle;\n",
       "    }\n",
       "\n",
       "    .dataframe tbody tr th {\n",
       "        vertical-align: top;\n",
       "    }\n",
       "\n",
       "    .dataframe thead th {\n",
       "        text-align: right;\n",
       "    }\n",
       "</style>\n",
       "<table border=\"1\" class=\"dataframe\">\n",
       "  <thead>\n",
       "    <tr style=\"text-align: right;\">\n",
       "      <th></th>\n",
       "      <th></th>\n",
       "      <th></th>\n",
       "      <th>FullAddress</th>\n",
       "    </tr>\n",
       "    <tr>\n",
       "      <th>Precinct</th>\n",
       "      <th>CityArea</th>\n",
       "      <th>Street</th>\n",
       "      <th></th>\n",
       "    </tr>\n",
       "  </thead>\n",
       "  <tbody>\n",
       "    <tr>\n",
       "      <th>831730</th>\n",
       "      <th>missing</th>\n",
       "      <th>RIVERWALK</th>\n",
       "      <td>15</td>\n",
       "    </tr>\n",
       "    <tr>\n",
       "      <th>835040</th>\n",
       "      <th>Downtown / BART</th>\n",
       "      <th>BISHOP</th>\n",
       "      <td>55</td>\n",
       "    </tr>\n",
       "    <tr>\n",
       "      <th>835410</th>\n",
       "      <th>Downtown / BART</th>\n",
       "      <th>TEMPLE</th>\n",
       "      <td>11</td>\n",
       "    </tr>\n",
       "  </tbody>\n",
       "</table>\n",
       "</div>"
      ],
      "text/plain": [
       "                                    FullAddress\n",
       "Precinct CityArea        Street                \n",
       "831730   missing         RIVERWALK           15\n",
       "835040   Downtown / BART BISHOP              55\n",
       "835410   Downtown / BART TEMPLE              11"
      ]
     },
     "execution_count": 15,
     "metadata": {},
     "output_type": "execute_result"
    }
   ],
   "source": [
    "h.loc[(h.Street.str.contains('RIVERWALK'))\n",
    "       | (h.Street.str.contains('TEMPLE'))\n",
    "       | (h.Street.str.contains('BISHOP'))\n",
    "       | (h.Street.str.contains('ARLENE'))\n",
    "       | (h.Street.str.contains('GREENWOOD')),\n",
    "      ['FullAddress', 'Street', 'CityArea', 'Precinct']].fillna('missing').groupby([\n",
    "    'Precinct','CityArea','Street']).count()"
   ]
  },
  {
   "cell_type": "markdown",
   "metadata": {},
   "source": [
    "Chauntry Common is another development where most of the houses are in one precinct and a few on the edge are in another, together with the corner house with address on Peralta Blvd. The best `CityArea` for this precinct is `Centerville`.\n",
    "\n",
    "Note: Peralta is a very long road with residents voting in 5 different precincts, Chauntry Common is near the 3000 block of Peralta. "
   ]
  },
  {
   "cell_type": "code",
   "execution_count": 16,
   "metadata": {},
   "outputs": [
    {
     "data": {
      "text/html": [
       "<div>\n",
       "<style scoped>\n",
       "    .dataframe tbody tr th:only-of-type {\n",
       "        vertical-align: middle;\n",
       "    }\n",
       "\n",
       "    .dataframe tbody tr th {\n",
       "        vertical-align: top;\n",
       "    }\n",
       "\n",
       "    .dataframe thead th {\n",
       "        text-align: right;\n",
       "    }\n",
       "</style>\n",
       "<table border=\"1\" class=\"dataframe\">\n",
       "  <thead>\n",
       "    <tr style=\"text-align: right;\">\n",
       "      <th></th>\n",
       "      <th></th>\n",
       "      <th></th>\n",
       "      <th>HouseNumber</th>\n",
       "    </tr>\n",
       "    <tr>\n",
       "      <th>Precinct</th>\n",
       "      <th>CityArea</th>\n",
       "      <th>Street</th>\n",
       "      <th></th>\n",
       "    </tr>\n",
       "  </thead>\n",
       "  <tbody>\n",
       "    <tr>\n",
       "      <th rowspan=\"2\" valign=\"top\">835010</th>\n",
       "      <th rowspan=\"2\" valign=\"top\">Centerville</th>\n",
       "      <th>CHAUNTRY COMMON</th>\n",
       "      <td>16</td>\n",
       "    </tr>\n",
       "    <tr>\n",
       "      <th>PERALTA</th>\n",
       "      <td>2</td>\n",
       "    </tr>\n",
       "    <tr>\n",
       "      <th rowspan=\"2\" valign=\"top\">835050</th>\n",
       "      <th rowspan=\"2\" valign=\"top\">missing</th>\n",
       "      <th>CHAUNTRY COMMON</th>\n",
       "      <td>3</td>\n",
       "    </tr>\n",
       "    <tr>\n",
       "      <th>PERALTA</th>\n",
       "      <td>1</td>\n",
       "    </tr>\n",
       "  </tbody>\n",
       "</table>\n",
       "</div>"
      ],
      "text/plain": [
       "                                      HouseNumber\n",
       "Precinct CityArea    Street                      \n",
       "835010   Centerville CHAUNTRY COMMON           16\n",
       "                     PERALTA                    2\n",
       "835050   missing     CHAUNTRY COMMON            3\n",
       "                     PERALTA                    1"
      ]
     },
     "execution_count": 16,
     "metadata": {},
     "output_type": "execute_result"
    }
   ],
   "source": [
    "h.loc[h.Street.str.contains('CHAUNTRY')\n",
    "      | ((h.Street.str.contains('PERALTA')) & (h.HouseNumber > 3000))\n",
    "      ,['HouseNumber','Street', 'CityArea', 'Precinct']].fillna('missing').sort_values('HouseNumber').groupby([\n",
    "    'Precinct','CityArea','Street']).count()"
   ]
  },
  {
   "cell_type": "code",
   "execution_count": 17,
   "metadata": {},
   "outputs": [
    {
     "data": {
      "text/html": [
       "<div>\n",
       "<style scoped>\n",
       "    .dataframe tbody tr th:only-of-type {\n",
       "        vertical-align: middle;\n",
       "    }\n",
       "\n",
       "    .dataframe tbody tr th {\n",
       "        vertical-align: top;\n",
       "    }\n",
       "\n",
       "    .dataframe thead th {\n",
       "        text-align: right;\n",
       "    }\n",
       "</style>\n",
       "<table border=\"1\" class=\"dataframe\">\n",
       "  <thead>\n",
       "    <tr style=\"text-align: right;\">\n",
       "      <th></th>\n",
       "      <th></th>\n",
       "      <th></th>\n",
       "      <th>FullAddress</th>\n",
       "    </tr>\n",
       "    <tr>\n",
       "      <th>Precinct</th>\n",
       "      <th>CityAreaClean</th>\n",
       "      <th>Street</th>\n",
       "      <th></th>\n",
       "    </tr>\n",
       "  </thead>\n",
       "  <tbody>\n",
       "    <tr>\n",
       "      <th rowspan=\"11\" valign=\"top\">831730</th>\n",
       "      <th rowspan=\"11\" valign=\"top\">Downtown / BART</th>\n",
       "      <th>APPLETREE</th>\n",
       "      <td>9</td>\n",
       "    </tr>\n",
       "    <tr>\n",
       "      <th>CHERRY BLOSSOM</th>\n",
       "      <td>9</td>\n",
       "    </tr>\n",
       "    <tr>\n",
       "      <th>FERNWOOD</th>\n",
       "      <td>6</td>\n",
       "    </tr>\n",
       "    <tr>\n",
       "      <th>FREESIA</th>\n",
       "      <td>9</td>\n",
       "    </tr>\n",
       "    <tr>\n",
       "      <th>FRUITWOOD</th>\n",
       "      <td>12</td>\n",
       "    </tr>\n",
       "    <tr>\n",
       "      <th>JASMINE</th>\n",
       "      <td>14</td>\n",
       "    </tr>\n",
       "    <tr>\n",
       "      <th>LAURUS</th>\n",
       "      <td>11</td>\n",
       "    </tr>\n",
       "    <tr>\n",
       "      <th>PEACHTREE</th>\n",
       "      <td>11</td>\n",
       "    </tr>\n",
       "    <tr>\n",
       "      <th>RIVERWALK</th>\n",
       "      <td>15</td>\n",
       "    </tr>\n",
       "    <tr>\n",
       "      <th>ROSETREE</th>\n",
       "      <td>12</td>\n",
       "    </tr>\n",
       "    <tr>\n",
       "      <th>SANDALWOOD</th>\n",
       "      <td>3</td>\n",
       "    </tr>\n",
       "    <tr>\n",
       "      <th rowspan=\"2\" valign=\"top\">835050</th>\n",
       "      <th rowspan=\"2\" valign=\"top\">Centerville</th>\n",
       "      <th>CHAUNTRY COMMON</th>\n",
       "      <td>3</td>\n",
       "    </tr>\n",
       "    <tr>\n",
       "      <th>PERALTA</th>\n",
       "      <td>1</td>\n",
       "    </tr>\n",
       "  </tbody>\n",
       "</table>\n",
       "</div>"
      ],
      "text/plain": [
       "                                          FullAddress\n",
       "Precinct CityAreaClean   Street                      \n",
       "831730   Downtown / BART APPLETREE                  9\n",
       "                         CHERRY BLOSSOM             9\n",
       "                         FERNWOOD                   6\n",
       "                         FREESIA                    9\n",
       "                         FRUITWOOD                 12\n",
       "                         JASMINE                   14\n",
       "                         LAURUS                    11\n",
       "                         PEACHTREE                 11\n",
       "                         RIVERWALK                 15\n",
       "                         ROSETREE                  12\n",
       "                         SANDALWOOD                 3\n",
       "835050   Centerville     CHAUNTRY COMMON            3\n",
       "                         PERALTA                    1"
      ]
     },
     "execution_count": 17,
     "metadata": {},
     "output_type": "execute_result"
    }
   ],
   "source": [
    "h.loc[:,'CityAreaClean'] = h['CityArea']\n",
    "# setting the CityArea for the 'missing' Precincts\n",
    "h.loc[h.Precinct == 831730, 'CityAreaClean'] = 'Downtown / BART'\n",
    "h.loc[h.Precinct == 835050, 'CityAreaClean'] = 'Centerville'\n",
    "\n",
    "# validate\n",
    "h.loc[h['Precinct'].isin(PrecinctWithMissingCityArea), [\n",
    "    'FullAddress','Street','CityAreaClean','Precinct']].groupby([\n",
    "    'Precinct','CityAreaClean','Street']).count()"
   ]
  },
  {
   "cell_type": "markdown",
   "metadata": {},
   "source": [
    "### Cleaning the Zip data\n",
    "Some zips had been entered with varying levels of accuracy. I cleaned them all to a consistent 5 digit zip code"
   ]
  },
  {
   "cell_type": "code",
   "execution_count": 18,
   "metadata": {},
   "outputs": [
    {
     "data": {
      "text/plain": [
       "94538    3835\n",
       "94536    3095\n",
       "Name: ZipClean, dtype: int64"
      ]
     },
     "execution_count": 18,
     "metadata": {},
     "output_type": "execute_result"
    }
   ],
   "source": [
    "h['ZipClean'] = h.Zip.astype(str).str[0:5].astype('int')\n",
    "h['ZipClean'].value_counts()"
   ]
  },
  {
   "cell_type": "markdown",
   "metadata": {},
   "source": [
    "### Creating an isApt field\n",
    "A True/False column denoting if the household has an Apt number."
   ]
  },
  {
   "cell_type": "code",
   "execution_count": 19,
   "metadata": {},
   "outputs": [
    {
     "name": "stdout",
     "output_type": "stream",
     "text": [
      "All but 3 Household's have different Apt # than House Numbers.\n"
     ]
    }
   ],
   "source": [
    "h['SameAptHouNo'] = h.apply(lambda row:'Y' if \n",
    "                                str(row.ApartmentNumber) == str(row.HouseNumber) else 'N', axis=1)\n",
    "apt_issues = h.loc[(h.SameAptHouNo == 'Y')\n",
    "          ,['Household_Id','ApartmentNumber', 'SameAptHouNo', ]]\n",
    "print('All but {} Household\\'s have different Apt # than House Numbers.'.format(len(apt_issues)))\n",
    "#apt_issues"
   ]
  },
  {
   "cell_type": "code",
   "execution_count": 20,
   "metadata": {
    "collapsed": true
   },
   "outputs": [],
   "source": [
    "# correcting these 3 entries \n",
    "h.iloc[[1499], 8] = np.nan  # to match 3 other family members at same address\n",
    "h.iloc[[1855], 8] = np.nan  # to match USPS delivery address\n",
    "h.iloc[[6051], 8] = np.nan  # to match USPS delivery address\n",
    "#h.iloc[[1499,1855,6051],[0,1,8]]"
   ]
  },
  {
   "cell_type": "code",
   "execution_count": 21,
   "metadata": {
    "scrolled": true
   },
   "outputs": [
    {
     "data": {
      "text/plain": [
       "False    4927\n",
       "True     2003\n",
       "Name: isApt, dtype: int64"
      ]
     },
     "execution_count": 21,
     "metadata": {},
     "output_type": "execute_result"
    }
   ],
   "source": [
    "h['isApt'] = h.ApartmentNumber.notnull()\n",
    "h.isApt.value_counts()"
   ]
  },
  {
   "cell_type": "markdown",
   "metadata": {},
   "source": [
    "### Moving to Categories and renaming ready for output"
   ]
  },
  {
   "cell_type": "code",
   "execution_count": 22,
   "metadata": {
    "collapsed": true
   },
   "outputs": [],
   "source": [
    "h = h.loc[:,['Household_Id', 'StreetTypeClean', 'ZipClean', 'Precinct', 'PrecinctSub',\n",
    "                 'District', 'CityAreaClean', 'isApt']]\n",
    "h.rename(columns={'CityAreaClean':'CityArea','ZipClean':'Zip',\n",
    "                      'StreetTypeClean':'StreetType'}, inplace=True)\n",
    "\n",
    "#categories don't reload from .csv so will have to be reset after reading in data.\n",
    "#h1[clean.select_dtypes(['object']).columns] = clean.select_dtypes(['object'\n",
    "#                                                            ]).apply(lambda \n",
    "#                                                                     x: x.astype('category'))"
   ]
  },
  {
   "cell_type": "markdown",
   "metadata": {},
   "source": [
    "### Shuffling the data to create new ID"
   ]
  },
  {
   "cell_type": "code",
   "execution_count": 23,
   "metadata": {
    "collapsed": true
   },
   "outputs": [],
   "source": [
    "# randomly shuffling the household row and reset index to make the new order the index\n",
    "# commenting out so won't run again\n",
    "#h = h.sample(frac=1).reset_index(drop=True)\n",
    "#h.index.name = 'Hid'\n",
    "#h = h.reset_index()"
   ]
  },
  {
   "cell_type": "code",
   "execution_count": 24,
   "metadata": {
    "collapsed": true
   },
   "outputs": [],
   "source": [
    "#hid_lookup = h[['Hid', 'Household_Id']]  # clean up of HH done after final shuffle complex"
   ]
  },
  {
   "cell_type": "markdown",
   "metadata": {},
   "source": [
    "Working through recreating a cleaned data file ready for tweaks to the data cleaning"
   ]
  },
  {
   "cell_type": "code",
   "execution_count": 25,
   "metadata": {},
   "outputs": [
    {
     "name": "stdout",
     "output_type": "stream",
     "text": [
      "(6930, 8)\n",
      "(6930, 8)\n"
     ]
    }
   ],
   "source": [
    "print(h.shape)\n",
    "h = pd.merge(h, hid_lookup.reset_index(), on='Household_Id', how='left')\n",
    "\n",
    "# ordering columns, sorting by Hid, removing Household_Id and resetting index \n",
    "# to make h match 'clean' data file\n",
    "h = h[['Hid', 'StreetType', 'Zip', 'Precinct', 'PrecinctSub',\n",
    "         'District', 'CityArea', 'isApt']].sort_values('Hid').reset_index(drop=True)\n",
    "print(h.shape)"
   ]
  },
  {
   "cell_type": "code",
   "execution_count": 26,
   "metadata": {},
   "outputs": [],
   "source": [
    "# loading prior 'clean' data for comparison\n",
    "cl_hh = pd.read_csv('data_clean/20180621_households_district3.csv')"
   ]
  },
  {
   "cell_type": "code",
   "execution_count": 27,
   "metadata": {
    "collapsed": true
   },
   "outputs": [],
   "source": [
    "def find_changes(df1, df2):\n",
    "    #Finding diffs in the data from first dump to second dump\n",
    "    # https://stackoverflow.com/a/17095620/1215012\n",
    "\n",
    "    ne_stacked = (df1 != df2).stack()\n",
    "    changed = ne_stacked[ne_stacked]\n",
    "    changed.index.names = ['id', 'col']\n",
    "\n",
    "    difference_locations = np.where(df1 != df2)\n",
    "    changed_from = df1.values[difference_locations]\n",
    "    changed_to = df2.values[difference_locations]\n",
    "\n",
    "    out = pd.DataFrame({'from': changed_from, 'to': changed_to}, index=changed.index)\n",
    "    out = out.reset_index()\n",
    "    interesting = out.loc[(out['from'].notnull()) & (out['to'].notnull())]\n",
    "    print(interesting.shape)\n",
    "    print(interesting.col.unique())\n",
    "    return interesting"
   ]
  },
  {
   "cell_type": "code",
   "execution_count": 28,
   "metadata": {},
   "outputs": [
    {
     "name": "stdout",
     "output_type": "stream",
     "text": [
      "<class 'pandas.core.frame.DataFrame'>\n",
      "RangeIndex: 6930 entries, 0 to 6929\n",
      "Data columns (total 9 columns):\n",
      "Hid            6930 non-null int64\n",
      "StreetType     6930 non-null object\n",
      "Zip            6930 non-null int64\n",
      "Precinct       6930 non-null int64\n",
      "PrecinctSub    6930 non-null int64\n",
      "District       6930 non-null int64\n",
      "CityArea       6930 non-null object\n",
      "isApt          6930 non-null bool\n",
      "cHid           6930 non-null int64\n",
      "dtypes: bool(1), int64(6), object(2)\n",
      "memory usage: 440.0+ KB\n"
     ]
    }
   ],
   "source": [
    "cl_hh.info()"
   ]
  },
  {
   "cell_type": "code",
   "execution_count": 29,
   "metadata": {},
   "outputs": [
    {
     "name": "stdout",
     "output_type": "stream",
     "text": [
      "<class 'pandas.core.frame.DataFrame'>\n",
      "RangeIndex: 6930 entries, 0 to 6929\n",
      "Data columns (total 8 columns):\n",
      "Hid            6930 non-null int64\n",
      "StreetType     6930 non-null object\n",
      "Zip            6930 non-null int64\n",
      "Precinct       6930 non-null int64\n",
      "PrecinctSub    6930 non-null int64\n",
      "District       6930 non-null int64\n",
      "CityArea       6930 non-null object\n",
      "isApt          6930 non-null bool\n",
      "dtypes: bool(1), int64(5), object(2)\n",
      "memory usage: 385.8+ KB\n"
     ]
    }
   ],
   "source": [
    "h.info()"
   ]
  },
  {
   "cell_type": "code",
   "execution_count": 30,
   "metadata": {},
   "outputs": [
    {
     "name": "stdout",
     "output_type": "stream",
     "text": [
      "(0, 4)\n",
      "[]\n"
     ]
    },
    {
     "data": {
      "text/plain": [
       "True"
      ]
     },
     "execution_count": 30,
     "metadata": {},
     "output_type": "execute_result"
    }
   ],
   "source": [
    "# Validating that only the items changed in this version of the notebook have actually changed\n",
    "a = cl_hh.drop(['StreetType','cHid'], axis='columns')\n",
    "b = h.drop('StreetType', axis='columns')\n",
    "find_changes(a, b)\n",
    "a.equals(b)"
   ]
  },
  {
   "cell_type": "markdown",
   "metadata": {},
   "source": [
    "## Household clean up\n",
    "3 additional households are in the data due to house numbers being entered as apartment numbers. Creating a cleaned Hid that corrects for this."
   ]
  },
  {
   "cell_type": "code",
   "execution_count": 31,
   "metadata": {
    "collapsed": true
   },
   "outputs": [],
   "source": [
    "hid_lookup['cHid'] = hid_lookup.index"
   ]
  },
  {
   "cell_type": "code",
   "execution_count": 32,
   "metadata": {
    "collapsed": true
   },
   "outputs": [],
   "source": [
    "# Used Household_Id to lookup correct index' for 6 affected households\n",
    "\n",
    "# combining these 6 into 3 cHid \n",
    "hid_lookup.iloc[[4849], 1] = h.iloc[[489]].index  # setting 4849's cHid to 489's Hid\n",
    "hid_lookup.iloc[[6399], 1] = h.iloc[[478]].index  # setting 6399's cHid to 478's Hid\n",
    "hid_lookup.iloc[[6208], 1] = h.iloc[[2953]].index # setting 6208's cHid to 2953's Hid\n",
    "#hid_lookup.iloc[[489,4849,6399,478,6208,2953]]"
   ]
  },
  {
   "cell_type": "code",
   "execution_count": 33,
   "metadata": {
    "collapsed": true
   },
   "outputs": [],
   "source": [
    "# saving cleaned file out\n",
    "#date = pd.Timestamp(\"today\").strftime(\"%Y%m%d\")\n",
    "#hid_lookup.to_csv('data_clean/{}_households_lookup_NO_GIT.csv'.format(date))"
   ]
  },
  {
   "cell_type": "code",
   "execution_count": 34,
   "metadata": {},
   "outputs": [],
   "source": [
    "# check code used when first creating cHid\n",
    "#find_changes(hid_lookup[['Household_Id']], hid_lookup_old)\n",
    "#hid_lookup[['Household_Id']].equals(hid_lookup_old)"
   ]
  },
  {
   "cell_type": "code",
   "execution_count": 35,
   "metadata": {
    "collapsed": true
   },
   "outputs": [],
   "source": [
    "# Adding new cHid column to h for output \n",
    "h = pd.merge(h, hid_lookup[['cHid']].reset_index(), on='Hid', how='left')"
   ]
  },
  {
   "cell_type": "code",
   "execution_count": 36,
   "metadata": {
    "collapsed": true
   },
   "outputs": [],
   "source": [
    "# check code\n",
    "#h.iloc[4847:4852]"
   ]
  },
  {
   "cell_type": "markdown",
   "metadata": {},
   "source": [
    "### Creating the output clean files"
   ]
  },
  {
   "cell_type": "code",
   "execution_count": 37,
   "metadata": {},
   "outputs": [
    {
     "name": "stdout",
     "output_type": "stream",
     "text": [
      "<class 'pandas.core.frame.DataFrame'>\n",
      "Int64Index: 6930 entries, 0 to 6929\n",
      "Data columns (total 9 columns):\n",
      "Hid            6930 non-null int64\n",
      "StreetType     6930 non-null object\n",
      "Zip            6930 non-null int64\n",
      "Precinct       6930 non-null int64\n",
      "PrecinctSub    6930 non-null int64\n",
      "District       6930 non-null int64\n",
      "CityArea       6930 non-null object\n",
      "isApt          6930 non-null bool\n",
      "cHid           6930 non-null int64\n",
      "dtypes: bool(1), int64(6), object(2)\n",
      "memory usage: 494.0+ KB\n"
     ]
    }
   ],
   "source": [
    "clean = h.copy()\n",
    "clean.info()"
   ]
  },
  {
   "cell_type": "code",
   "execution_count": 38,
   "metadata": {
    "collapsed": true
   },
   "outputs": [],
   "source": [
    "clean.set_index('Hid', inplace=True)\n",
    "# hid_lookup.set_index('Hid', inplace=True) # using existing lookup"
   ]
  },
  {
   "cell_type": "code",
   "execution_count": 39,
   "metadata": {
    "collapsed": true
   },
   "outputs": [],
   "source": [
    "date = pd.Timestamp(\"today\").strftime(\"%Y%m%d\")\n",
    "clean.to_csv('data_clean/{}_households_district3.csv'.format(date))\n",
    "# hid_lookup.to_csv('data_clean/{}_households_lookup_NO_GIT.csv'.format(date))"
   ]
  },
  {
   "cell_type": "markdown",
   "metadata": {
    "collapsed": true
   },
   "source": [
    "### Change Management\n",
    "Initial clean data and hid_lookup created 20180616\n",
    "\n",
    "20180621:\n",
    "- corrected ApartmentNumber for 2 address' with full address pattern problems\n",
    "- corrected ApartmentNumber for 3 households were the Apt number matched the House number\n",
    "- additional cHid column added to hid_lookup to combine the 3 duplicated HH's\n",
    "\n",
    "20180627:\n",
    "- StreetType, combined smaller groups\n",
    "- standardized on UNK for unknown to match existing coding used for Party"
   ]
  },
  {
   "cell_type": "code",
   "execution_count": null,
   "metadata": {},
   "outputs": [],
   "source": []
  },
  {
   "cell_type": "code",
   "execution_count": null,
   "metadata": {
    "collapsed": true
   },
   "outputs": [],
   "source": []
  }
 ],
 "metadata": {
  "kernelspec": {
   "display_name": "Python 3",
   "language": "python",
   "name": "python3"
  },
  "language_info": {
   "codemirror_mode": {
    "name": "ipython",
    "version": 3
   },
   "file_extension": ".py",
   "mimetype": "text/x-python",
   "name": "python",
   "nbconvert_exporter": "python",
   "pygments_lexer": "ipython3",
   "version": "3.7.0"
  }
 },
 "nbformat": 4,
 "nbformat_minor": 2
}
