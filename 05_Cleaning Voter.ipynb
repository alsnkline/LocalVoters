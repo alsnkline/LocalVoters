{
 "cells": [
  {
   "cell_type": "markdown",
   "metadata": {},
   "source": [
    "# Cleaning the Voter data\n",
    "Before further analysis the data was cleaned and PII (Personally Indentifiable Information) removed or obscured."
   ]
  },
  {
   "cell_type": "code",
   "execution_count": 1,
   "metadata": {
    "collapsed": true
   },
   "outputs": [],
   "source": [
    "# imports\n",
    "import numpy as np\n",
    "import pandas as pd"
   ]
  },
  {
   "cell_type": "code",
   "execution_count": 2,
   "metadata": {},
   "outputs": [],
   "source": [
    "# load the data\n",
    "voters = pd.read_csv('data_raw_NOGIT/180613_voters_district3_all_data.txt', sep='\\t')\n",
    "hh_lookup = pd.read_csv('data_clean/20180621_households_lookup_NO_GIT.csv', index_col='Hid')\n",
    "\n",
    "# loading the finalized look up table for Voters so I can re clean/tweak fix data issues without reshuffling\n",
    "vid_lookup = pd.read_csv('data_clean/20180616_voters_lookup_NO_GIT.csv', index_col='Vid')\n",
    "\n",
    "# loading clean Household data\n",
    "chhs = pd.read_csv('data_clean/20180627_households_district3.csv')"
   ]
  },
  {
   "cell_type": "markdown",
   "metadata": {},
   "source": [
    "For the Voter data the value_counts() for each column were reviewed and the following was done to clean and anonymize the data:\n",
    "\n",
    "| Original Data Column | Description of action | output column(s) | Type |\n",
    "|:---:|:---|:---:|:---:|\n",
    "| 'VoterID' | Rows of table were randomly shuffled, the index reset and the new index used as new UID. | 'vid' | Num |\n",
    "| 'Status' | Dropped, all entries are the same 'A'. | | |\n",
    "| 'Abbr' | Kept as is, although it’s not understood it is a clean number. | 'Abbr' | Num |\n",
    "| 'Affidavit' | Dropped as PII. | | |\n",
    "| 'LastVoted' | Only 6 entries column dropped as too sparse. | | |\n",
    "| 'Salutation' | Dropped PII, 6388 missing values. | | |\n",
    "| 'LastName' | Dropped as PII. | | |\n",
    "| 'FirstName' | Used to help fill missing gender data then dropped as PII. | | |\n",
    "| 'MiddleName' | 4020 NaN, and a lot of initials only, dropped as PII. | | |\n",
    "| 'Suffix' | 13057 NaN, dropped as PII. | | |\n",
    "| 'HouseNumber' | Dropped as PII. | | |\n",
    "| 'HouseNumberSuffix' | Dropped empty. | | |\n",
    "| 'StreetPrefix' |  Dropped empty. | | |\n",
    "| 'Street' | Dropped as PII. | | |\n",
    "| 'StreetType' | Populate missing values using 'Street': ‘Common’ => ‘CMN’ ‘GREEN’ => ‘GRN’ and two cross streets => ‘UNK’. Combine small categories together 'PL' and 'TER' => 'PL/TER', 'RD', 'LN', 'PKWY', 'LOOP', 'GRN' AND 'CIR' => 'OTH'  | 'StreetType' | Cat |\n",
    "| 'BuildingNumber' | Only 3 entries dropped. | | |\n",
    "| 'ApartmentNumber' | Converted to a True/False field. | 'isApt' | Bool |\n",
    "| 'City' | Dropped, all entries are the same. | | |\n",
    "| 'State' | 6 missing rows, dropped as all should be the same. | | |\n",
    "| 'Zip' | Cleaned all to 5 digit numerical zip code entries.  | 'Zip' | Num |\n",
    "| 'Precinct' | Converted to number and kept. | 'Precinct' | Num |\n",
    "| 'PrecinctSub' | Converted to number and kept. | 'PrecinctSub' | Num |\n",
    "| 'Party' | Converted to category and kept. Also created a 'PartyMain' field by combining all the small parties into an 'OTH' category | 'Party', 'PartyMain' | Cat, Cat |\n",
    "| 'RegDate' | Converted to a dateTime and kept. | 'RegDate' | Date |\n",
    "| 'ImageID | An int between 0 and 48277945 meaning unknown, dropped as Images are often PII. | | |\n",
    "| 'Phone1' | 5266 NaN's 8041 values, converted to True/False. | 'havePhone' | Bool |\n",
    "| 'Phone2' | Only 2 values, dropped as PII. | | |\n",
    "| 'Military' | Only 9 'Y' dropped too sparse. | | |\n",
    "| 'Gender' | 5223 NaN's 1743 ‘F’ and 1717 ‘M’ were added by comparing to a database of name genders (https://github.com/organisciak/names), remaining missing data was set to ‘UNK’.  | 'Gender' | Cat |\n",
    "| 'PAV' | Is voter a Permanent Absentee Voter, converted to category and kept. | 'PAV' | Cat |\n",
    "| 'BirthPlace ' | This mixed two and three letter code was assumed to be a two USA state code, and only if that failed to match assumed to be a two or three letter country code. Output was 2 clean columns with state and or country, plus 2 clean columns with State and Country Region information. State, Country and Region code data gathered from wikipedia,  'UNK' added for the 1296 NaN's. | 'BirthPlaceState', 'BirthPlaceStateRegion', 'BirthPlaceCountry', 'BirthPlaceCountryRegion' | Cat, Cat, Cat, Cat |\n",
    "| 'BirthDate' | Cleaned full birthday into 'BirthYear', rest dropped as PII. | 'BirthYear' | Int |\n",
    "| | Used BirthDate to calculate Oldest in Household Birth Year and if you are the oldest in your house hold | 'OldestInHouseBirthYear', 'IsOldestInHouse' | Int |\n",
    "| Mailing Address columns | Compared with main address to create a True/False, Country kept as a category. | 'sameMailAddress', 'MailCountry' | Bool, Cat |\n",
    "| 'LTDate' | An internal column to registration office, dropped. | | |\n",
    "| 'email' | 9009 NaN's, Cleaned to keep the service provider with UNK for NaNs. | 'EmailProvider' | Str |\n",
    "| 'RegDateOriginal' | Converted to a dateTime and kept. | 'RegDateOriginal' | Date |\n",
    "| 'PermCategory' | An internal column to registration office, dropped. | | |\n",
    "| 'PrecinctName' | Shown to be formatted combination of Precinct and PrecinctSub so dropped. | | |\n",
    "| 'ResAddrLine1' |  Dropped empty. | | |\n",
    "| 'ResAddrLine2' |  Dropped empty. | | |\n",
    "| 'E1_110816' | Code indicated vote, converted to category and kept. | 'E6_110816' | Cat |\n",
    "| 'E2_060716' | Code indicated vote and ballot used, Cleaned into 'Vote' and 'BallotType' and kept. | 'E5_060716', 'E5_060716BT' | Cat |\n",
    "| 'E3_110414' | Code indicated vote, converted to category and kept. | 'E4_110414' | Cat |\n",
    "| 'E4_060314' | Code indicated vote, converted to category and kept. | 'E3_060314' | Cat |\n",
    "| 'E5_110612' | Code indicated vote, converted to category and kept. | 'E2_110612' | Cat |\n",
    "| 'E6_060512' | Code indicated vote and ballot used, Cleaned into 'Vote' and 'BallotType' and kept. | 'E1_060512','E1_060512BT' | Cat |\n",
    "| | Added column to indicate number of elections voter has been registered for. | 'Tot_Possible_Votes' | Num |\n",
    "| | Added column to indicate number of elections voter actually voted in. | 'Act_Votes' | Num |\n",
    "| | Added column to indicated % of possible elections actually voted in. | 'Pct_Possible_Votes' | Num |\n",
    "| 'District' | Kept as is in case we need to add in other district data. | 'District' | Num |\n",
    "| 'VoterScore' | Score assigned by my friend based on which election someone has reported data for and voted (A or V) | 'VoterScore' | Num |\n",
    "| 'VoterScorePossible' | Score assigned by my friend assuming all reported data was 'vote' (A or V) | 'VoterScorePossible' | Num |\n",
    "| 'VoterScorePctOfPoss' | 'VoterScore'/'VoterScorePctOfPoss' | 'VoterScorePctOfPoss' | Num |\n",
    "| working cols | Other columns related to my friends modeling will be dropped, 'CityArea' will be brought back via our own cleaning and merging later. Columns dropped include 'UpdateStatus', 'cc_2016_email', 'cc_2016_lists', 'cc_2016_tags', 'cc_2018_active', 'age', 'oldest_in_household', 'IsApartment', 'CityArea' | | |\n",
    "| Household | Unique key linking each voter to a household, looked up and converted to anonymized Hid. | 'Hid' | Num |"
   ]
  },
  {
   "cell_type": "code",
   "execution_count": 3,
   "metadata": {
    "collapsed": true
   },
   "outputs": [],
   "source": [
    "v = voters"
   ]
  },
  {
   "cell_type": "markdown",
   "metadata": {},
   "source": [
    "Dropping all the columns not needed during cleaning."
   ]
  },
  {
   "cell_type": "code",
   "execution_count": 4,
   "metadata": {
    "collapsed": true
   },
   "outputs": [],
   "source": [
    "to_drop = ['Status','Affidavit','LastVoted','Salutation','LastName','MiddleName',\n",
    "           'Suffix','HouseNumberSuffix','StreetPrefix','City', 'State', 'ImageID',\n",
    "           'Phone2', 'Military','LTDate', 'PermCategory', 'ResAddrLine1', 'ResAddrLine2',\n",
    "          'UpdateStatus', 'cc_2016_email', 'cc_2016_lists', 'cc_2016_tags', 'cc_2018_active',\n",
    "           'age', 'oldest_in_household', 'IsApartment', 'CityArea']\n",
    "v = v.drop(to_drop, axis='columns')"
   ]
  },
  {
   "cell_type": "markdown",
   "metadata": {},
   "source": [
    "### Household ID\n",
    "Converting the public HH id to my private one."
   ]
  },
  {
   "cell_type": "code",
   "execution_count": 5,
   "metadata": {
    "collapsed": true
   },
   "outputs": [],
   "source": [
    "v = pd.merge(v, hh_lookup.reset_index(), left_on='Household', \n",
    "             right_on='Household_Id', how='left')"
   ]
  },
  {
   "cell_type": "code",
   "execution_count": 6,
   "metadata": {},
   "outputs": [
    {
     "name": "stdout",
     "output_type": "stream",
     "text": [
      "<class 'pandas.core.frame.DataFrame'>\n",
      "Int64Index: 13307 entries, 0 to 13306\n",
      "Data columns (total 4 columns):\n",
      "Hid             13307 non-null int64\n",
      "cHid            13307 non-null int64\n",
      "Household       13307 non-null object\n",
      "Household_Id    13307 non-null object\n",
      "dtypes: int64(2), object(2)\n",
      "memory usage: 519.8+ KB\n",
      "Household ids match and can be dropped\n"
     ]
    }
   ],
   "source": [
    "v[['Hid','cHid', 'Household', 'Household_Id']].info()\n",
    "assert (v['Household'] == v['Household_Id']).all()\n",
    "print('Household ids match and can be dropped')"
   ]
  },
  {
   "cell_type": "markdown",
   "metadata": {},
   "source": [
    "### Precinct Name\n",
    "Confirming that this is a formated concatination of the Precinct and PrecinctSug and then dropping the column."
   ]
  },
  {
   "cell_type": "code",
   "execution_count": 7,
   "metadata": {},
   "outputs": [
    {
     "name": "stdout",
     "output_type": "stream",
     "text": [
      "PrecinctName is a concatination and can be dropped\n"
     ]
    }
   ],
   "source": [
    "precinctcomp = v.loc[:,['PrecinctName', 'Precinct', 'PrecinctSub']]\n",
    "precinctcomp['Combined']= (['.'.join(i) for i in \n",
    "                        zip(precinctcomp[\"Precinct\"].map(str),precinctcomp[\"PrecinctSub\"].map(\"{0:0>2}\".format))])\n",
    "precinctcomp['Combined'] = precinctcomp['Combined'].apply(lambda x: \"{}{}\".format('PRECINCT NO. ', x))\n",
    "assert (precinctcomp['PrecinctName'] == precinctcomp['Combined']).all()\n",
    "print('PrecinctName is a concatination and can be dropped')"
   ]
  },
  {
   "cell_type": "code",
   "execution_count": 8,
   "metadata": {
    "collapsed": true
   },
   "outputs": [],
   "source": [
    "v = v.drop('PrecinctName', axis='columns')"
   ]
  },
  {
   "cell_type": "markdown",
   "metadata": {},
   "source": [
    "### 'RegDate' and 'RegDateOriginal'\n",
    "Converting to dates"
   ]
  },
  {
   "cell_type": "code",
   "execution_count": 9,
   "metadata": {
    "collapsed": true
   },
   "outputs": [],
   "source": [
    "v.RegDate = pd.to_datetime(v.RegDate.map(lambda x: x.replace(' 0:00', '')))\n",
    "v.RegDateOriginal = pd.to_datetime(v.RegDateOriginal.map(lambda x: x.replace(' 0:00', '')))"
   ]
  },
  {
   "cell_type": "code",
   "execution_count": 10,
   "metadata": {},
   "outputs": [
    {
     "name": "stdout",
     "output_type": "stream",
     "text": [
      "<class 'pandas.core.frame.DataFrame'>\n",
      "Int64Index: 13307 entries, 0 to 13306\n",
      "Data columns (total 2 columns):\n",
      "RegDate            13307 non-null datetime64[ns]\n",
      "RegDateOriginal    13307 non-null datetime64[ns]\n",
      "dtypes: datetime64[ns](2)\n",
      "memory usage: 311.9 KB\n"
     ]
    }
   ],
   "source": [
    "v[['RegDate', 'RegDateOriginal']].info()"
   ]
  },
  {
   "cell_type": "markdown",
   "metadata": {},
   "source": [
    "### BirthDate\n",
    "Calculating Oldest in House and who that is, converting to dates and keeping the year only"
   ]
  },
  {
   "cell_type": "code",
   "execution_count": 11,
   "metadata": {
    "collapsed": true
   },
   "outputs": [],
   "source": [
    "v.BirthDate = pd.to_datetime(v.BirthDate.map(lambda x: x.replace(' 0:00', '')))"
   ]
  },
  {
   "cell_type": "code",
   "execution_count": 12,
   "metadata": {
    "collapsed": true
   },
   "outputs": [],
   "source": [
    "v['OldestInHouseBirthDate'] = v.groupby(['cHid'])['BirthDate'].transform('min')\n",
    "v[['cHid', 'Hid','BirthDate','OldestInHouseBirthDate']].sort_values('cHid').head(8)\n",
    "v['IsOldestInHouse'] = v.OldestInHouseBirthDate == v.BirthDate\n",
    "#v[['cHid', 'Hid', 'BirthDate','OldestInHouseBirthDate','IsOldestInHouse']].sort_values(\n",
    "#    'cHid').head(8)"
   ]
  },
  {
   "cell_type": "code",
   "execution_count": 13,
   "metadata": {
    "collapsed": true
   },
   "outputs": [],
   "source": [
    "v['BirthYear'] = v.BirthDate.map(lambda x: x.year)\n",
    "v['OldestInHouseBirthYear'] = v.OldestInHouseBirthDate.map(lambda x: x.year)"
   ]
  },
  {
   "cell_type": "code",
   "execution_count": 14,
   "metadata": {
    "collapsed": true
   },
   "outputs": [],
   "source": [
    "v = v.drop(['BirthDate','OldestInHouseBirthDate'], axis='columns')"
   ]
  },
  {
   "cell_type": "code",
   "execution_count": 15,
   "metadata": {},
   "outputs": [
    {
     "name": "stdout",
     "output_type": "stream",
     "text": [
      "<class 'pandas.core.frame.DataFrame'>\n",
      "Int64Index: 13307 entries, 0 to 13306\n",
      "Data columns (total 3 columns):\n",
      "BirthYear                 13307 non-null int64\n",
      "OldestInHouseBirthYear    13307 non-null int64\n",
      "IsOldestInHouse           13307 non-null bool\n",
      "dtypes: bool(1), int64(2)\n",
      "memory usage: 324.9 KB\n"
     ]
    }
   ],
   "source": [
    "v[['BirthYear','OldestInHouseBirthYear','IsOldestInHouse']].info()"
   ]
  },
  {
   "cell_type": "markdown",
   "metadata": {},
   "source": [
    "### Phone number"
   ]
  },
  {
   "cell_type": "code",
   "execution_count": 16,
   "metadata": {
    "collapsed": true
   },
   "outputs": [],
   "source": [
    "v['havePhone'] = v.Phone1.notnull()\n",
    "v = v.drop('Phone1', axis='columns')"
   ]
  },
  {
   "cell_type": "code",
   "execution_count": 17,
   "metadata": {},
   "outputs": [
    {
     "name": "stdout",
     "output_type": "stream",
     "text": [
      "<class 'pandas.core.frame.DataFrame'>\n",
      "Int64Index: 13307 entries, 0 to 13306\n",
      "Data columns (total 1 columns):\n",
      "havePhone    13307 non-null bool\n",
      "dtypes: bool(1)\n",
      "memory usage: 117.0 KB\n"
     ]
    }
   ],
   "source": [
    "v[['havePhone']].info()"
   ]
  },
  {
   "cell_type": "markdown",
   "metadata": {},
   "source": [
    "### Birth Place\n",
    "This column is a mixture of 3 letter country codes and 2 letter state codes, I will separate them out and create a dedicated 'BirthPlaceState' column where we have that information and a 'BirthPlaceCountry' for the country, setting it to USA for states. I will also introduce an 'UNK' category to capture where the information is missing."
   ]
  },
  {
   "cell_type": "code",
   "execution_count": 18,
   "metadata": {
    "collapsed": true
   },
   "outputs": [],
   "source": [
    "# Reading in lists of USA State codes and 2 and 3 letter country codes\n",
    "usa_states = pd.read_csv('data_raw_NOGIT/us_state_codes.csv', index_col='Code').reset_index()\n",
    "country_codes = pd.read_csv('data_raw_NOGIT/country_codes.csv')\n",
    "country_codes = country_codes[['name', 'alpha-2', 'alpha-3']]\n",
    "# Namibia's 2 letter code 'NA' had to be escaped to avoid being read in as NaN!"
   ]
  },
  {
   "cell_type": "code",
   "execution_count": 19,
   "metadata": {
    "collapsed": true
   },
   "outputs": [],
   "source": [
    "def getCodeTuple(code):\n",
    "    \"\"\"Return (code, state, country) tuple, using 'UNK' where not in our look up lists.\"\"\"\n",
    "    res = (code, 'UNK','UNK')\n",
    "    if not isinstance(code, str):\n",
    "        pass\n",
    "    elif len(code) == 2:\n",
    "        if code in usa_states.Code.values:\n",
    "            t = usa_states.loc[usa_states.Code == code]\n",
    "            res = t.to_records(index=False)[0]\n",
    "        elif code in country_codes['alpha-2'].values:\n",
    "            t = country_codes.loc[country_codes['alpha-2'] == code]\n",
    "            res = (code,'UNK',country_codes.loc[\n",
    "                country_codes['alpha-2'] == code,'name'].values[0])\n",
    "    elif len(code) == 3:\n",
    "        if (code in country_codes['alpha-3'].values):\n",
    "            t = country_codes.loc[country_codes['alpha-3'] == code]\n",
    "            res = (code,'UNK',country_codes.loc[\n",
    "                country_codes['alpha-3'] == code,'name'].values[0])\n",
    "    return res\n"
   ]
  },
  {
   "cell_type": "code",
   "execution_count": 20,
   "metadata": {},
   "outputs": [
    {
     "data": {
      "text/plain": [
       "[('UK', 'UNK', 'UNK'),\n",
       " ('LVA', 'UNK', 'Latvia'),\n",
       " ('IN', 'Indiana', 'USA'),\n",
       " (nan, 'UNK', 'UNK'),\n",
       " ('AC', 'UNK', 'UNK'),\n",
       " ('KP', 'UNK', \"Korea (Democratic People's Republic of)\")]"
      ]
     },
     "execution_count": 20,
     "metadata": {},
     "output_type": "execute_result"
    }
   ],
   "source": [
    "# test code for getCodeTuple Function\n",
    "code = v.BirthPlace[v.BirthPlace.isnull()].values[0]    # NaN test\n",
    "code = ['UK', 'LVA', 'IN', code, 'AC', 'KP']\n",
    "[getCodeTuple(c) for c in code]"
   ]
  },
  {
   "cell_type": "code",
   "execution_count": 21,
   "metadata": {},
   "outputs": [
    {
     "data": {
      "text/html": [
       "<div>\n",
       "<style scoped>\n",
       "    .dataframe tbody tr th:only-of-type {\n",
       "        vertical-align: middle;\n",
       "    }\n",
       "\n",
       "    .dataframe tbody tr th {\n",
       "        vertical-align: top;\n",
       "    }\n",
       "\n",
       "    .dataframe thead th {\n",
       "        text-align: right;\n",
       "    }\n",
       "</style>\n",
       "<table border=\"1\" class=\"dataframe\">\n",
       "  <thead>\n",
       "    <tr style=\"text-align: right;\">\n",
       "      <th></th>\n",
       "      <th>Code</th>\n",
       "      <th>BirthPlaceState</th>\n",
       "      <th>BirthPlaceCountry</th>\n",
       "    </tr>\n",
       "  </thead>\n",
       "  <tbody>\n",
       "    <tr>\n",
       "      <th>0</th>\n",
       "      <td>AR</td>\n",
       "      <td>Arkansas</td>\n",
       "      <td>USA</td>\n",
       "    </tr>\n",
       "    <tr>\n",
       "      <th>1</th>\n",
       "      <td>CA</td>\n",
       "      <td>California</td>\n",
       "      <td>USA</td>\n",
       "    </tr>\n",
       "    <tr>\n",
       "      <th>2</th>\n",
       "      <td>IND</td>\n",
       "      <td>UNK</td>\n",
       "      <td>India</td>\n",
       "    </tr>\n",
       "    <tr>\n",
       "      <th>3</th>\n",
       "      <td>TX</td>\n",
       "      <td>Texas</td>\n",
       "      <td>USA</td>\n",
       "    </tr>\n",
       "    <tr>\n",
       "      <th>4</th>\n",
       "      <td>MEX</td>\n",
       "      <td>UNK</td>\n",
       "      <td>Mexico</td>\n",
       "    </tr>\n",
       "  </tbody>\n",
       "</table>\n",
       "</div>"
      ],
      "text/plain": [
       "  Code BirthPlaceState BirthPlaceCountry\n",
       "0   AR        Arkansas               USA\n",
       "1   CA      California               USA\n",
       "2  IND             UNK             India\n",
       "3   TX           Texas               USA\n",
       "4  MEX             UNK            Mexico"
      ]
     },
     "execution_count": 21,
     "metadata": {},
     "output_type": "execute_result"
    }
   ],
   "source": [
    "cleanbp = pd.DataFrame.from_records([\n",
    "    getCodeTuple(c) for c in v.BirthPlace.unique()], columns=[\n",
    "    'Code', 'BirthPlaceState', 'BirthPlaceCountry'])\n",
    "cleanbp.head()"
   ]
  },
  {
   "cell_type": "code",
   "execution_count": 22,
   "metadata": {
    "collapsed": true
   },
   "outputs": [],
   "source": [
    "v = pd.merge(v, cleanbp, left_on=['BirthPlace'], right_on=['Code'], how='left')\n",
    "# setting the country name for US to be consistent\n",
    "v.loc[v.BirthPlaceCountry == 'United States of America','BirthPlaceCountry'] = 'USA'"
   ]
  },
  {
   "cell_type": "markdown",
   "metadata": {},
   "source": [
    "Adding in Birth Place Country Region and Birth Place State Region, (Data from wikipedia)"
   ]
  },
  {
   "cell_type": "code",
   "execution_count": 23,
   "metadata": {},
   "outputs": [
    {
     "data": {
      "text/plain": [
       "USA         7074\n",
       "Asia        3915\n",
       "UNK         1329\n",
       "Americas     551\n",
       "Europe       291\n",
       "Africa        88\n",
       "Oceania       59\n",
       "Name: BirthPlaceCountryRegion, dtype: int64"
      ]
     },
     "execution_count": 23,
     "metadata": {},
     "output_type": "execute_result"
    }
   ],
   "source": [
    "Europe = ['Ireland', 'Germany','United Kingdom of Great Britain and Northern Ireland',\n",
    "         'Italy','France', 'Albania','Bosnia and Herzegovina','Croatia', 'Greece','Switzerland',\n",
    "         'Belgium','Poland','Russian Federation','Portugal','Romania','Sweden','Ukraine',\n",
    "          'Slovakia', 'Hungary', 'Lithuania', 'Spain','Cyprus','Latvia','Malta',\n",
    "          'Moldova (Republic of)','Netherlands', 'Finland','Bulgaria','Belarus','Czechia',]\n",
    "Africa = ['Central African Republic','Tanzania, United Republic of','Nigeria','Morocco','Uganda',\n",
    "          'Congo (Democratic Republic of the)','Ethiopia','Algeria','Eritrea', 'Cameroon','Egypt',\n",
    "          'Ghana','Kenya','Sudan','Mauritius','Chad', 'Burkina Faso', 'Libya','Liberia','Benin',\n",
    "          'Senegal','Angola',]\n",
    "Asia = ['India', 'Israel','Iran (Islamic Republic of)','Iraq', 'China','Taiwan, Province of China',\n",
    "       'Viet Nam', 'Myanmar','Hong Kong', \"Korea (Democratic People's Republic of)\",'Nepal',\n",
    "        'Afghanistan', 'Pakistan', 'Korea (Republic of)','Bangladesh','Japan', 'Indonesia',\n",
    "       'Thailand','Malaysia','Azerbaijan', 'Tajikistan','Philippines','Sri Lanka','Bahrain',\n",
    "       'Kuwait','Singapore','Mongolia', 'Cambodia','Turkey','Uzbekistan', 'Lebanon','Macao',\n",
    "       'Jordan','Syrian Arab Republic','Armenia',\"Lao People's Democratic Republic\",\n",
    "       'Saudi Arabia','United Arab Emirates',]\n",
    "Americas = ['Mexico', 'Canada','Panama','Ecuador','Venezuela (Bolivarian Republic of)',\n",
    "            'Peru', 'El Salvador','Cuba','Nicaragua', 'Guatemala',  'Brazil',\n",
    "           'Chile',  'Costa Rica','Colombia','Puerto Rico','Argentina','Honduras',\n",
    "           'Bolivia (Plurinational State of)','Jamaica','Haiti','Guyana','Dominica',\n",
    "            'Antigua and Barbuda','Virgin Islands (British)',]\n",
    "Oceania = ['Australia','American Samoa','New Zealand','Fiji', 'Guam',\n",
    "           'Northern Mariana Islands','Virgin Islands (U.S.)','Tonga','Bermuda', ]\n",
    "\n",
    "v['BirthPlaceCountryRegion'] = v.loc[v.BirthPlaceCountry.notnull(),'BirthPlaceCountry'].astype(str)\n",
    "v.loc[v['BirthPlaceCountryRegion'].isin(Europe), 'BirthPlaceCountryRegion'] = 'Europe'\n",
    "v.loc[v['BirthPlaceCountryRegion'].isin(Africa), 'BirthPlaceCountryRegion'] = 'Africa'\n",
    "v.loc[v['BirthPlaceCountryRegion'].isin(Asia), 'BirthPlaceCountryRegion'] = 'Asia'\n",
    "v.loc[v['BirthPlaceCountryRegion'].isin(Americas), 'BirthPlaceCountryRegion'] = 'Americas'\n",
    "v.loc[v['BirthPlaceCountryRegion'].isin(Oceania), 'BirthPlaceCountryRegion'] = 'Oceania'\n",
    "\n",
    "# Removing Bouvet Island its likely a bad data point - its a tiny island close to Antartica\n",
    "# it was declared a nature reserve in 1971!\n",
    "v['BirthPlaceCountryRegion'].replace('Bouvet Island', 'UNK', inplace=True)\n",
    "\n",
    "v.BirthPlaceCountryRegion.value_counts()"
   ]
  },
  {
   "cell_type": "code",
   "execution_count": 24,
   "metadata": {},
   "outputs": [
    {
     "data": {
      "text/plain": [
       "UNK          6364\n",
       "West         5454\n",
       "MidWest       603\n",
       "NorthWest     448\n",
       "South         438\n",
       "Name: BirthPlaceStateRegion, dtype: int64"
      ]
     },
     "execution_count": 24,
     "metadata": {},
     "output_type": "execute_result"
    }
   ],
   "source": [
    "NW = ['Connecticut', 'Maine', 'Massachusetts', 'New Hampshire', 'Rhode Island', 'Vermont',\n",
    "      'New York', 'Pennsylvania', 'New Jersey']\n",
    "MW = ['Indiana', 'Illinois', 'Michigan', 'Ohio', 'Wisconsin', 'Iowa', 'Kansas', 'Minnesota',\n",
    "      'Missouri', 'Nebraska', 'North Dakota', 'South Dakota']\n",
    "SO = ['Delaware', 'Florida', 'Georgia', 'Maryland', 'North Carolina', 'South Carolina',\n",
    "      'Virginia', 'District of Columbia', 'West Virginia', 'Alabama', 'Kentucky',\n",
    "      'Mississippi', 'Tennessee', 'Arkansas', 'Louisiana', 'Oklahoma', 'Texas']\n",
    "WE = ['Arizona', 'Colorado', 'Idaho', 'Montana', 'Nevada', 'New Mexico', 'Utah', 'Wyoming',\n",
    "      'Alaska', 'California', 'Hawaii', 'Oregon', 'Washington']\n",
    "\n",
    "v['BirthPlaceStateRegion'] = v.loc[v.BirthPlaceState.notnull(),'BirthPlaceState'].astype(str)\n",
    "v.loc[v['BirthPlaceStateRegion'].isin(NW), 'BirthPlaceStateRegion'] = 'NorthWest'\n",
    "v.loc[v['BirthPlaceStateRegion'].isin(MW), 'BirthPlaceStateRegion'] = 'MidWest'\n",
    "v.loc[v['BirthPlaceStateRegion'].isin(SO), 'BirthPlaceStateRegion'] = 'South'\n",
    "v.loc[v['BirthPlaceStateRegion'].isin(WE), 'BirthPlaceStateRegion'] = 'West'\n",
    "\n",
    "v.BirthPlaceStateRegion.value_counts()"
   ]
  },
  {
   "cell_type": "code",
   "execution_count": 25,
   "metadata": {},
   "outputs": [
    {
     "name": "stdout",
     "output_type": "stream",
     "text": [
      "BirthPlace and Code match and can be dropped\n",
      "<class 'pandas.core.frame.DataFrame'>\n",
      "Int64Index: 13307 entries, 0 to 13306\n",
      "Data columns (total 4 columns):\n",
      "BirthPlaceState            13307 non-null object\n",
      "BirthPlaceStateRegion      13307 non-null object\n",
      "BirthPlaceCountry          13307 non-null object\n",
      "BirthPlaceCountryRegion    13307 non-null object\n",
      "dtypes: object(4)\n",
      "memory usage: 519.8+ KB\n"
     ]
    }
   ],
   "source": [
    "# confirming merge and dropping the unclean columns\n",
    "assert (v.BirthPlace.loc[v.BirthPlace.notnull() == True] \n",
    "        == v.Code.loc[v.Code.notnull() == True]).all()\n",
    "print('BirthPlace and Code match and can be dropped')\n",
    "v = v.drop(['BirthPlace','Code'], axis='columns')\n",
    "v[['BirthPlaceState','BirthPlaceStateRegion',\n",
    "   'BirthPlaceCountry','BirthPlaceCountryRegion']].info()"
   ]
  },
  {
   "cell_type": "markdown",
   "metadata": {},
   "source": [
    "### Gender\n",
    "Some values in the Gender column are missing, we will use FirstName to attempt to assign one of the two standard Genders"
   ]
  },
  {
   "cell_type": "code",
   "execution_count": 26,
   "metadata": {},
   "outputs": [
    {
     "data": {
      "text/plain": [
       "10658"
      ]
     },
     "execution_count": 26,
     "metadata": {},
     "output_type": "execute_result"
    }
   ],
   "source": [
    "# loading in my gender name look up data\n",
    "import json\n",
    "# from https://github.com/organisciak/names\n",
    "with open('data_raw_NOGIT/name_genders.json', 'r') as f:\n",
    "    j_data = json.load(f)\n",
    "names = pd.Series(j_data)\n",
    "names.size"
   ]
  },
  {
   "cell_type": "code",
   "execution_count": 27,
   "metadata": {},
   "outputs": [
    {
     "data": {
      "text/plain": [
       "NaN    5223\n",
       "F      4212\n",
       "M      3872\n",
       "Name: Gender, dtype: int64"
      ]
     },
     "execution_count": 27,
     "metadata": {},
     "output_type": "execute_result"
    }
   ],
   "source": [
    "# before cleaning\n",
    "v.Gender.value_counts(dropna = False)"
   ]
  },
  {
   "cell_type": "code",
   "execution_count": 28,
   "metadata": {
    "collapsed": true
   },
   "outputs": [],
   "source": [
    "def cleanGender(row):\n",
    "    if str(row.Gender) == 'nan':\n",
    "        row.Gender = 'UNK'\n",
    "        if row.FirstName.title() in names.index:\n",
    "            row.Gender = names[row.FirstName.title()]\n",
    "    return row.Gender"
   ]
  },
  {
   "cell_type": "code",
   "execution_count": 29,
   "metadata": {},
   "outputs": [
    {
     "data": {
      "text/plain": [
       "F      5955\n",
       "M      5589\n",
       "UNK    1763\n",
       "Name: CleanGender, dtype: int64"
      ]
     },
     "execution_count": 29,
     "metadata": {},
     "output_type": "execute_result"
    }
   ],
   "source": [
    "v['CleanGender'] = v.apply(cleanGender, axis=1).astype('category')\n",
    "v.CleanGender.value_counts(dropna=False)\n",
    "#v.loc[v.CleanGender.isnull() == True,['FirstName','Gender','CleanGender']]"
   ]
  },
  {
   "cell_type": "code",
   "execution_count": 30,
   "metadata": {},
   "outputs": [
    {
     "name": "stdout",
     "output_type": "stream",
     "text": [
      "The cleaning process was able to assign genders for 1743 females and 1717 males.\n",
      "A total of 3460 more gender entries\n"
     ]
    }
   ],
   "source": [
    "print('The cleaning process was able to assign genders for {} females and {} males.\\nA total of {} more gender entries'.format(\n",
    "v.CleanGender.value_counts(dropna=False)['F']-v.Gender.value_counts(dropna=False)['F'],\n",
    "v.CleanGender.value_counts(dropna=False)['M']-v.Gender.value_counts(dropna=False)['M'],\n",
    "v.Gender.value_counts(dropna=False)[0]-v.CleanGender.value_counts(dropna=False)['UNK']))"
   ]
  },
  {
   "cell_type": "code",
   "execution_count": 31,
   "metadata": {
    "collapsed": true
   },
   "outputs": [],
   "source": [
    "v = v.drop(['FirstName','Gender'], axis='columns')"
   ]
  },
  {
   "cell_type": "markdown",
   "metadata": {},
   "source": [
    "### Creating 'sameMailAddress' and CleanMailCountry columns\n",
    "comparing any mailing address' give to the street address to see which ones are the same"
   ]
  },
  {
   "cell_type": "code",
   "execution_count": 32,
   "metadata": {
    "collapsed": true
   },
   "outputs": [],
   "source": [
    "def cleanMail(row): \n",
    "    \n",
    "    build_num = row.BuildingNumber\n",
    "    if str(build_num) != 'nan':\n",
    "        build_num = str(int(row.BuildingNumber))\n",
    "    mail_zip = '' if str(row.MailZip) == 'nan' else row.MailZip[0:5]\n",
    "    row['cc_full_add'] = ' '.join([x for x in [str(row.HouseNumber), row.Street,\n",
    "                                 row.StreetType, build_num, \n",
    "                                                    str(row.AptNumber)] if str(x) != 'nan'])\n",
    "    \n",
    "    if (row.cc_full_add == row.MailStreet) & (mail_zip == row.Zip[0:5]):\n",
    "        row['sameMailAddress'] = True\n",
    "    else:\n",
    "        if row.MailState in usa_states.Code.values:\n",
    "            row.MailCountry = 'USA'\n",
    "        row['sameMailAddress'] = False\n",
    "    row['CleanMailCountry'] = row.MailCountry\n",
    "    return row"
   ]
  },
  {
   "cell_type": "code",
   "execution_count": 33,
   "metadata": {
    "collapsed": true
   },
   "outputs": [],
   "source": [
    "v = v.apply(cleanMail, axis=1)\n",
    "v.CleanMailCountry = v.CleanMailCountry.astype('category')\n",
    "#v.iloc[:10,:].apply(sameMailAddress, axis=1)"
   ]
  },
  {
   "cell_type": "code",
   "execution_count": 34,
   "metadata": {
    "collapsed": true,
    "scrolled": true
   },
   "outputs": [],
   "source": [
    "# Explore the HH's Whose address\\'s didn't match the pattern\n",
    "#v.loc[v.Household.isin(['HH-17611', 'HH-20607', 'HH-21939','HH-22036']\n",
    "#                      ),['Household','sameMailAddress','cc_full_add','HouseNumber',\n",
    "#       'Street','StreetType','AptNumber','MailStreet']].sort_values('Household')"
   ]
  },
  {
   "cell_type": "markdown",
   "metadata": {},
   "source": [
    "Quick Grouping to explore which Permanent Absentee Voters have different mailing address'."
   ]
  },
  {
   "cell_type": "code",
   "execution_count": 35,
   "metadata": {},
   "outputs": [
    {
     "data": {
      "text/html": [
       "<div>\n",
       "<style scoped>\n",
       "    .dataframe tbody tr th:only-of-type {\n",
       "        vertical-align: middle;\n",
       "    }\n",
       "\n",
       "    .dataframe tbody tr th {\n",
       "        vertical-align: top;\n",
       "    }\n",
       "\n",
       "    .dataframe thead th {\n",
       "        text-align: right;\n",
       "    }\n",
       "</style>\n",
       "<table border=\"1\" class=\"dataframe\">\n",
       "  <thead>\n",
       "    <tr style=\"text-align: right;\">\n",
       "      <th></th>\n",
       "      <th></th>\n",
       "      <th>Street</th>\n",
       "      <th>MailStreet</th>\n",
       "      <th>MailCountry</th>\n",
       "      <th>CleanMailCountry</th>\n",
       "    </tr>\n",
       "    <tr>\n",
       "      <th>PAV</th>\n",
       "      <th>sameMailAddress</th>\n",
       "      <th></th>\n",
       "      <th></th>\n",
       "      <th></th>\n",
       "      <th></th>\n",
       "    </tr>\n",
       "  </thead>\n",
       "  <tbody>\n",
       "    <tr>\n",
       "      <th rowspan=\"2\" valign=\"top\">N</th>\n",
       "      <th>False</th>\n",
       "      <td>139</td>\n",
       "      <td>139</td>\n",
       "      <td>138</td>\n",
       "      <td>138</td>\n",
       "    </tr>\n",
       "    <tr>\n",
       "      <th>True</th>\n",
       "      <td>4641</td>\n",
       "      <td>4641</td>\n",
       "      <td>0</td>\n",
       "      <td>0</td>\n",
       "    </tr>\n",
       "    <tr>\n",
       "      <th rowspan=\"2\" valign=\"top\">Y</th>\n",
       "      <th>False</th>\n",
       "      <td>306</td>\n",
       "      <td>306</td>\n",
       "      <td>306</td>\n",
       "      <td>306</td>\n",
       "    </tr>\n",
       "    <tr>\n",
       "      <th>True</th>\n",
       "      <td>8221</td>\n",
       "      <td>8221</td>\n",
       "      <td>0</td>\n",
       "      <td>0</td>\n",
       "    </tr>\n",
       "  </tbody>\n",
       "</table>\n",
       "</div>"
      ],
      "text/plain": [
       "                     Street  MailStreet  MailCountry  CleanMailCountry\n",
       "PAV sameMailAddress                                                   \n",
       "N   False               139         139          138               138\n",
       "    True               4641        4641            0                 0\n",
       "Y   False               306         306          306               306\n",
       "    True               8221        8221            0                 0"
      ]
     },
     "execution_count": 35,
     "metadata": {},
     "output_type": "execute_result"
    }
   ],
   "source": [
    "v[[ 'Street','MailStreet','MailCountry','sameMailAddress',\n",
    "    'CleanMailCountry', 'PAV']].groupby(['PAV','sameMailAddress']).count()"
   ]
  },
  {
   "cell_type": "code",
   "execution_count": 36,
   "metadata": {
    "collapsed": true
   },
   "outputs": [],
   "source": [
    "to_drop = ['CareOf','MailStreet','MailCity','MailState','MailZip','MailCountry','cc_full_add']\n",
    "v = v.drop(to_drop, axis='columns')"
   ]
  },
  {
   "cell_type": "markdown",
   "metadata": {},
   "source": [
    "### Set is_Apt field\n",
    "Manually cleaning the AptNumber fields for Voters affected by data entry errors."
   ]
  },
  {
   "cell_type": "code",
   "execution_count": 37,
   "metadata": {},
   "outputs": [
    {
     "name": "stdout",
     "output_type": "stream",
     "text": [
      "11 voters had incorrectly entered AptNumbers.\n"
     ]
    }
   ],
   "source": [
    "# using cleaned Household data to find known voters with inaccurate AptNumbers\n",
    "t = v[['VoterID', 'HouseNumber', 'Street', 'AptNumber', 'Hid', 'cHid']]\n",
    "t = pd.merge(t, chhs[['Hid','isApt']], on='Hid', how='left')\n",
    "affected_voters = t.loc[t.AptNumber.notnull() & (t.isApt == False)]\n",
    "v.loc[affected_voters.index, 'AptNumber'] = np.nan\n",
    "print('{} voters had incorrectly entered AptNumbers.'.format(len(affected_voters)))\n",
    "#affected_voters"
   ]
  },
  {
   "cell_type": "code",
   "execution_count": 38,
   "metadata": {},
   "outputs": [
    {
     "data": {
      "text/plain": [
       "False    10492\n",
       "True      2815\n",
       "Name: isApt, dtype: int64"
      ]
     },
     "execution_count": 38,
     "metadata": {},
     "output_type": "execute_result"
    }
   ],
   "source": [
    "v['isApt'] = v.AptNumber.notnull()\n",
    "v.isApt.value_counts()"
   ]
  },
  {
   "cell_type": "markdown",
   "metadata": {},
   "source": [
    "Manually cleaning a couple of 'isApt' fields that if left cause households not to match up.\n",
    "These 4 Address' have Voters who have an Apt number and Voters who do not have an Apt number in these case' the house is not actually an apt."
   ]
  },
  {
   "cell_type": "markdown",
   "metadata": {},
   "source": [
    "A True/False column denoting if the household has an Apt number."
   ]
  },
  {
   "cell_type": "code",
   "execution_count": 39,
   "metadata": {},
   "outputs": [
    {
     "name": "stdout",
     "output_type": "stream",
     "text": [
      "0 voters live in one of the affected households and have their isApt manually corrected\n"
     ]
    },
    {
     "data": {
      "text/html": [
       "<div>\n",
       "<style scoped>\n",
       "    .dataframe tbody tr th:only-of-type {\n",
       "        vertical-align: middle;\n",
       "    }\n",
       "\n",
       "    .dataframe tbody tr th {\n",
       "        vertical-align: top;\n",
       "    }\n",
       "\n",
       "    .dataframe thead th {\n",
       "        text-align: right;\n",
       "    }\n",
       "</style>\n",
       "<table border=\"1\" class=\"dataframe\">\n",
       "  <thead>\n",
       "    <tr style=\"text-align: right;\">\n",
       "      <th></th>\n",
       "      <th>Household</th>\n",
       "      <th>HouseNumber</th>\n",
       "      <th>Street</th>\n",
       "      <th>isApt_x</th>\n",
       "      <th>isApt_y</th>\n",
       "    </tr>\n",
       "  </thead>\n",
       "  <tbody>\n",
       "  </tbody>\n",
       "</table>\n",
       "</div>"
      ],
      "text/plain": [
       "Empty DataFrame\n",
       "Columns: [Household, HouseNumber, Street, isApt_x, isApt_y]\n",
       "Index: []"
      ]
     },
     "execution_count": 39,
     "metadata": {},
     "output_type": "execute_result"
    }
   ],
   "source": [
    "# not needed now that cleaned Household data is used to correct inaccurate AptNumbers \n",
    "# manually correcting the four households that have voters registered with and without apartment numbers.\n",
    "hhs = pd.merge(\n",
    "    v.loc[v.AptNumber.notnull(),['Household', 'HouseNumber', 'Street', 'isApt']],\n",
    "    v.loc[v.AptNumber.isnull(),['Household', 'HouseNumber', 'Street', 'isApt']],\n",
    "    on=['Household', 'HouseNumber', 'Street'])\n",
    "print('{} voters live in one of the affected households and have their isApt manually corrected'.format(\n",
    "    len(v.loc[(v.Household.isin(hhs.Household.unique())) & (v.isApt == True), ['isApt']])))\n",
    "v.loc[(v.Household.isin(hhs.Household.unique())) \n",
    "      & (v.isApt == True), ['isApt']] = False\n",
    "hhs"
   ]
  },
  {
   "cell_type": "markdown",
   "metadata": {},
   "source": [
    "### Cleaning the Zip data\n",
    "Exploring the Zip data. How many entries have 8 digit codes (although some may be 0000 rather than correct)"
   ]
  },
  {
   "cell_type": "code",
   "execution_count": 40,
   "metadata": {},
   "outputs": [
    {
     "data": {
      "text/plain": [
       "False    11564\n",
       "True      1743\n",
       "Name: full_zip, dtype: int64"
      ]
     },
     "execution_count": 40,
     "metadata": {},
     "output_type": "execute_result"
    }
   ],
   "source": [
    "pd.DataFrame([len(x)>5 for x in v.Zip], columns=['full_zip']).full_zip.value_counts()"
   ]
  },
  {
   "cell_type": "markdown",
   "metadata": {},
   "source": [
    "Setting all the entries to their 5 digit zip codes for now, it is possible that I could use an API to use the street address to look up the full 8 digit zip (https://stackoverflow.com/a/8731737/1215012) - although this may be too identifyable and so need to be obsqured to a code."
   ]
  },
  {
   "cell_type": "code",
   "execution_count": 41,
   "metadata": {},
   "outputs": [
    {
     "data": {
      "text/plain": [
       "94538    7365\n",
       "94536    5942\n",
       "Name: ZipClean, dtype: int64"
      ]
     },
     "execution_count": 41,
     "metadata": {},
     "output_type": "execute_result"
    }
   ],
   "source": [
    "v['ZipClean'] = v.Zip.astype(str).str[0:5].astype('int')\n",
    "v['ZipClean'].value_counts()"
   ]
  },
  {
   "cell_type": "markdown",
   "metadata": {},
   "source": [
    "### Cleaning StreetType\n",
    "significant data is missing from this column, I used the 'Street' and 'Full address' to identify the missing categories 'GRN', 'UNK' and add them, I was also able to identify that COMMON and COMMONS had not been mapped to 'CMN' so fixed that."
   ]
  },
  {
   "cell_type": "code",
   "execution_count": 42,
   "metadata": {
    "collapsed": true
   },
   "outputs": [],
   "source": [
    "v.loc[:,'StreetTypeClean'] = v['StreetType']\n",
    "# Cleaning the data by setting all Full Address' that include ' COMMON' to have StreetType 'CMN'\n",
    "v.loc[v.Street.str.contains(' COMMON') == True,['StreetTypeClean']] = 'CMN'\n",
    "# Same for ' GREEN' => 'GRN', and the two cross street parital address' to 'UNK'\n",
    "v.loc[v.Street.str.contains(' GREEN') == True,['StreetTypeClean']] = 'GRN'\n",
    "v.loc[v.Street.str.contains('/') == True,['StreetTypeClean']] = 'UNK'\n",
    "\n",
    "# combining some small categories toghether\n",
    "for_other = ['RD', 'LN', 'PKWY', 'LOOP', 'GRN', 'CIR']\n",
    "v.loc[v.StreetTypeClean.isin(['PL', 'TER']) == True,['StreetTypeClean']] = 'PL/TER'\n",
    "v.loc[v.StreetTypeClean.isin(for_other) == True,['StreetTypeClean']] = 'OTH'\n",
    "\n",
    "v.StreetTypeClean = v.StreetTypeClean.astype('category')"
   ]
  },
  {
   "cell_type": "code",
   "execution_count": 43,
   "metadata": {},
   "outputs": [
    {
     "data": {
      "text/plain": [
       "StreetType         11887\n",
       "StreetTypeClean    13307\n",
       "dtype: int64"
      ]
     },
     "execution_count": 43,
     "metadata": {},
     "output_type": "execute_result"
    }
   ],
   "source": [
    "# check code\n",
    "v.loc[(v.Street.str.contains('COMMON') == True)\n",
    "      |(v.Street.str.contains(' GREEN') == True)\n",
    "      |(v.Street.str.contains('/') == True)\n",
    "      ,['Street','StreetType', 'StreetTypeClean']]\n",
    "\n",
    "t = v[['Street','StreetType', 'StreetTypeClean']].groupby('Street').count()\n",
    "t.sum()"
   ]
  },
  {
   "cell_type": "code",
   "execution_count": 44,
   "metadata": {},
   "outputs": [
    {
     "data": {
      "text/plain": [
       "DR        2427\n",
       "CT        1766\n",
       "AVE       1756\n",
       "ST        1540\n",
       "CMN       1402\n",
       "WAY       1208\n",
       "PL/TER    1193\n",
       "BLVD      1082\n",
       "OTH        931\n",
       "UNK          2\n",
       "Name: StreetTypeClean, dtype: int64"
      ]
     },
     "execution_count": 44,
     "metadata": {},
     "output_type": "execute_result"
    }
   ],
   "source": [
    "v.StreetTypeClean.value_counts()"
   ]
  },
  {
   "cell_type": "code",
   "execution_count": 45,
   "metadata": {
    "collapsed": true
   },
   "outputs": [],
   "source": [
    "to_drop = ['HouseNumber', 'Street', 'StreetType', 'BuildingNumber', 'AptNumber', 'Zip']\n",
    "v = v.drop(to_drop, axis='columns')"
   ]
  },
  {
   "cell_type": "markdown",
   "metadata": {},
   "source": [
    "### Email Providers\n",
    "removing full email address' and leaving the the providers information where we have it."
   ]
  },
  {
   "cell_type": "code",
   "execution_count": 46,
   "metadata": {
    "collapsed": true
   },
   "outputs": [],
   "source": [
    "#[x[1] for x in v.Email.str.split('@')]\n",
    "#[y if str(y) != 'nan' else 'UNK' for y in v.Email]\n",
    "v['EmailProvider'] = [x.split('@')[-1] for x in [\n",
    "    y.lower() if str(y) != 'nan' else 'UNK' for y in v.Email]]"
   ]
  },
  {
   "cell_type": "code",
   "execution_count": 47,
   "metadata": {
    "collapsed": true
   },
   "outputs": [],
   "source": [
    "v = v.drop('Email', axis='columns')"
   ]
  },
  {
   "cell_type": "code",
   "execution_count": 48,
   "metadata": {},
   "outputs": [
    {
     "data": {
      "text/plain": [
       "UNK              9009\n",
       "gmail.com        1850\n",
       "yahoo.com        1311\n",
       "hotmail.com       363\n",
       "comcast.net       154\n",
       "aol.com           111\n",
       "sbcglobal.net     108\n",
       "att.net            41\n",
       "Name: EmailProvider, dtype: int64"
      ]
     },
     "execution_count": 48,
     "metadata": {},
     "output_type": "execute_result"
    }
   ],
   "source": [
    "v.EmailProvider.value_counts().head(8)"
   ]
  },
  {
   "cell_type": "markdown",
   "metadata": {},
   "source": [
    "## Party\n",
    "Combining the smaller parties into a single 'OTH' category in a 'PartyMain' field."
   ]
  },
  {
   "cell_type": "code",
   "execution_count": 49,
   "metadata": {},
   "outputs": [
    {
     "data": {
      "text/plain": [
       "DEM    6634\n",
       "NPP    4173\n",
       "REP    1952\n",
       "OTH     521\n",
       "UNK      27\n",
       "Name: PartyMain, dtype: int64"
      ]
     },
     "execution_count": 49,
     "metadata": {},
     "output_type": "execute_result"
    }
   ],
   "source": [
    "for_other = ['AI', 'LIB', 'GRN', 'IND', 'PF', 'MIS','MP', 'NAT', 'RAP', 'REF', 'ACP',\n",
    "             'AC', 'AME', 'CNP', 'EGA', 'PPC', 'ANA', 'NMB', 'NCM', 'LBL']\n",
    "v['PartyMain'] = v['Party']\n",
    "v.loc[v.PartyMain.isin(for_other) == True, ['PartyMain']] = 'OTH'\n",
    "v.PartyMain.value_counts()"
   ]
  },
  {
   "cell_type": "markdown",
   "metadata": {},
   "source": [
    "### Voter history\n",
    "Separating out the Vote from Ballot Type and setting the null character to ''."
   ]
  },
  {
   "cell_type": "code",
   "execution_count": 50,
   "metadata": {},
   "outputs": [],
   "source": [
    "#f['ballot_type'] = f['vote'].str.extract('\\((.*?)\\)', expand=True).fillna('')\n",
    "#f['vote'] = f['vote'].replace('\\(.*\\)', '', regex=True)\n",
    "\n",
    "v['E1_110816'] = v['E1_110816'].fillna('').astype('category')\n",
    "v['E2_060716BT'] = v['E2_060716'].str.extract('\\((.*?)\\)', expand=True).fillna('')\n",
    "v['E2_060716'] = v['E2_060716'].replace('\\(.*\\)', '', regex=True).fillna('').astype('category')\n",
    "v['E3_110414'] = v['E3_110414'].fillna('').astype('category')\n",
    "v['E4_060314'] = v['E4_060314'].fillna('').astype('category')\n",
    "v['E5_110612'] = v['E5_110612'].fillna('').astype('category')\n",
    "v['E6_060512BT'] = v['E6_060512'].str.extract('\\((.*?)\\)', expand=True).fillna('')\n",
    "v['E6_060512'] = v['E6_060512'].replace('\\(.*\\)', '', regex=True).fillna('').astype('category')\n",
    "v.E2_060716BT = v.E2_060716BT.astype('category')\n",
    "v.E6_060512BT = v.E6_060512BT.astype('category')"
   ]
  },
  {
   "cell_type": "code",
   "execution_count": 51,
   "metadata": {},
   "outputs": [
    {
     "name": "stdout",
     "output_type": "stream",
     "text": [
      "<class 'pandas.core.frame.DataFrame'>\n",
      "Int64Index: 13307 entries, 0 to 13306\n",
      "Data columns (total 8 columns):\n",
      "E1_110816      13307 non-null category\n",
      "E2_060716      13307 non-null category\n",
      "E3_110414      13307 non-null category\n",
      "E4_060314      13307 non-null category\n",
      "E5_110612      13307 non-null category\n",
      "E6_060512      13307 non-null category\n",
      "E2_060716BT    13307 non-null category\n",
      "E6_060512BT    13307 non-null category\n",
      "dtypes: category(8)\n",
      "memory usage: 850.5 KB\n"
     ]
    }
   ],
   "source": [
    "v[['E1_110816', 'E2_060716', 'E3_110414',\n",
    "       'E4_060314', 'E5_110612', 'E6_060512','E2_060716BT', 'E6_060512BT']].info()"
   ]
  },
  {
   "cell_type": "code",
   "execution_count": 52,
   "metadata": {},
   "outputs": [
    {
     "data": {
      "text/html": [
       "<div>\n",
       "<style scoped>\n",
       "    .dataframe tbody tr th:only-of-type {\n",
       "        vertical-align: middle;\n",
       "    }\n",
       "\n",
       "    .dataframe tbody tr th {\n",
       "        vertical-align: top;\n",
       "    }\n",
       "\n",
       "    .dataframe thead th {\n",
       "        text-align: right;\n",
       "    }\n",
       "</style>\n",
       "<table border=\"1\" class=\"dataframe\">\n",
       "  <thead>\n",
       "    <tr style=\"text-align: right;\">\n",
       "      <th>vote</th>\n",
       "      <th>V</th>\n",
       "      <th>A</th>\n",
       "      <th>N</th>\n",
       "      <th></th>\n",
       "    </tr>\n",
       "    <tr>\n",
       "      <th>election</th>\n",
       "      <th></th>\n",
       "      <th></th>\n",
       "      <th></th>\n",
       "      <th></th>\n",
       "    </tr>\n",
       "  </thead>\n",
       "  <tbody>\n",
       "    <tr>\n",
       "      <th>E1_110816</th>\n",
       "      <td>3090</td>\n",
       "      <td>6130</td>\n",
       "      <td>3122</td>\n",
       "      <td>965</td>\n",
       "    </tr>\n",
       "    <tr>\n",
       "      <th>E2_060716</th>\n",
       "      <td>1594</td>\n",
       "      <td>3252</td>\n",
       "      <td>6255</td>\n",
       "      <td>2206</td>\n",
       "    </tr>\n",
       "    <tr>\n",
       "      <th>E3_110414</th>\n",
       "      <td>1533</td>\n",
       "      <td>2781</td>\n",
       "      <td>5673</td>\n",
       "      <td>3320</td>\n",
       "    </tr>\n",
       "    <tr>\n",
       "      <th>E4_060314</th>\n",
       "      <td>824</td>\n",
       "      <td>1983</td>\n",
       "      <td>6920</td>\n",
       "      <td>3580</td>\n",
       "    </tr>\n",
       "    <tr>\n",
       "      <th>E5_110612</th>\n",
       "      <td>3081</td>\n",
       "      <td>3856</td>\n",
       "      <td>2359</td>\n",
       "      <td>4011</td>\n",
       "    </tr>\n",
       "    <tr>\n",
       "      <th>E6_060512</th>\n",
       "      <td>817</td>\n",
       "      <td>1760</td>\n",
       "      <td>6000</td>\n",
       "      <td>4730</td>\n",
       "    </tr>\n",
       "  </tbody>\n",
       "</table>\n",
       "</div>"
      ],
      "text/plain": [
       "vote          V     A     N      \n",
       "election                         \n",
       "E1_110816  3090  6130  3122   965\n",
       "E2_060716  1594  3252  6255  2206\n",
       "E3_110414  1533  2781  5673  3320\n",
       "E4_060314   824  1983  6920  3580\n",
       "E5_110612  3081  3856  2359  4011\n",
       "E6_060512   817  1760  6000  4730"
      ]
     },
     "execution_count": 52,
     "metadata": {},
     "output_type": "execute_result"
    }
   ],
   "source": [
    "election_fields = ['E1_110816','E2_060716','E3_110414','E4_060314','E5_110612','E6_060512']\n",
    "bt_fields = ['E2_060716BT', 'E6_060512BT']\n",
    "t = v[election_fields].stack(0).reset_index()\n",
    "t.columns = ['item','election', 'vote']\n",
    "t = t.groupby(['election','vote']).count().unstack('vote')\n",
    "t.columns = t.columns.droplevel()\n",
    "t = t.reindex(columns = ['V', 'A', 'N', ''])\n",
    "t"
   ]
  },
  {
   "cell_type": "markdown",
   "metadata": {},
   "source": [
    "Adding fields to indicate number of elections this voter was registred for and how many elections they actually voted in, also a column indicating the % of elections they were registered for in which they actually voted. This gets recalculated in 07_Vote Rates."
   ]
  },
  {
   "cell_type": "code",
   "execution_count": 53,
   "metadata": {},
   "outputs": [
    {
     "data": {
      "text/html": [
       "<div>\n",
       "<style scoped>\n",
       "    .dataframe tbody tr th:only-of-type {\n",
       "        vertical-align: middle;\n",
       "    }\n",
       "\n",
       "    .dataframe tbody tr th {\n",
       "        vertical-align: top;\n",
       "    }\n",
       "\n",
       "    .dataframe thead th {\n",
       "        text-align: right;\n",
       "    }\n",
       "</style>\n",
       "<table border=\"1\" class=\"dataframe\">\n",
       "  <thead>\n",
       "    <tr style=\"text-align: right;\">\n",
       "      <th></th>\n",
       "      <th></th>\n",
       "      <th>Pct_Possible_Votes</th>\n",
       "    </tr>\n",
       "    <tr>\n",
       "      <th>Tot_Possible_Votes</th>\n",
       "      <th>Act_Votes</th>\n",
       "      <th></th>\n",
       "    </tr>\n",
       "  </thead>\n",
       "  <tbody>\n",
       "    <tr>\n",
       "      <th rowspan=\"7\" valign=\"top\">6</th>\n",
       "      <th>6</th>\n",
       "      <td>1405</td>\n",
       "    </tr>\n",
       "    <tr>\n",
       "      <th>5</th>\n",
       "      <td>994</td>\n",
       "    </tr>\n",
       "    <tr>\n",
       "      <th>4</th>\n",
       "      <td>1088</td>\n",
       "    </tr>\n",
       "    <tr>\n",
       "      <th>3</th>\n",
       "      <td>1209</td>\n",
       "    </tr>\n",
       "    <tr>\n",
       "      <th>2</th>\n",
       "      <td>1491</td>\n",
       "    </tr>\n",
       "    <tr>\n",
       "      <th>1</th>\n",
       "      <td>1042</td>\n",
       "    </tr>\n",
       "    <tr>\n",
       "      <th>0</th>\n",
       "      <td>1253</td>\n",
       "    </tr>\n",
       "    <tr>\n",
       "      <th rowspan=\"6\" valign=\"top\">5</th>\n",
       "      <th>0</th>\n",
       "      <td>75</td>\n",
       "    </tr>\n",
       "    <tr>\n",
       "      <th>5</th>\n",
       "      <td>69</td>\n",
       "    </tr>\n",
       "    <tr>\n",
       "      <th>4</th>\n",
       "      <td>88</td>\n",
       "    </tr>\n",
       "    <tr>\n",
       "      <th>3</th>\n",
       "      <td>141</td>\n",
       "    </tr>\n",
       "    <tr>\n",
       "      <th>2</th>\n",
       "      <td>226</td>\n",
       "    </tr>\n",
       "    <tr>\n",
       "      <th>1</th>\n",
       "      <td>144</td>\n",
       "    </tr>\n",
       "    <tr>\n",
       "      <th rowspan=\"5\" valign=\"top\">4</th>\n",
       "      <th>4</th>\n",
       "      <td>73</td>\n",
       "    </tr>\n",
       "    <tr>\n",
       "      <th>3</th>\n",
       "      <td>64</td>\n",
       "    </tr>\n",
       "    <tr>\n",
       "      <th>2</th>\n",
       "      <td>93</td>\n",
       "    </tr>\n",
       "    <tr>\n",
       "      <th>1</th>\n",
       "      <td>130</td>\n",
       "    </tr>\n",
       "    <tr>\n",
       "      <th>0</th>\n",
       "      <td>159</td>\n",
       "    </tr>\n",
       "    <tr>\n",
       "      <th rowspan=\"4\" valign=\"top\">3</th>\n",
       "      <th>3</th>\n",
       "      <td>96</td>\n",
       "    </tr>\n",
       "    <tr>\n",
       "      <th>2</th>\n",
       "      <td>56</td>\n",
       "    </tr>\n",
       "    <tr>\n",
       "      <th>1</th>\n",
       "      <td>74</td>\n",
       "    </tr>\n",
       "    <tr>\n",
       "      <th>0</th>\n",
       "      <td>47</td>\n",
       "    </tr>\n",
       "    <tr>\n",
       "      <th rowspan=\"3\" valign=\"top\">2</th>\n",
       "      <th>2</th>\n",
       "      <td>487</td>\n",
       "    </tr>\n",
       "    <tr>\n",
       "      <th>1</th>\n",
       "      <td>422</td>\n",
       "    </tr>\n",
       "    <tr>\n",
       "      <th>0</th>\n",
       "      <td>258</td>\n",
       "    </tr>\n",
       "    <tr>\n",
       "      <th rowspan=\"2\" valign=\"top\">1</th>\n",
       "      <th>0</th>\n",
       "      <td>282</td>\n",
       "    </tr>\n",
       "    <tr>\n",
       "      <th>1</th>\n",
       "      <td>912</td>\n",
       "    </tr>\n",
       "    <tr>\n",
       "      <th>0</th>\n",
       "      <th>0</th>\n",
       "      <td>929</td>\n",
       "    </tr>\n",
       "  </tbody>\n",
       "</table>\n",
       "</div>"
      ],
      "text/plain": [
       "                              Pct_Possible_Votes\n",
       "Tot_Possible_Votes Act_Votes                    \n",
       "6                  6                        1405\n",
       "                   5                         994\n",
       "                   4                        1088\n",
       "                   3                        1209\n",
       "                   2                        1491\n",
       "                   1                        1042\n",
       "                   0                        1253\n",
       "5                  0                          75\n",
       "                   5                          69\n",
       "                   4                          88\n",
       "                   3                         141\n",
       "                   2                         226\n",
       "                   1                         144\n",
       "4                  4                          73\n",
       "                   3                          64\n",
       "                   2                          93\n",
       "                   1                         130\n",
       "                   0                         159\n",
       "3                  3                          96\n",
       "                   2                          56\n",
       "                   1                          74\n",
       "                   0                          47\n",
       "2                  2                         487\n",
       "                   1                         422\n",
       "                   0                         258\n",
       "1                  0                         282\n",
       "                   1                         912\n",
       "0                  0                         929"
      ]
     },
     "execution_count": 53,
     "metadata": {},
     "output_type": "execute_result"
    }
   ],
   "source": [
    "# create a temp column that combines all votes records into one string upto 6 characters long\n",
    "v['e_sum'] = v.loc[:,election_fields].sum(axis='columns')\n",
    "# the length of the string gives the total numbe of possible votes for that voter\n",
    "v['Tot_Possible_Votes'] = v.e_sum.str.len()\n",
    "# counting the actual number of in person or absentee votes cast by that voter\n",
    "v['Act_Votes'] = v.e_sum.str.count('[AV]')\n",
    "# calculating a percent of possible votes for that voter (avoiding Float accuracy issues)\n",
    "v['Pct_Possible_Votes'] = (v.Act_Votes/v.Tot_Possible_Votes).fillna(-1)\n",
    "v = v.drop('e_sum', axis='columns')\n",
    "v[['Tot_Possible_Votes','Act_Votes','Pct_Possible_Votes']].groupby(\n",
    "    ['Tot_Possible_Votes','Act_Votes']).count().sort_values('Tot_Possible_Votes', ascending=False)"
   ]
  },
  {
   "cell_type": "code",
   "execution_count": 54,
   "metadata": {},
   "outputs": [
    {
     "name": "stdout",
     "output_type": "stream",
     "text": [
      "1879 voters have RegDates after the last election held on 08 Nov 2016\n",
      "929 voters have 0 possible votes\n"
     ]
    }
   ],
   "source": [
    "n = election_fields + ['Tot_Possible_Votes','Act_Votes','Pct_Possible_Votes','RegDate','RegDateOriginal']\n",
    "print('{} voters have RegDates after the last election held on 08 Nov 2016'.format(\n",
    "    len(v.loc[v.RegDate > pd.to_datetime('2016-11-08'), n])))\n",
    "print('{} voters have 0 possible votes'.format(\n",
    "    v[['Tot_Possible_Votes','Act_Votes','Pct_Possible_Votes']].groupby(\n",
    "    ['Tot_Possible_Votes','Act_Votes']).count().sort_values('Tot_Possible_Votes', ascending=False).loc[(0,0)][0]))"
   ]
  },
  {
   "cell_type": "markdown",
   "metadata": {},
   "source": [
    "### Moving to Categories and renaming ready for output"
   ]
  },
  {
   "cell_type": "code",
   "execution_count": 55,
   "metadata": {
    "collapsed": true
   },
   "outputs": [],
   "source": [
    "# dropping the PII household columns\n",
    "v = v.drop(['Household', 'Household_Id'], axis='columns')"
   ]
  },
  {
   "cell_type": "code",
   "execution_count": 56,
   "metadata": {
    "collapsed": true
   },
   "outputs": [],
   "source": [
    "#categories don't reload from .csv so will have to be reset after reading in data.\n",
    "#cols_for_cat = ['CleanGender', 'Party', 'PartyMain', 'PAV', 'BirthPlaceState', 'BirthPlaceCountry']\n",
    "#v[cols_for_cat] = v[cols_for_cat].apply(lambda x: x.astype('category'))\n",
    "v.rename(columns={'CleanGender':'Gender', \n",
    "                  'CleanMailCountry':'MailCountry', \n",
    "                  'ZipClean':'Zip',\n",
    "                  'StreetTypeClean':'StreetType',\n",
    "                  'E1_110816':'E6_110816',\n",
    "                  'E2_060716':'E5_060716',\n",
    "                  'E2_060716BT':'E5_060716BT',\n",
    "                  'E3_110414':'E4_110414',\n",
    "                  'E4_060314':'E3_060314',\n",
    "                  'E5_110612':'E2_110612',\n",
    "                  'E6_060512':'E1_060512',\n",
    "                  'E6_060512BT':'E1_060512BT'\n",
    "                 }, inplace=True)"
   ]
  },
  {
   "cell_type": "markdown",
   "metadata": {},
   "source": [
    "### Creating my own Voter ID\n",
    "to finish anonymizing the data, and creating a look up table to enable convertion back if needed."
   ]
  },
  {
   "cell_type": "code",
   "execution_count": 57,
   "metadata": {
    "collapsed": true
   },
   "outputs": [],
   "source": [
    "# randomly shuffling the household row and reset index to make the new order the index\n",
    "# commenting out so it wont run again\n",
    "#v = v.sample(frac=1).reset_index(drop=True)\n",
    "#v.index.name = 'Vid'\n",
    "#v = v.reset_index()"
   ]
  },
  {
   "cell_type": "code",
   "execution_count": 58,
   "metadata": {
    "collapsed": true
   },
   "outputs": [],
   "source": [
    "#vid_lookup = v[['Vid', 'VoterID']]\n",
    "#v = v.drop('VoterID', axis='columns')"
   ]
  },
  {
   "cell_type": "markdown",
   "metadata": {},
   "source": [
    "Working through recreating a cleaned data file ready for tweaks to the data cleaning"
   ]
  },
  {
   "cell_type": "code",
   "execution_count": 59,
   "metadata": {},
   "outputs": [
    {
     "name": "stdout",
     "output_type": "stream",
     "text": [
      "(13307, 41)\n",
      "(13307, 41)\n"
     ]
    }
   ],
   "source": [
    "print(v.shape)\n",
    "v = pd.merge(v, vid_lookup.reset_index(), on='VoterID', how='left')\n",
    "# ordering columns, sorting by Vid, removing VoterID and resetting index to make V1 match 'clean' data file\n",
    "v = v[['Vid', 'Abbr', 'Precinct', 'PrecinctSub', 'Party', 'PartyMain', 'RegDate', 'PAV',\n",
    "       'RegDateOriginal', 'E6_110816', 'E5_060716', 'E4_110414', 'E3_060314',\n",
    "       'E2_110612', 'E1_060512', 'District', 'VoterScore',\n",
    "       'VoterScorePossible', 'VoterScorePctOfPoss', 'BirthYear','OldestInHouseBirthYear',\n",
    "       'IsOldestInHouse', 'havePhone', 'BirthPlaceState', 'BirthPlaceStateRegion',\n",
    "       'BirthPlaceCountry', 'BirthPlaceCountryRegion', 'Gender',\n",
    "       'sameMailAddress', 'MailCountry', 'isApt', 'Zip', 'StreetType', 'EmailProvider',\n",
    "       'E5_060716BT', 'E1_060512BT', 'Tot_Possible_Votes', 'Act_Votes',\n",
    "       'Pct_Possible_Votes', 'Hid', 'cHid']].sort_values('Vid').reset_index(drop=True)\n",
    "print(v.shape)"
   ]
  },
  {
   "cell_type": "code",
   "execution_count": 60,
   "metadata": {},
   "outputs": [],
   "source": [
    "# loading prior 'clean' data for comparison\n",
    "cl_voters = pd.read_csv('data_clean/20180627_voters_district3.csv')\n",
    "cl_voters.RegDate = pd.to_datetime(cl_voters.RegDate)\n",
    "cl_voters.RegDateOriginal = pd.to_datetime(cl_voters.RegDateOriginal)\n",
    "cols_for_fill = ['E6_110816','E5_060716','E4_110414','E3_060314','E2_110612','E1_060512','E5_060716BT','E1_060512BT']\n",
    "cl_voters[cols_for_fill] = cl_voters[cols_for_fill].apply(lambda x: x.fillna(''))\n",
    "cols_for_cat = ['E6_110816','E5_060716','E4_110414','E3_060314','E2_110612','E1_060512',\n",
    "                'MailCountry','StreetType','E5_060716BT','E1_060512BT']\n",
    "cl_voters[cols_for_cat] = cl_voters[cols_for_cat].apply(lambda x: x.astype('category'))\n"
   ]
  },
  {
   "cell_type": "code",
   "execution_count": 61,
   "metadata": {
    "collapsed": true
   },
   "outputs": [],
   "source": [
    "def find_changes(df1, df2):\n",
    "    #Finding diffs in the data from first dump to second dump\n",
    "    # https://stackoverflow.com/a/17095620/1215012\n",
    "\n",
    "    ne_stacked = (df1 != df2).stack()\n",
    "    changed = ne_stacked[ne_stacked]\n",
    "    changed.index.names = ['id', 'col']\n",
    "\n",
    "    difference_locations = np.where(df1 != df2)\n",
    "    changed_from = df1.values[difference_locations]\n",
    "    changed_to = df2.values[difference_locations]\n",
    "\n",
    "    out = pd.DataFrame({'from': changed_from, 'to': changed_to}, index=changed.index)\n",
    "    out = out.reset_index()\n",
    "    interesting = out.loc[(out['from'].notnull()) & (out['to'].notnull())]\n",
    "    print(interesting.shape)\n",
    "    print(interesting.col.unique())\n",
    "    return interesting"
   ]
  },
  {
   "cell_type": "code",
   "execution_count": 62,
   "metadata": {},
   "outputs": [
    {
     "data": {
      "text/plain": [
       "Index(['Vid', 'Abbr', 'Precinct', 'PrecinctSub', 'Party', 'PartyMain',\n",
       "       'RegDate', 'PAV', 'RegDateOriginal', 'E6_110816', 'E5_060716',\n",
       "       'E4_110414', 'E3_060314', 'E2_110612', 'E1_060512', 'District',\n",
       "       'VoterScore', 'VoterScorePossible', 'VoterScorePctOfPoss', 'BirthYear',\n",
       "       'OldestInHouseBirthYear', 'IsOldestInHouse', 'havePhone',\n",
       "       'BirthPlaceState', 'BirthPlaceStateRegion', 'BirthPlaceCountry',\n",
       "       'BirthPlaceCountryRegion', 'Gender', 'sameMailAddress', 'MailCountry',\n",
       "       'isApt', 'Zip', 'StreetType', 'EmailProvider', 'E5_060716BT',\n",
       "       'E1_060512BT', 'Tot_Possible_Votes', 'Act_Votes', 'Pct_Possible_Votes',\n",
       "       'Hid', 'cHid'],\n",
       "      dtype='object')"
      ]
     },
     "execution_count": 62,
     "metadata": {},
     "output_type": "execute_result"
    }
   ],
   "source": [
    "v.columns"
   ]
  },
  {
   "cell_type": "code",
   "execution_count": 63,
   "metadata": {},
   "outputs": [
    {
     "name": "stdout",
     "output_type": "stream",
     "text": [
      "(131, 4)\n",
      "['BirthPlaceCountry']\n"
     ]
    },
    {
     "data": {
      "text/plain": [
       "False"
      ]
     },
     "execution_count": 63,
     "metadata": {},
     "output_type": "execute_result"
    }
   ],
   "source": [
    "# Validating that only the items changed in this version of the notebook have actually changed\n",
    "a = cl_voters.drop(['Pct_Possible_Votes'], axis='columns')\n",
    "b = v.drop(['BirthPlaceStateRegion','BirthPlaceCountryRegion','Pct_Possible_Votes'], axis='columns')\n",
    "find_changes(a, b)\n",
    "a.equals(b)"
   ]
  },
  {
   "cell_type": "markdown",
   "metadata": {},
   "source": [
    "### Saving out the cleaned data\n",
    "The cleaned data is saved to file together with the lookup table"
   ]
  },
  {
   "cell_type": "code",
   "execution_count": 64,
   "metadata": {},
   "outputs": [
    {
     "name": "stdout",
     "output_type": "stream",
     "text": [
      "<class 'pandas.core.frame.DataFrame'>\n",
      "RangeIndex: 13307 entries, 0 to 13306\n",
      "Data columns (total 41 columns):\n",
      "Vid                        13307 non-null int64\n",
      "Abbr                       13307 non-null int64\n",
      "Precinct                   13307 non-null int64\n",
      "PrecinctSub                13307 non-null int64\n",
      "Party                      13307 non-null object\n",
      "PartyMain                  13307 non-null object\n",
      "RegDate                    13307 non-null datetime64[ns]\n",
      "PAV                        13307 non-null object\n",
      "RegDateOriginal            13307 non-null datetime64[ns]\n",
      "E6_110816                  13307 non-null category\n",
      "E5_060716                  13307 non-null category\n",
      "E4_110414                  13307 non-null category\n",
      "E3_060314                  13307 non-null category\n",
      "E2_110612                  13307 non-null category\n",
      "E1_060512                  13307 non-null category\n",
      "District                   13307 non-null int64\n",
      "VoterScore                 13307 non-null float64\n",
      "VoterScorePossible         13307 non-null float64\n",
      "VoterScorePctOfPoss        13307 non-null float64\n",
      "BirthYear                  13307 non-null int64\n",
      "OldestInHouseBirthYear     13307 non-null int64\n",
      "IsOldestInHouse            13307 non-null bool\n",
      "havePhone                  13307 non-null bool\n",
      "BirthPlaceState            13307 non-null object\n",
      "BirthPlaceStateRegion      13307 non-null object\n",
      "BirthPlaceCountry          13307 non-null object\n",
      "BirthPlaceCountryRegion    13307 non-null object\n",
      "Gender                     13307 non-null object\n",
      "sameMailAddress            13307 non-null bool\n",
      "MailCountry                444 non-null category\n",
      "isApt                      13307 non-null bool\n",
      "Zip                        13307 non-null int64\n",
      "StreetType                 13307 non-null category\n",
      "EmailProvider              13307 non-null object\n",
      "E5_060716BT                13307 non-null category\n",
      "E1_060512BT                13307 non-null category\n",
      "Tot_Possible_Votes         13307 non-null int64\n",
      "Act_Votes                  13307 non-null int64\n",
      "Pct_Possible_Votes         13307 non-null float64\n",
      "Hid                        13307 non-null int64\n",
      "cHid                       13307 non-null int64\n",
      "dtypes: bool(4), category(10), datetime64[ns](2), float64(4), int64(12), object(9)\n",
      "memory usage: 2.9+ MB\n"
     ]
    }
   ],
   "source": [
    "clean = v.copy()\n",
    "clean.info()"
   ]
  },
  {
   "cell_type": "code",
   "execution_count": 65,
   "metadata": {
    "collapsed": true
   },
   "outputs": [],
   "source": [
    "clean.set_index('Vid', inplace=True)\n",
    "# vid_lookup.set_index('Vid', inplace=True) # using existing lookup"
   ]
  },
  {
   "cell_type": "code",
   "execution_count": 66,
   "metadata": {
    "collapsed": true
   },
   "outputs": [],
   "source": [
    "date = pd.Timestamp(\"today\").strftime(\"%Y%m%d\")\n",
    "clean.to_csv('data_clean/{}_voters_district3.csv'.format(date))\n",
    "# vid_lookup.to_csv('data_clean/{}_voters_lookup_NO_GIT.csv'.format(date))"
   ]
  },
  {
   "cell_type": "markdown",
   "metadata": {
    "collapsed": true
   },
   "source": [
    "### Change Management\n",
    "Initial clean data and vid_lookup created 20180616\n",
    "\n",
    "20180620:\n",
    "- 4 manually corrected isApt columns were corrected and new data created.\n",
    "\n",
    "20180621:\n",
    "- HH isApt cleaned and impact carried over to all 11 affected voters (the 4 from yesterday plus 7 more.\n",
    "- cHid also incorporated into cleaned data.\n",
    "- standardized on UNK for unknown to match existing coding used for Party\n",
    "\n",
    "20180627:\n",
    "- StreetType, combined smaller groups\n",
    "- 'unk' for email provider => 'UNK' (fixed bug in placement of .lower())\n",
    "- Party, create 'PartyMain' with combined smaller groups\n",
    "\n",
    "20180628:\n",
    "- adding Birth state region\n",
    "- adding Birth country region"
   ]
  },
  {
   "cell_type": "code",
   "execution_count": null,
   "metadata": {
    "collapsed": true
   },
   "outputs": [],
   "source": []
  }
 ],
 "metadata": {
  "kernelspec": {
   "display_name": "Python 3",
   "language": "python",
   "name": "python3"
  },
  "language_info": {
   "codemirror_mode": {
    "name": "ipython",
    "version": 3
   },
   "file_extension": ".py",
   "mimetype": "text/x-python",
   "name": "python",
   "nbconvert_exporter": "python",
   "pygments_lexer": "ipython3",
   "version": "3.7.0"
  }
 },
 "nbformat": 4,
 "nbformat_minor": 2
}
