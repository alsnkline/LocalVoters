{
 "cells": [
  {
   "cell_type": "markdown",
   "metadata": {},
   "source": [
    "# The Data: 'What's in each column'\n",
    "A friend of mine running for the local council has procured the voter registration data for the area and is willing to share it with me in return for my help analysing it. Here is an intial investigation of it."
   ]
  },
  {
   "cell_type": "code",
   "execution_count": 26,
   "metadata": {
    "collapsed": true
   },
   "outputs": [],
   "source": [
    "# imports\n",
    "import pandas as pd\n",
    "import matplotlib.pyplot as plt"
   ]
  },
  {
   "cell_type": "code",
   "execution_count": 2,
   "metadata": {
    "collapsed": true
   },
   "outputs": [],
   "source": [
    "# load the data\n",
    "voters = pd.read_csv('data_raw_NOGIT/voters_district3.txt', sep='\\t')\n",
    "households = pd.read_csv('data_raw_NOGIT/households_district3.txt', sep='\\t')\n",
    "# this file has 'numVoters', 'numDems', 'numRepubs' calculated from the voter tables and populated\n",
    "households_with_count = pd.read_csv('data_raw_NOGIT/AK_hhld_withVoterCounts.txt', sep='\\t')"
   ]
  },
  {
   "cell_type": "code",
   "execution_count": 3,
   "metadata": {},
   "outputs": [
    {
     "name": "stdout",
     "output_type": "stream",
     "text": [
      "Index(['VoterID', 'Status', 'Abbr', 'Affidavit', 'LastVoted', 'Salutation',\n",
      "       'LastName', 'FirstName', 'MiddleName', 'Suffix', 'HouseNumber',\n",
      "       'HouseNumberSuffix', 'StreetPrefix', 'Street', 'StreetType',\n",
      "       'BuildingNumber', 'AptNumber', 'City', 'State', 'Zip', 'Precinct',\n",
      "       'PrecinctSub', 'Party', 'RegDate', 'ImageID', 'Phone1', 'Phone2',\n",
      "       'Military', 'Gender', 'PAV', 'BirthPlace', 'BirthDate', 'CareOf',\n",
      "       'MailStreet', 'MailCity', 'MailState', 'MailZip', 'MailCountry',\n",
      "       'LTDate', 'Email', 'RegDateOriginal', 'PermCategory', 'PrecinctName',\n",
      "       'ResAddrLine1', 'ResAddrLine2', 'E1_110816', 'E2_060716', 'E3_110414',\n",
      "       'E4_060314', 'E5_110612', 'E6_060512', 'District', 'VoterScore',\n",
      "       'VoterScorePossible', 'VoterScorePctOfPoss', 'Household'],\n",
      "      dtype='object')\n",
      "Index(['Household_Id', 'FullAddress', 'HouseNumber', 'HouseNumberSuffix',\n",
      "       'StreetPrefix', 'Street', 'StreetType', 'BuildingNumber',\n",
      "       'ApartmentNumber', 'City', 'State', 'Zip', 'Precinct', 'PrecinctSub',\n",
      "       'numVoters', 'numDems', 'numRepubs', 'totalVoterScore',\n",
      "       'totalPossibleScore', 'avgVoteRate', 'numOfPAVs', 'numOfNewVoters',\n",
      "       'District'],\n",
      "      dtype='object')\n"
     ]
    }
   ],
   "source": [
    "print(voters.columns)\n",
    "print(households.columns)"
   ]
  },
  {
   "cell_type": "markdown",
   "metadata": {},
   "source": [
    "## Voter Data\n",
    "Lets review and summarize the Voter data to understand what we have:\n",
    "\n",
    "\n",
    "**13307** total rows and **56** columns of data\n",
    "\n",
    "| Column(s) | Description |\n",
    "|:---:|:---|\n",
    "| VoterID  | an interger somewhere in the range of 68 - 2514972 - not sure where this is referenced/created but could be replaced by a random number. |\n",
    "| Status | A or V for Absentee or Poll Voter (all entries are set to 'A') |\n",
    "| Abbr | an integer in range 1 and 116 (unclear relevance) |\n",
    "| Affidavit | an alpha numeric code identifing the voter registration affidavit used to register to vote |\n",
    "| LastVoted | a mostly empty column (only 6 entries) not clear what's here |\n",
    "| Name & Address | a group of columns identifing the voters and their address: <br> 'Salutation', 'LastName', 'FirstName', 'MiddleName', 'Suffix', 'HouseNumber', 'HouseNumberSuffix', 'StreetPrefix', 'Street', 'StreetType', 'BuildingNumber', 'AptNumber', 'City', 'State', 'Zip', |\n",
    "| 'Precinct','PrecinctSub',| Precinct number run from 831730 to 835500<br> PrecinctSub are: value (count): 0 (10274), 1 (1603), 2 (1430)|\n",
    "| Party | the three letter code for declared Political affiliation, including no party preference (NPP) and unknown(UNK) |\n",
    "| 'RegDate' | date of registration (possibly in this country/california) - can be converted to datetime with `pd.to_datetime(voters.RegDate.map(lambda x: x.replace(' 0:00', '')))` |\n",
    "| 'ImageID' | an integer between 0 and 48277945 |\n",
    "| Phone | two fields for phone numbers 'Phone1', 'Phone2' |\n",
    "| Military | Is voter military N (13298), Y (9)|\n",
    "| Gender | Gender of Voter F (4212), M (3872), NaN (5223) - Significant missing data |\n",
    "| PAV | is voter a Permanent Absentee Voter Y (8966), N (4341), includes mail in ballots |\n",
    "| BirthPlace | two or three letter code indicating state or country of birth NaN (1296), not super clean |\n",
    "| BirthDate | birth date - can be converted to datetime with `pd.to_datetime(voters.BirthDate.map(lambda x: x.replace(' 0:00', '')))` |\n",
    "| Mailing address | a group of columns identifying the voters mailing address:<br>'CareOf', 'MailStreet', 'MailCity', 'MailState', 'MailZip', 'MailCountry' |\n",
    "| LTDate | unclear at this point can be converted to datetimes with `pd.to_datetime(voters.LTDate.map(lambda x: x.replace(' 0:00', '')))` and has range from 1972-09-30 to 2018-05-23 with a mode of 2017-10-13<br> most frequent values are 2017-10-13 (7255), 2017-11-15 (301), 2017-11-14 (284), 2018-05-08 (93) |\n",
    "| email | email address's column is quite sparce NaN (9009), some emails are repeated for multiple voters |\n",
    "| RegDateOriginal | date of original registration - can be converted to datetime with `pd.to_datetime(voters.RegDateOriginal.map(lambda x: x.replace(' 0:00', '')))`<br> 7558 Voters have the same date in this column as the 'RegDate' column and 5749 have a differnent date, could see if there is a correlation with birth date. |\n",
    "| PermCategory | a relatively sparce NaN (4341) category with 14 other categories, look like types of Millitary and or goverment mode is PR (8463), P2(277), P1(78), E-FDO (56), and others |\n",
    "| PrecinctName | formal Precinct Name of this format: 'PRECINCT NO.' + str('Precinct') + '.' + str('PrecinctSub' 2 digit 0 padded) |\n",
    "| Empty columns | 'ResAddrLine1', 'ResAddrLine2' are both empty |\n",
    "| PriorElection | 6 prior election information columns 'E1_110816', 'E2_060716', 'E3_110414','E4_060314', 'E5_110612', 'E6_060512'<br>A - voted absentee, N - didn't vote, V - voted, NaN - no info for this election<br>In the june elections (primaries) the type of ballot used by a voter is indicated eg A(DEM), N(REP) etc. |\n",
    "| District | which district of this data, currently only district 3 could get other 5 districts |\n",
    "| Voter score cols | three cols currently empty for scoreing 'VoterScore','VoterScorePossible', 'VoterScorePctOfPoss' |\n",
    "| Household | unique Alpha-numeric code for the voters household key to other data set format HH-######<br> top households have a lot of voters living in them HH-18141(26), HH-20439 (10), HH-17191(10), 5 other Households have 8 voters each, 20 have 7 voters each with more households the fewer voters 3063 households have only 1 voter |"
   ]
  },
  {
   "cell_type": "markdown",
   "metadata": {},
   "source": [
    "## Household Data\n",
    "Lets review and summarize the Households data to understand what we have:\n",
    "\n",
    "\n",
    "**6930** total rows and **23** columns of data\n",
    "\n",
    "| Column(s) | Description |\n",
    "|:---:|:---|\n",
    "| Household_id  | unique Alpha-numeric code for the household format HH-######. |\n",
    "| Address cols | a group of columns identifing the household and their building and address:  'FullAddress', 'HouseNumber', 'HouseNumberSuffix', 'StreetPrefix', 'Street', 'StreetType', 'BuildingNumber','ApartmentNumber', 'City', 'State', 'Zip' |\n",
    "| 'Precinct','PrecinctSub',| Precinct number run from 831730 to 835500 |\n",
    "| calculated cols | Various columns ready for calculations an scoring:<br> 'numVoters', 'numDems', 'numRepubs', 'totalVoterScore', 'totalPossibleScore', 'avgVoteRate', 'numOfPAVs', 'numOfNewVoters' |\n",
    "| District | which district of this data, currently only district 3 could get other 5 districts |"
   ]
  },
  {
   "cell_type": "code",
   "execution_count": 12,
   "metadata": {},
   "outputs": [
    {
     "data": {
      "text/html": [
       "<div>\n",
       "<style scoped>\n",
       "    .dataframe tbody tr th:only-of-type {\n",
       "        vertical-align: middle;\n",
       "    }\n",
       "\n",
       "    .dataframe tbody tr th {\n",
       "        vertical-align: top;\n",
       "    }\n",
       "\n",
       "    .dataframe thead th {\n",
       "        text-align: right;\n",
       "    }\n",
       "</style>\n",
       "<table border=\"1\" class=\"dataframe\">\n",
       "  <thead>\n",
       "    <tr style=\"text-align: right;\">\n",
       "      <th></th>\n",
       "      <th>totalVoterScore</th>\n",
       "      <th>totalPossibleScore</th>\n",
       "      <th>avgVoteRate</th>\n",
       "      <th>numOfPAVs</th>\n",
       "      <th>numOfNewVoters</th>\n",
       "      <th>District</th>\n",
       "      <th>numDems</th>\n",
       "      <th>numRepubs</th>\n",
       "      <th>numVoters</th>\n",
       "    </tr>\n",
       "  </thead>\n",
       "  <tbody>\n",
       "    <tr>\n",
       "      <th>30</th>\n",
       "      <td>NaN</td>\n",
       "      <td>NaN</td>\n",
       "      <td>NaN</td>\n",
       "      <td>NaN</td>\n",
       "      <td>NaN</td>\n",
       "      <td>3</td>\n",
       "      <td>1.0</td>\n",
       "      <td>NaN</td>\n",
       "      <td>1.0</td>\n",
       "    </tr>\n",
       "    <tr>\n",
       "      <th>31</th>\n",
       "      <td>NaN</td>\n",
       "      <td>NaN</td>\n",
       "      <td>NaN</td>\n",
       "      <td>NaN</td>\n",
       "      <td>NaN</td>\n",
       "      <td>3</td>\n",
       "      <td>NaN</td>\n",
       "      <td>NaN</td>\n",
       "      <td>3.0</td>\n",
       "    </tr>\n",
       "    <tr>\n",
       "      <th>32</th>\n",
       "      <td>NaN</td>\n",
       "      <td>NaN</td>\n",
       "      <td>NaN</td>\n",
       "      <td>NaN</td>\n",
       "      <td>NaN</td>\n",
       "      <td>3</td>\n",
       "      <td>1.0</td>\n",
       "      <td>NaN</td>\n",
       "      <td>1.0</td>\n",
       "    </tr>\n",
       "    <tr>\n",
       "      <th>33</th>\n",
       "      <td>NaN</td>\n",
       "      <td>NaN</td>\n",
       "      <td>NaN</td>\n",
       "      <td>NaN</td>\n",
       "      <td>NaN</td>\n",
       "      <td>3</td>\n",
       "      <td>NaN</td>\n",
       "      <td>NaN</td>\n",
       "      <td>2.0</td>\n",
       "    </tr>\n",
       "    <tr>\n",
       "      <th>34</th>\n",
       "      <td>NaN</td>\n",
       "      <td>NaN</td>\n",
       "      <td>NaN</td>\n",
       "      <td>NaN</td>\n",
       "      <td>NaN</td>\n",
       "      <td>3</td>\n",
       "      <td>1.0</td>\n",
       "      <td>1.0</td>\n",
       "      <td>2.0</td>\n",
       "    </tr>\n",
       "    <tr>\n",
       "      <th>35</th>\n",
       "      <td>NaN</td>\n",
       "      <td>NaN</td>\n",
       "      <td>NaN</td>\n",
       "      <td>NaN</td>\n",
       "      <td>NaN</td>\n",
       "      <td>3</td>\n",
       "      <td>NaN</td>\n",
       "      <td>1.0</td>\n",
       "      <td>2.0</td>\n",
       "    </tr>\n",
       "    <tr>\n",
       "      <th>36</th>\n",
       "      <td>NaN</td>\n",
       "      <td>NaN</td>\n",
       "      <td>NaN</td>\n",
       "      <td>NaN</td>\n",
       "      <td>NaN</td>\n",
       "      <td>3</td>\n",
       "      <td>NaN</td>\n",
       "      <td>1.0</td>\n",
       "      <td>2.0</td>\n",
       "    </tr>\n",
       "    <tr>\n",
       "      <th>37</th>\n",
       "      <td>NaN</td>\n",
       "      <td>NaN</td>\n",
       "      <td>NaN</td>\n",
       "      <td>NaN</td>\n",
       "      <td>NaN</td>\n",
       "      <td>3</td>\n",
       "      <td>1.0</td>\n",
       "      <td>NaN</td>\n",
       "      <td>2.0</td>\n",
       "    </tr>\n",
       "    <tr>\n",
       "      <th>38</th>\n",
       "      <td>NaN</td>\n",
       "      <td>NaN</td>\n",
       "      <td>NaN</td>\n",
       "      <td>NaN</td>\n",
       "      <td>NaN</td>\n",
       "      <td>3</td>\n",
       "      <td>2.0</td>\n",
       "      <td>NaN</td>\n",
       "      <td>3.0</td>\n",
       "    </tr>\n",
       "    <tr>\n",
       "      <th>39</th>\n",
       "      <td>NaN</td>\n",
       "      <td>NaN</td>\n",
       "      <td>NaN</td>\n",
       "      <td>NaN</td>\n",
       "      <td>NaN</td>\n",
       "      <td>3</td>\n",
       "      <td>NaN</td>\n",
       "      <td>NaN</td>\n",
       "      <td>1.0</td>\n",
       "    </tr>\n",
       "  </tbody>\n",
       "</table>\n",
       "</div>"
      ],
      "text/plain": [
       "    totalVoterScore  totalPossibleScore  avgVoteRate  numOfPAVs  \\\n",
       "30              NaN                 NaN          NaN        NaN   \n",
       "31              NaN                 NaN          NaN        NaN   \n",
       "32              NaN                 NaN          NaN        NaN   \n",
       "33              NaN                 NaN          NaN        NaN   \n",
       "34              NaN                 NaN          NaN        NaN   \n",
       "35              NaN                 NaN          NaN        NaN   \n",
       "36              NaN                 NaN          NaN        NaN   \n",
       "37              NaN                 NaN          NaN        NaN   \n",
       "38              NaN                 NaN          NaN        NaN   \n",
       "39              NaN                 NaN          NaN        NaN   \n",
       "\n",
       "    numOfNewVoters  District  numDems  numRepubs  numVoters  \n",
       "30             NaN         3      1.0        NaN        1.0  \n",
       "31             NaN         3      NaN        NaN        3.0  \n",
       "32             NaN         3      1.0        NaN        1.0  \n",
       "33             NaN         3      NaN        NaN        2.0  \n",
       "34             NaN         3      1.0        1.0        2.0  \n",
       "35             NaN         3      NaN        1.0        2.0  \n",
       "36             NaN         3      NaN        1.0        2.0  \n",
       "37             NaN         3      1.0        NaN        2.0  \n",
       "38             NaN         3      2.0        NaN        3.0  \n",
       "39             NaN         3      NaN        NaN        1.0  "
      ]
     },
     "execution_count": 12,
     "metadata": {},
     "output_type": "execute_result"
    }
   ],
   "source": [
    "# seeing sections of the table in turn\n",
    "households_with_count.iloc[30:40, 15:]"
   ]
  },
  {
   "cell_type": "code",
   "execution_count": 13,
   "metadata": {},
   "outputs": [
    {
     "name": "stdout",
     "output_type": "stream",
     "text": [
      "[nan 'PR' 'P1' 'P4' 'P2' 'E-FDO' 'P3' 'OS' 'FBOO' 'MILL' 'FEDO' 'E-FBO'\n",
      " 'E-MIL' 'E-MIO' 'MILO']\n"
     ]
    },
    {
     "data": {
      "text/plain": [
       "PR       8463\n",
       "NaN      4341\n",
       "P2        277\n",
       "P1         78\n",
       "E-FDO      56\n",
       "P4         24\n",
       "P3         20\n",
       "FEDO       19\n",
       "E-FBO       8\n",
       "FBOO        7\n",
       "E-MIL       4\n",
       "OS          4\n",
       "MILL        3\n",
       "E-MIO       2\n",
       "MILO        1\n",
       "Name: PermCategory, dtype: int64"
      ]
     },
     "execution_count": 13,
     "metadata": {},
     "output_type": "execute_result"
    }
   ],
   "source": [
    "# A scratch cell used to pull up details of a table column as needed \n",
    "#voters.E1_110816.value_counts(dropna=False)\n",
    "print(voters.PermCategory.unique())\n",
    "voters.PermCategory.value_counts(dropna=False)"
   ]
  },
  {
   "cell_type": "markdown",
   "metadata": {},
   "source": [
    "### Voter LastVoted Investigation"
   ]
  },
  {
   "cell_type": "code",
   "execution_count": 14,
   "metadata": {},
   "outputs": [
    {
     "data": {
      "text/plain": [
       "NaN    13301\n",
       "N          6\n",
       "Name: LastVoted, dtype: int64"
      ]
     },
     "execution_count": 14,
     "metadata": {},
     "output_type": "execute_result"
    }
   ],
   "source": [
    "voters.LastVoted.value_counts(dropna=False)\n",
    "#voters.loc[voters.LastVoted.notnull(),:]   # uncomment to see these 6 columns"
   ]
  },
  {
   "cell_type": "markdown",
   "metadata": {},
   "source": [
    "### Voter LTDate Investigation"
   ]
  },
  {
   "cell_type": "code",
   "execution_count": 15,
   "metadata": {},
   "outputs": [
    {
     "name": "stdout",
     "output_type": "stream",
     "text": [
      "count                   13307\n",
      "unique                   1817\n",
      "top       2017-10-13 00:00:00\n",
      "freq                     7255\n",
      "first     1972-09-30 00:00:00\n",
      "last      2018-05-23 00:00:00\n",
      "Name: LTDate, dtype: object\n"
     ]
    },
    {
     "data": {
      "text/plain": [
       "2017-10-13    7255\n",
       "2017-11-15     301\n",
       "2017-11-14     284\n",
       "2018-05-08      93\n",
       "2005-12-21      88\n",
       "Name: LTDate, dtype: int64"
      ]
     },
     "execution_count": 15,
     "metadata": {},
     "output_type": "execute_result"
    }
   ],
   "source": [
    "# quick and dirty investigation for LTDate\n",
    "ltdate = pd.to_datetime(voters.LTDate.map(lambda x: x.replace(' 0:00', '')))\n",
    "print(ltdate.describe())\n",
    "ltdate.value_counts(dropna=False).head(5)"
   ]
  },
  {
   "cell_type": "markdown",
   "metadata": {},
   "source": [
    "### Voter RegDate and RegDateOriginal Investigation"
   ]
  },
  {
   "cell_type": "code",
   "execution_count": 16,
   "metadata": {
    "collapsed": true
   },
   "outputs": [],
   "source": [
    "# quick and dirty investigation for 'RegDateOriginal' and 'RegDate'\n",
    "RegO = pd.to_datetime(voters.RegDateOriginal.map(lambda x: x.replace(' 0:00', '')))\n",
    "Reg = pd.to_datetime(voters.RegDate.map(lambda x: x.replace(' 0:00', '')))\n",
    "datecomp = pd.DataFrame({'OrigRegDate':RegO, 'RegDate':Reg})"
   ]
  },
  {
   "cell_type": "code",
   "execution_count": 17,
   "metadata": {},
   "outputs": [
    {
     "data": {
      "text/plain": [
       "True     7558\n",
       "False    5749\n",
       "dtype: int64"
      ]
     },
     "execution_count": 17,
     "metadata": {},
     "output_type": "execute_result"
    }
   ],
   "source": [
    "(datecomp['OrigRegDate'] == datecomp['RegDate']).value_counts()"
   ]
  },
  {
   "cell_type": "markdown",
   "metadata": {},
   "source": [
    "### Voter Precinct Name Investigation"
   ]
  },
  {
   "cell_type": "code",
   "execution_count": 18,
   "metadata": {},
   "outputs": [
    {
     "data": {
      "text/html": [
       "<div>\n",
       "<style scoped>\n",
       "    .dataframe tbody tr th:only-of-type {\n",
       "        vertical-align: middle;\n",
       "    }\n",
       "\n",
       "    .dataframe tbody tr th {\n",
       "        vertical-align: top;\n",
       "    }\n",
       "\n",
       "    .dataframe thead th {\n",
       "        text-align: right;\n",
       "    }\n",
       "</style>\n",
       "<table border=\"1\" class=\"dataframe\">\n",
       "  <thead>\n",
       "    <tr style=\"text-align: right;\">\n",
       "      <th></th>\n",
       "      <th>PrecinctName</th>\n",
       "      <th>Precinct</th>\n",
       "      <th>PrecinctSub</th>\n",
       "      <th>Combined</th>\n",
       "    </tr>\n",
       "  </thead>\n",
       "  <tbody>\n",
       "    <tr>\n",
       "      <th>0</th>\n",
       "      <td>PRECINCT NO. 832620.02</td>\n",
       "      <td>832620</td>\n",
       "      <td>2</td>\n",
       "      <td>PRECINCT NO. 832620.02</td>\n",
       "    </tr>\n",
       "    <tr>\n",
       "      <th>1</th>\n",
       "      <td>PRECINCT NO. 832620.02</td>\n",
       "      <td>832620</td>\n",
       "      <td>2</td>\n",
       "      <td>PRECINCT NO. 832620.02</td>\n",
       "    </tr>\n",
       "    <tr>\n",
       "      <th>2</th>\n",
       "      <td>PRECINCT NO. 832900.00</td>\n",
       "      <td>832900</td>\n",
       "      <td>0</td>\n",
       "      <td>PRECINCT NO. 832900.00</td>\n",
       "    </tr>\n",
       "    <tr>\n",
       "      <th>3</th>\n",
       "      <td>PRECINCT NO. 832800.00</td>\n",
       "      <td>832800</td>\n",
       "      <td>0</td>\n",
       "      <td>PRECINCT NO. 832800.00</td>\n",
       "    </tr>\n",
       "    <tr>\n",
       "      <th>4</th>\n",
       "      <td>PRECINCT NO. 832400.00</td>\n",
       "      <td>832400</td>\n",
       "      <td>0</td>\n",
       "      <td>PRECINCT NO. 832400.00</td>\n",
       "    </tr>\n",
       "  </tbody>\n",
       "</table>\n",
       "</div>"
      ],
      "text/plain": [
       "             PrecinctName  Precinct  PrecinctSub                Combined\n",
       "0  PRECINCT NO. 832620.02    832620            2  PRECINCT NO. 832620.02\n",
       "1  PRECINCT NO. 832620.02    832620            2  PRECINCT NO. 832620.02\n",
       "2  PRECINCT NO. 832900.00    832900            0  PRECINCT NO. 832900.00\n",
       "3  PRECINCT NO. 832800.00    832800            0  PRECINCT NO. 832800.00\n",
       "4  PRECINCT NO. 832400.00    832400            0  PRECINCT NO. 832400.00"
      ]
     },
     "execution_count": 18,
     "metadata": {},
     "output_type": "execute_result"
    }
   ],
   "source": [
    "# quick and dirty investigation for 'PrecinctName' \n",
    "precinctcomp = voters.loc[:,['PrecinctName', 'Precinct', 'PrecinctSub']]\n",
    "precinctcomp.head(5)\n",
    "# likely PrecinctName is of the following pattern 'PRECINCT NO.' + str('Precinct')+'.'+str('PrecinctSub')\n",
    "precinctcomp['Combined']= (['.'.join(i) for i in \n",
    "                        zip(precinctcomp[\"Precinct\"].map(str),precinctcomp[\"PrecinctSub\"].map(\"{0:0>2}\".format))])\n",
    "precinctcomp['Combined'] = precinctcomp['Combined'].apply(lambda x: \"{}{}\".format('PRECINCT NO. ', x))\n",
    "assert (precinctcomp['PrecinctName'] == precinctcomp['Combined']).all()\n",
    "precinctcomp.head(5)"
   ]
  },
  {
   "cell_type": "markdown",
   "metadata": {},
   "source": [
    "### Voter Household Investigation"
   ]
  },
  {
   "cell_type": "code",
   "execution_count": 19,
   "metadata": {},
   "outputs": [
    {
     "name": "stdout",
     "output_type": "stream",
     "text": [
      "1 household has 26 registered voters,\n",
      "2 households have 10 and\n",
      "5 households have 8\n"
     ]
    },
    {
     "data": {
      "text/plain": [
       "1     3063\n",
       "2     2291\n",
       "3      958\n",
       "4      425\n",
       "5      128\n",
       "6       37\n",
       "7       20\n",
       "8        5\n",
       "10       2\n",
       "26       1\n",
       "Name: Household, dtype: int64"
      ]
     },
     "execution_count": 19,
     "metadata": {},
     "output_type": "execute_result"
    }
   ],
   "source": [
    "b = voters.Household.value_counts(dropna=False).value_counts()\n",
    "print('{} household has {} registered voters,\\n{} households have {} and\\n{} households have {}'.format(\n",
    "    b.values[-1],b.index[-1], b.values[-2],b.index[-2], b.values[-3],b.index[-3]))\n",
    "b"
   ]
  },
  {
   "cell_type": "code",
   "execution_count": 23,
   "metadata": {
    "collapsed": true
   },
   "outputs": [],
   "source": [
    "def get_full_address(row):\n",
    " \n",
    "    build_num = row.BuildingNumber\n",
    "    apt_num = row.AptNumber\n",
    "    if str(build_num) != 'nan':\n",
    "        build_num = int(row.BuildingNumber)\n",
    "        apt_num = '{}'.format(str(row.AptNumber))\n",
    "    elif str(row.AptNumber) != 'nan':\n",
    "        apt_num = '# {}'.format(str(row.AptNumber))\n",
    "        \n",
    "    row['cc_full_add'] = ' '.join([x for x in [str(row.HouseNumber), row.Street,\n",
    "                                 row.StreetType, str(build_num),\n",
    "                                               apt_num] if str(x) != 'nan'])\n",
    "    return row"
   ]
  },
  {
   "cell_type": "code",
   "execution_count": 287,
   "metadata": {},
   "outputs": [],
   "source": [
    "#voters.Household.value_counts().head()"
   ]
  },
  {
   "cell_type": "code",
   "execution_count": 39,
   "metadata": {
    "collapsed": true
   },
   "outputs": [],
   "source": [
    "# Explore Households with different numbers of registered voters.\n",
    "t = voters.Household.value_counts()\n",
    "bigHH = [t.index[i] for i, x in enumerate((t > 20) & (t < 30)) if x]\n",
    "vot_bigHH = voters.loc[voters.Household.isin(bigHH), ['Household','HouseNumber','Street','BuildingNumber', 'AptNumber',\n",
    "                                                      'StreetType','FirstName','LastName']].sort_values('Household')\n",
    "vot_bigHH = vot_bigHH.apply(get_full_address, axis=1)\n",
    "vot_bigHH.set_index(['cc_full_add'], inplace=True)\n",
    "# NOT PII SAFE so commented out for check in\n",
    "#vot_bigHH[['FirstName','LastName']].groupby(['cc_full_add','LastName','FirstName']).count()"
   ]
  },
  {
   "cell_type": "markdown",
   "metadata": {},
   "source": [
    "The 26 Voter Household is a residential care provider home (Crestwood Manor).\n",
    "Both 10 Voter Household looked like regular residential homes, housing multiple groups of related people.\n",
    "the 8 Voter Households, 1 appeared to be an appartment block where 8 of 17 voter registrations for the address (38801 HASTINGS ST) were missing the apt number. The others all appeared to be regular residential homes, housing muliple groups of related people"
   ]
  },
  {
   "cell_type": "code",
   "execution_count": 17,
   "metadata": {},
   "outputs": [
    {
     "name": "stdout",
     "output_type": "stream",
     "text": [
      "17\n"
     ]
    },
    {
     "data": {
      "text/plain": [
       "10"
      ]
     },
     "execution_count": 17,
     "metadata": {},
     "output_type": "execute_result"
    }
   ],
   "source": [
    "# exploring the Apartment Block with 8 registered voters with no apt number.\n",
    "print(len(voters.loc[(voters.HouseNumber == 38801)\n",
    "           &(voters.Street == 'HASTINGS'),['VoterID','HouseNumber','Street','AptNumber','FirstName',\n",
    "                                           'LastName']].sort_values('AptNumber')))\n",
    "len(households.loc[(households.HouseNumber == 38801)\n",
    "           &(households.Street == 'HASTINGS'),['Household_Id','HouseNumber','Street',\n",
    "                                               'ApartmentNumber']].sort_values('ApartmentNumber'))"
   ]
  },
  {
   "cell_type": "markdown",
   "metadata": {
    "collapsed": true
   },
   "source": [
    "### Perm Category Investigation"
   ]
  },
  {
   "cell_type": "code",
   "execution_count": 22,
   "metadata": {},
   "outputs": [
    {
     "name": "stdout",
     "output_type": "stream",
     "text": [
      "[nan 'PR' 'P1' 'P4' 'P2' 'E-FDO' 'P3' 'OS' 'FBOO' 'MILL' 'FEDO' 'E-FBO'\n",
      " 'E-MIL' 'E-MIO' 'MILO']\n"
     ]
    },
    {
     "data": {
      "text/plain": [
       "PR       8463\n",
       "NaN      4341\n",
       "P2        277\n",
       "P1         78\n",
       "E-FDO      56\n",
       "P4         24\n",
       "P3         20\n",
       "FEDO       19\n",
       "E-FBO       8\n",
       "FBOO        7\n",
       "E-MIL       4\n",
       "OS          4\n",
       "MILL        3\n",
       "E-MIO       2\n",
       "MILO        1\n",
       "Name: PermCategory, dtype: int64"
      ]
     },
     "execution_count": 22,
     "metadata": {},
     "output_type": "execute_result"
    }
   ],
   "source": [
    "print(voters.PermCategory.unique())\n",
    "voters.PermCategory.value_counts(dropna=False)"
   ]
  },
  {
   "cell_type": "markdown",
   "metadata": {},
   "source": [
    "### Prior Election data investigation"
   ]
  },
  {
   "cell_type": "code",
   "execution_count": 282,
   "metadata": {
    "collapsed": true
   },
   "outputs": [],
   "source": [
    "# just election voting information\n",
    "v = voters[['E1_110816', 'E2_060716', 'E3_110414','E4_060314', 'E5_110612', 'E6_060512']]\n",
    "# moving election name to be a row index called election\n",
    "v.columns = pd.MultiIndex.from_product([v.columns, ['vote']])\n",
    "v = v.stack(0)\n",
    "v.index.set_names('election', level=1, inplace=True)"
   ]
  },
  {
   "cell_type": "code",
   "execution_count": 283,
   "metadata": {},
   "outputs": [
    {
     "name": "stdout",
     "output_type": "stream",
     "text": [
      "Total number of different vote types recorded: 42\n"
     ]
    },
    {
     "data": {
      "text/plain": [
       "N         24796\n",
       "A         14756\n",
       "V          8532\n",
       "A(DEM)     2956\n",
       "N(DEM)     2410\n",
       "V(DEM)     1340\n",
       "N(NPP)     1162\n",
       "A(REP)      960\n",
       "N(REP)      898\n",
       "N(NP)       747\n",
       "Name: vote, dtype: int64"
      ]
     },
     "execution_count": 283,
     "metadata": {},
     "output_type": "execute_result"
    }
   ],
   "source": [
    "# The number of different types of vote we are dealing with.\n",
    "print('Total number of different vote types recorded: {}'.format(len(v['vote'].value_counts(dropna=False))))\n",
    "v['vote'].value_counts(dropna=False).nlargest(10)"
   ]
  },
  {
   "cell_type": "code",
   "execution_count": 288,
   "metadata": {
    "scrolled": true
   },
   "outputs": [
    {
     "data": {
      "text/html": [
       "<div>\n",
       "<style scoped>\n",
       "    .dataframe tbody tr th:only-of-type {\n",
       "        vertical-align: middle;\n",
       "    }\n",
       "\n",
       "    .dataframe tbody tr th {\n",
       "        vertical-align: top;\n",
       "    }\n",
       "\n",
       "    .dataframe thead th {\n",
       "        text-align: right;\n",
       "    }\n",
       "</style>\n",
       "<table border=\"1\" class=\"dataframe\">\n",
       "  <thead>\n",
       "    <tr style=\"text-align: right;\">\n",
       "      <th></th>\n",
       "      <th>num of observations</th>\n",
       "      <th>percent</th>\n",
       "      <th>cum_perc</th>\n",
       "    </tr>\n",
       "    <tr>\n",
       "      <th>num votes records in data</th>\n",
       "      <th></th>\n",
       "      <th></th>\n",
       "      <th></th>\n",
       "    </tr>\n",
       "  </thead>\n",
       "  <tbody>\n",
       "    <tr>\n",
       "      <th>6</th>\n",
       "      <td>8482</td>\n",
       "      <td>63.740888</td>\n",
       "      <td>63.740888</td>\n",
       "    </tr>\n",
       "    <tr>\n",
       "      <th>5</th>\n",
       "      <td>743</td>\n",
       "      <td>5.583527</td>\n",
       "      <td>69.324416</td>\n",
       "    </tr>\n",
       "    <tr>\n",
       "      <th>4</th>\n",
       "      <td>519</td>\n",
       "      <td>3.900203</td>\n",
       "      <td>73.224619</td>\n",
       "    </tr>\n",
       "    <tr>\n",
       "      <th>3</th>\n",
       "      <td>273</td>\n",
       "      <td>2.051552</td>\n",
       "      <td>75.276170</td>\n",
       "    </tr>\n",
       "    <tr>\n",
       "      <th>2</th>\n",
       "      <td>1167</td>\n",
       "      <td>8.769820</td>\n",
       "      <td>84.045991</td>\n",
       "    </tr>\n",
       "    <tr>\n",
       "      <th>1</th>\n",
       "      <td>1194</td>\n",
       "      <td>8.972721</td>\n",
       "      <td>93.018712</td>\n",
       "    </tr>\n",
       "  </tbody>\n",
       "</table>\n",
       "</div>"
      ],
      "text/plain": [
       "                           num of observations    percent   cum_perc\n",
       "num votes records in data                                           \n",
       "6                                         8482  63.740888  63.740888\n",
       "5                                          743   5.583527  69.324416\n",
       "4                                          519   3.900203  73.224619\n",
       "3                                          273   2.051552  75.276170\n",
       "2                                         1167   8.769820  84.045991\n",
       "1                                         1194   8.972721  93.018712"
      ]
     },
     "execution_count": 288,
     "metadata": {},
     "output_type": "execute_result"
    }
   ],
   "source": [
    "# number of individuals and how many elections we have their voting (V,A,N) information for\n",
    "vc = v.reset_index().rename(columns={'level_0':'ID'}).groupby(['ID']).count().groupby('vote').count().sort_index(ascending=False)\n",
    "vc.rename(index=str, columns={'election': 'num of observations'}, inplace=True)\n",
    "vc.index.name = 'num vote records in data'\n",
    "vc['percent'] = 100*vc['num of observations']/13307\n",
    "vc['cum_perc'] = vc.percent.cumsum()\n",
    "vc"
   ]
  },
  {
   "cell_type": "code",
   "execution_count": 285,
   "metadata": {
    "collapsed": true
   },
   "outputs": [],
   "source": [
    "f = v.reset_index().rename(columns={'level_0':'ID'})\n",
    "# cleaning the vote column into two columns 'vote' and the 'ballot_type' used\n",
    "f['ballot_type'] = f['vote'].str.extract('\\((.*?)\\)', expand=True).fillna('')\n",
    "f['vote'] = f['vote'].replace('\\(.*\\)', '', regex=True)"
   ]
  },
  {
   "cell_type": "code",
   "execution_count": 286,
   "metadata": {},
   "outputs": [
    {
     "data": {
      "image/png": "[encoded data removed]",
      "text/plain": [
       "<Figure size 432x288 with 1 Axes>"
      ]
     },
     "metadata": {},
     "output_type": "display_data"
    }
   ],
   "source": [
    "# ignoring ballot_type and grouping by whether someone voted and in which election\n",
    "to = f[['ID','election','vote']].groupby(['vote','election']).count()\n",
    "# calculating percent - not used as visible from graph\n",
    "#to['percent'] = 100*to['ID']/13307\n",
    "# organizing data for plot (getting vote in desired order in columns)\n",
    "u = to.unstack('vote')\n",
    "u.columns = u.columns.droplevel()\n",
    "u = u[['V', 'A', 'N']].rename(columns={'V':'In person', 'A':'Absentee', 'N':'No vote'})\n",
    "u.plot(kind='bar', stacked=True, color=['green','palegreen','gray'])\n",
    "# plotting line at current number of registered voters\n",
    "plt.axhline(13307, color='r')\n",
    "#plt.yticks(range(0,13307,13307//10), range(0,100,10))\n",
    "plt.show()"
   ]
  },
  {
   "cell_type": "code",
   "execution_count": null,
   "metadata": {
    "collapsed": true
   },
   "outputs": [],
   "source": []
  }
 ],
 "metadata": {
  "kernelspec": {
   "display_name": "Python 3",
   "language": "python",
   "name": "python3"
  },
  "language_info": {
   "codemirror_mode": {
    "name": "ipython",
    "version": 3
   },
   "file_extension": ".py",
   "mimetype": "text/x-python",
   "name": "python",
   "nbconvert_exporter": "python",
   "pygments_lexer": "ipython3",
   "version": "3.6.2"
  }
 },
 "nbformat": 4,
 "nbformat_minor": 2
}
