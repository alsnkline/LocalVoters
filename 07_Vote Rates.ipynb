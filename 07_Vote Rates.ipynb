{
 "cells": [
  {
   "cell_type": "markdown",
   "metadata": {},
   "source": [
    "# Calculating Vote rates by Voter and Household\n",
    "Special consideration needs to be made around calculating voter rates, ie, how many elections could a voter have voted in, how many did they actually vote in, and calculating these features back in time, so they can be accurately used to train a model where we have the results - ie where we know whether a voter did actually vote."
   ]
  },
  {
   "cell_type": "markdown",
   "metadata": {},
   "source": [
    "We have data on 6 elections (primary and general in 2012, 2014 and 2016). To predict vote rates in 2018's primary and general we need to have a trained model as we have no ground truth data for 2018 voting behavior. We will train the model on the two previous cycles 2016 and 2014 where we do have ground truth the actual voting behavior data. For the training we need to calculate past voting rates as they would look at the time of the 2014 and 2016 votes as this is one of the key features we have for 2018. "
   ]
  },
  {
   "cell_type": "code",
   "execution_count": 1,
   "metadata": {
    "collapsed": true
   },
   "outputs": [],
   "source": [
    "# imports\n",
    "import pandas as pd\n",
    "from collections import Counter\n",
    "\n",
    "from modules.lv_utils import load_households\n",
    "from modules.lv_utils import load_voters\n",
    "from modules.lv_utils import find_changes"
   ]
  },
  {
   "cell_type": "code",
   "execution_count": 2,
   "metadata": {},
   "outputs": [],
   "source": [
    "# load the data\n",
    "households = load_households('data_clean/20180627_households_district3.csv')\n",
    "voters = load_voters('data_clean/20180628_voters_district3.csv')"
   ]
  },
  {
   "cell_type": "code",
   "execution_count": 3,
   "metadata": {},
   "outputs": [
    {
     "name": "stdout",
     "output_type": "stream",
     "text": [
      "Index(['Vid', 'Abbr', 'Precinct', 'PrecinctSub', 'Party', 'PartyMain',\n",
      "       'RegDate', 'PAV', 'RegDateOriginal', 'E6_110816', 'E5_060716',\n",
      "       'E4_110414', 'E3_060314', 'E2_110612', 'E1_060512', 'District',\n",
      "       'VoterScore', 'VoterScorePossible', 'VoterScorePctOfPoss', 'BirthYear',\n",
      "       'OldestInHouseBirthYear', 'IsOldestInHouse', 'havePhone',\n",
      "       'BirthPlaceState', 'BirthPlaceStateRegion', 'BirthPlaceCountry',\n",
      "       'BirthPlaceCountryRegion', 'Gender', 'sameMailAddress', 'MailCountry',\n",
      "       'isApt', 'Zip', 'StreetType', 'EmailProvider', 'E5_060716BT',\n",
      "       'E1_060512BT', 'Tot_Possible_Votes', 'Act_Votes', 'Pct_Possible_Votes',\n",
      "       'Hid', 'cHid'],\n",
      "      dtype='object')\n",
      "Index(['Hid', 'StreetType', 'Zip', 'Precinct', 'PrecinctSub', 'District',\n",
      "       'CityArea', 'isApt', 'cHid'],\n",
      "      dtype='object')\n"
     ]
    }
   ],
   "source": [
    "v = voters\n",
    "h = households\n",
    "print(v.columns)\n",
    "print(h.columns)"
   ]
  },
  {
   "cell_type": "markdown",
   "metadata": {},
   "source": [
    "| Original Data Column | Description of data |\n",
    "|:---:|:---|:---:|\n",
    "| 'E6_110816' | A,V or N for 2016 general. |\n",
    "| 'E5_060716' | A,V or N for 2016 primary. |\n",
    "| 'E4_110414' | A,V or N for 2014 general. |\n",
    "| 'E3_060314' | A,V or N for 2014 primary. |\n",
    "| 'E2_110612' | A,V or N for 2012 general. |\n",
    "| 'E1_060512' | A,V or N for 2012 primary. |\n",
    "\n",
    "| Output Column | Description of data |\n",
    "|:---:|:---|:---:|\n",
    "| 'E78_nVotesPos' | Given all data (2012,14,& 16) how many times could this voter have voted. (A, V or N), for use predicting 2018 vote behavior |\n",
    "| 'E78_nVotes' | Given all data (2012,14,& 16) how many times did this voter vote. (A or V) |\n",
    "| 'E78_nVotesPct' | What is their E78 vote rate ('E78_nVotes'/'E78_nVotesPos') |\n",
    "| 'E56_nVotesPos' | Given 2012 & 14 data how many times could this voter have voted ie for predicting 2016 vote behavior. (A, V or N) |\n",
    "| 'E56_nVotes' | Given 2012 & 14 data how many times did this voter vote ie for predicting 2016 vote behavior. (A or V) |\n",
    "| 'E56_nVotesPct' | What is their E56 vote rate ('E56_nVotes'/'E56_nVotesPos') |\n",
    "| 'E34_nVotesPos' | Given 2012 data how many times could this voter have voted ie for predicting 2014 vote behavior. (A, V or N) |\n",
    "| 'E34_nVotes' | Given 2012 data how many times did this voter vote ie for predicting 2014 vote behavior. (A or V) |\n",
    "| 'E34_nVotesPct' | What is their E34 vote rate ('E34_nVotes'/'E34_nVotesPos') |"
   ]
  },
  {
   "cell_type": "code",
   "execution_count": 4,
   "metadata": {
    "collapsed": true
   },
   "outputs": [],
   "source": [
    "election_f = ['E6_110816', 'E5_060716', 'E4_110414', 'E3_060314', 'E2_110612', 'E1_060512',]\n",
    "clean_f = ['Tot_Possible_Votes', 'Act_Votes','Pct_Possible_Votes']\n",
    "new_col_names = ['nVotesPos', 'nVotes','nVotesPct']"
   ]
  },
  {
   "cell_type": "code",
   "execution_count": 5,
   "metadata": {
    "collapsed": true
   },
   "outputs": [],
   "source": [
    "def add_vote_cols(df, pre):\n",
    "    \"\"\"Take in dataframe with 'votes' string column and prefix,\n",
    "    output the nVotesPos, nVotes and nVotesPct columns\"\"\"\n",
    "    df[pre+'_nVotesPos'] = df.e_sum.str.len()\n",
    "    # counting the actual number of in person or absentee votes cast by that voter\n",
    "    df[pre+'_nVotes'] = df.e_sum.str.count('[AV]')\n",
    "    # calculating a percent of possible votes for that voter\n",
    "    df[pre+'_nVotesPct'] = (df[pre+'_nVotes']/df[pre+'_nVotesPos']).fillna(-1)"
   ]
  },
  {
   "cell_type": "code",
   "execution_count": 6,
   "metadata": {
    "collapsed": true
   },
   "outputs": [],
   "source": [
    "def add_vote_cols_for(elec, df, pre):\n",
    "    df['e_sum'] = df.loc[:,elec].sum(axis='columns')\n",
    "    add_vote_cols(df, pre)"
   ]
  },
  {
   "cell_type": "code",
   "execution_count": 7,
   "metadata": {},
   "outputs": [],
   "source": [
    "# calculating vote rates for the 2012 data only\n",
    "elec = ['E2_110612', 'E1_060512']\n",
    "add_vote_cols_for(elec, v, 'E34')\n",
    "\n",
    "# adding in the 2014 data and calculating the vote rates for the 2012 & 2014 data\n",
    "elec.extend(['E4_110414', 'E3_060314'])\n",
    "add_vote_cols_for(elec, v, 'E56')\n",
    "\n",
    "# adding in the 2016 data and calculating the vote rates for all election data\n",
    "elec.extend(['E6_110816', 'E5_060716'])\n",
    "add_vote_cols_for(elec, v, 'E78')"
   ]
  },
  {
   "cell_type": "code",
   "execution_count": 8,
   "metadata": {},
   "outputs": [
    {
     "name": "stdout",
     "output_type": "stream",
     "text": [
      "newly calculated columns match previously calculated ones: True\n",
      "(0, 4)\n",
      "[]\n"
     ]
    },
    {
     "data": {
      "text/html": [
       "<div>\n",
       "<style scoped>\n",
       "    .dataframe tbody tr th:only-of-type {\n",
       "        vertical-align: middle;\n",
       "    }\n",
       "\n",
       "    .dataframe tbody tr th {\n",
       "        vertical-align: top;\n",
       "    }\n",
       "\n",
       "    .dataframe thead th {\n",
       "        text-align: right;\n",
       "    }\n",
       "</style>\n",
       "<table border=\"1\" class=\"dataframe\">\n",
       "  <thead>\n",
       "    <tr style=\"text-align: right;\">\n",
       "      <th></th>\n",
       "      <th>id</th>\n",
       "      <th>col</th>\n",
       "      <th>from</th>\n",
       "      <th>to</th>\n",
       "    </tr>\n",
       "  </thead>\n",
       "  <tbody>\n",
       "  </tbody>\n",
       "</table>\n",
       "</div>"
      ],
      "text/plain": [
       "Empty DataFrame\n",
       "Columns: [id, col, from, to]\n",
       "Index: []"
      ]
     },
     "execution_count": 8,
     "metadata": {},
     "output_type": "execute_result"
    }
   ],
   "source": [
    "# checking calculation:\n",
    "temp = v.loc[:,['E78_nVotesPos','E78_nVotes','E78_nVotesPct']]\n",
    "temp.rename(columns = {'E78_nVotesPos':'Tot_Possible_Votes',\n",
    "                      'E78_nVotes':'Act_Votes',\n",
    "                      'E78_nVotesPct':'Pct_Possible_Votes'}, inplace = True)\n",
    "print('newly calculated columns match previously calculated ones: {}'.format(\n",
    "    v[['Tot_Possible_Votes', 'Act_Votes','Pct_Possible_Votes']].equals(\n",
    "    temp)))\n",
    "\n",
    "find_changes(v[['Tot_Possible_Votes', 'Act_Votes','Pct_Possible_Votes']],temp )"
   ]
  },
  {
   "cell_type": "code",
   "execution_count": 9,
   "metadata": {
    "collapsed": true
   },
   "outputs": [],
   "source": [
    "# dropping the now extra columns\n",
    "c_to_drop = ['Tot_Possible_Votes', 'Act_Votes','Pct_Possible_Votes','e_sum']\n",
    "v = v.drop(c_to_drop, axis='columns')"
   ]
  },
  {
   "cell_type": "markdown",
   "metadata": {},
   "source": [
    "## Saving out the enhanced data"
   ]
  },
  {
   "cell_type": "code",
   "execution_count": 10,
   "metadata": {},
   "outputs": [
    {
     "name": "stdout",
     "output_type": "stream",
     "text": [
      "<class 'pandas.core.frame.DataFrame'>\n",
      "RangeIndex: 13307 entries, 0 to 13306\n",
      "Data columns (total 47 columns):\n",
      "Vid                        13307 non-null int64\n",
      "Abbr                       13307 non-null int64\n",
      "Precinct                   13307 non-null int64\n",
      "PrecinctSub                13307 non-null int64\n",
      "Party                      13307 non-null category\n",
      "PartyMain                  13307 non-null object\n",
      "RegDate                    13307 non-null datetime64[ns]\n",
      "PAV                        13307 non-null category\n",
      "RegDateOriginal            13307 non-null datetime64[ns]\n",
      "E6_110816                  13307 non-null category\n",
      "E5_060716                  13307 non-null category\n",
      "E4_110414                  13307 non-null category\n",
      "E3_060314                  13307 non-null category\n",
      "E2_110612                  13307 non-null category\n",
      "E1_060512                  13307 non-null category\n",
      "District                   13307 non-null int64\n",
      "VoterScore                 13307 non-null float64\n",
      "VoterScorePossible         13307 non-null float64\n",
      "VoterScorePctOfPoss        13307 non-null float64\n",
      "BirthYear                  13307 non-null int64\n",
      "OldestInHouseBirthYear     13307 non-null int64\n",
      "IsOldestInHouse            13307 non-null bool\n",
      "havePhone                  13307 non-null bool\n",
      "BirthPlaceState            13307 non-null category\n",
      "BirthPlaceStateRegion      13307 non-null object\n",
      "BirthPlaceCountry          13307 non-null category\n",
      "BirthPlaceCountryRegion    13307 non-null object\n",
      "Gender                     13307 non-null category\n",
      "sameMailAddress            13307 non-null bool\n",
      "MailCountry                444 non-null category\n",
      "isApt                      13307 non-null bool\n",
      "Zip                        13307 non-null int64\n",
      "StreetType                 13307 non-null category\n",
      "EmailProvider              13307 non-null object\n",
      "E5_060716BT                13307 non-null category\n",
      "E1_060512BT                13307 non-null category\n",
      "Hid                        13307 non-null int64\n",
      "cHid                       13307 non-null int64\n",
      "E34_nVotesPos              13307 non-null int64\n",
      "E34_nVotes                 13307 non-null int64\n",
      "E34_nVotesPct              13307 non-null float64\n",
      "E56_nVotesPos              13307 non-null int64\n",
      "E56_nVotes                 13307 non-null int64\n",
      "E56_nVotesPct              13307 non-null float64\n",
      "E78_nVotesPos              13307 non-null int64\n",
      "E78_nVotes                 13307 non-null int64\n",
      "E78_nVotesPct              13307 non-null float64\n",
      "dtypes: bool(4), category(15), datetime64[ns](2), float64(6), int64(16), object(4)\n",
      "memory usage: 3.1+ MB\n"
     ]
    }
   ],
   "source": [
    "v.info()"
   ]
  },
  {
   "cell_type": "code",
   "execution_count": 11,
   "metadata": {
    "collapsed": true
   },
   "outputs": [],
   "source": [
    "date = pd.Timestamp(\"today\").strftime(\"%Y%m%d\")\n",
    "v.set_index('Vid', inplace=True)\n",
    "v.to_csv('data_clean/{}_votersWithRate_district3.csv'.format(date))"
   ]
  },
  {
   "cell_type": "code",
   "execution_count": null,
   "metadata": {
    "collapsed": true
   },
   "outputs": [],
   "source": []
  }
 ],
 "metadata": {
  "kernelspec": {
   "display_name": "Python 3",
   "language": "python",
   "name": "python3"
  },
  "language_info": {
   "codemirror_mode": {
    "name": "ipython",
    "version": 3
   },
   "file_extension": ".py",
   "mimetype": "text/x-python",
   "name": "python",
   "nbconvert_exporter": "python",
   "pygments_lexer": "ipython3",
   "version": "3.6.2"
  }
 },
 "nbformat": 4,
 "nbformat_minor": 2
}
