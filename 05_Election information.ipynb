{
 "cells": [
  {
   "cell_type": "markdown",
   "metadata": {},
   "source": [
    "# Collecting Election information\n",
    "Elections have their own information that can and will affect voter sentiment, motivation and turnout. This Election based information is gathered here and saved out to its own csv file."
   ]
  },
  {
   "cell_type": "code",
   "execution_count": 3,
   "metadata": {
    "collapsed": true
   },
   "outputs": [],
   "source": [
    "import pandas as pd"
   ]
  },
  {
   "cell_type": "markdown",
   "metadata": {},
   "source": [
    "The following attributes of each of the 8 elections held during our timeframe of interest was investigated and collected, most of the data came from wikipedia:\n",
    "\n",
    "| output column(s) | Description of data | Type |\n",
    "|:---|:---|:---:|\n",
    "| 'election' | Unique ID for each election held between 2012 and 2018, including this years target for predicting voting. | str |\n",
    "| 'dates' | Actual date of the election. | dt |\n",
    "| 'cycle ' | Is this a Congessional only election year or a Presidential election year. | cat |\n",
    "| 'etype' | Is this a 'Primary' or 'General' election. | cat |\n",
    "| 'president' | What is the party of the president in power at the time of the election. | cat |\n",
    "| 'us_senate_maj' | How big is the controlling margin in the US Senate. Positive numbers indicate a REP maj, negative a DEM one. | Num |\n",
    "| 'us_repre_maj' | How big is the controlling margin in the US House of Representatives. Positive for REP maj, negative for DEM. | Num |\n",
    "| 'ca_governor' | What party did the Governor of CA belong too at the election. | cat |\n",
    "| 'ca_lt_govnor' | Who was the Lieutenant Governor of CA belong too at the election. | cat |\n",
    "| 'ca_senate_maj' | How big is the controlling margin in the CA Senate. Positive for REP maj, negative for DEM. | Num |\n",
    "| 'ca_assembly_maj' | How big is the controlling margin in the CA Assembly. Positive for REP maj, negative for DEM. | Num |\n",
    "\n"
   ]
  },
  {
   "cell_type": "code",
   "execution_count": 4,
   "metadata": {
    "collapsed": true
   },
   "outputs": [],
   "source": [
    "data = {\n",
    "    'elections':['E8_110618','E7_060518','E6_110816','E5_060716','E4_110414','E3_060314','E2_110612','E1_060512'],\n",
    "    'dates':['110618','060518','110816','060716','110414','060314','110612','060512'],\n",
    "    'cycle':['Cong','Cong','Pres', 'Pres','Cong','Cong','Pres','Pres'],\n",
    "    'etype':['General','Primary','General','Primary','General','Primary','General','Primary'],\n",
    "    'president':['REP','REP','DEM','DEM','DEM','DEM','DEM','DEM'],\n",
    "\n",
    "    # gathered from, majorities calculated on the eve of the election\n",
    "    # https://en.wikipedia.org/wiki/113th_United_States_Congress\n",
    "    # https://en.wikipedia.org/wiki/113th_United_States_Congress\n",
    "    # https://en.wikipedia.org/wiki/114th_United_States_Congress\n",
    "    # https://en.wikipedia.org/wiki/115th_United_States_Congress\n",
    "    'us_senate_maj':[4,4,10,10,-8,-8,-3,-3],\n",
    "    'us_repre_maj':[42,42,60,58,34,34,50,52],\n",
    "\n",
    "    # CA government:\n",
    "    # https://en.wikipedia.org/wiki/List_of_Governors_of_California\n",
    "    'ca_governor':['DEM','DEM','DEM','DEM','DEM','DEM','DEM','DEM'],\n",
    "    'ca_lt_govnor':['DEM','DEM','DEM','DEM','DEM','DEM','DEM','DEM'],\n",
    "\n",
    "    # CA information:\n",
    "    # https://en.wikipedia.org/wiki/California_State_Legislature,_2011%E2%80%9312_session\n",
    "    # https://en.wikipedia.org/wiki/California_State_Legislature,_2013%E2%80%9314_session\n",
    "    # https://en.wikipedia.org/wiki/California_State_Legislature,_2015%E2%80%9316_session\n",
    "    # https://en.wikipedia.org/wiki/California_State_Legislature,_2017%E2%80%9318_session\n",
    "    'ca_senate_maj':[-13,-13,-13,-13,-13,-13,-11,-11],\n",
    "    'ca_assembly_maj':[-28,-28,-24,-24,-31,-31,-25,-25]\n",
    "}\n"
   ]
  },
  {
   "cell_type": "code",
   "execution_count": 5,
   "metadata": {},
   "outputs": [],
   "source": [
    "ed = pd.DataFrame(data)\n",
    "ed.set_index('elections', inplace=True)\n",
    "ed.dates = pd.to_datetime(ed.dates)\n",
    "ed[ed.select_dtypes(['object']).columns] = ed.select_dtypes(['object'\n",
    "                                                            ]).apply(lambda \n",
    "                                                                     x: x.astype('category'))"
   ]
  },
  {
   "cell_type": "code",
   "execution_count": 6,
   "metadata": {},
   "outputs": [
    {
     "name": "stdout",
     "output_type": "stream",
     "text": [
      "<class 'pandas.core.frame.DataFrame'>\n",
      "Index: 8 entries, E8_110618 to E1_060512\n",
      "Data columns (total 10 columns):\n",
      "dates              8 non-null datetime64[ns]\n",
      "cycle              8 non-null category\n",
      "etype              8 non-null category\n",
      "president          8 non-null category\n",
      "us_senate_maj      8 non-null int64\n",
      "us_repre_maj       8 non-null int64\n",
      "ca_governor        8 non-null category\n",
      "ca_lt_govnor       8 non-null category\n",
      "ca_senate_maj      8 non-null int64\n",
      "ca_assembly_maj    8 non-null int64\n",
      "dtypes: category(5), datetime64[ns](1), int64(4)\n",
      "memory usage: 888.0+ bytes\n"
     ]
    }
   ],
   "source": [
    "ed.info()"
   ]
  },
  {
   "cell_type": "code",
   "execution_count": 7,
   "metadata": {
    "collapsed": true
   },
   "outputs": [],
   "source": [
    "date = pd.Timestamp(\"today\").strftime(\"%Y%m%d\")\n",
    "ed.to_csv('data_clean/{}_election_data.csv'.format(date))"
   ]
  },
  {
   "cell_type": "markdown",
   "metadata": {
    "collapsed": true
   },
   "source": [
    "### Change Management\n",
    "20180621\n",
    "- moved to a single scale for majority columns, Positive numbers indicate a Republican majority, Negative numbers indicate a Democrate majority."
   ]
  },
  {
   "cell_type": "code",
   "execution_count": null,
   "metadata": {
    "collapsed": true
   },
   "outputs": [],
   "source": []
  }
 ],
 "metadata": {
  "kernelspec": {
   "display_name": "Python 3",
   "language": "python",
   "name": "python3"
  },
  "language_info": {
   "codemirror_mode": {
    "name": "ipython",
    "version": 3
   },
   "file_extension": ".py",
   "mimetype": "text/x-python",
   "name": "python",
   "nbconvert_exporter": "python",
   "pygments_lexer": "ipython3",
   "version": "3.7.0"
  }
 },
 "nbformat": 4,
 "nbformat_minor": 2
}
